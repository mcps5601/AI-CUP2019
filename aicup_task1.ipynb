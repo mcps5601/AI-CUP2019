{
 "cells": [
  {
   "cell_type": "code",
   "execution_count": 1,
   "metadata": {},
   "outputs": [],
   "source": [
    "import pandas as pd\n",
    "import numpy as np\n",
    "import matplotlib.pyplot as plt\n",
    "%matplotlib inline\n",
    "import pickle, os, json, re, time\n",
    "\n",
    "import torch\n",
    "import torch.nn as nn\n",
    "import torch.nn.functional as F\n",
    "from torch.utils.data import Dataset, DataLoader\n",
    "from torch.utils.tensorboard import SummaryWriter\n",
    "\n",
    "from sklearn.utils import shuffle\n",
    "from sklearn.model_selection import train_test_split\n",
    "\n",
    "from tqdm import tqdm\n",
    "from tqdm import trange\n",
    "\n",
    "from gensim.parsing import remove_stopwords"
   ]
  },
  {
   "cell_type": "markdown",
   "metadata": {},
   "source": [
    "### Hyperparameter logging and tuning\n",
    "For tuning best models, you may need to save the used hyperparameters.<br />\n",
    "The two cells below make the logging convenient."
   ]
  },
  {
   "cell_type": "code",
   "execution_count": 2,
   "metadata": {},
   "outputs": [],
   "source": [
    "### Helper function for hyperparameters logging\n",
    "import configparser\n",
    "\n",
    "def write_config(filename, with_time=False):\n",
    "    config = configparser.ConfigParser()\n",
    "    config['DEFAULT'] = {'embedding_dim': embedding_dim,\n",
    "                         'hidden_dim': hidden_dim,\n",
    "                         'learning_rate': learning_rate,\n",
    "                         'max_epoch': max_epoch,\n",
    "                         'batch_size': batch_size}\n",
    "    \n",
    "    if with_time == False:\n",
    "        with open(\"{}.ini\".format(filename), 'w') as configfile:\n",
    "            config.write(configfile)            \n",
    "    else:\n",
    "        timestr = time.strftime(\"%Y%m%d_%H%M%S\")\n",
    "        with open(\"{}.ini\".format(filename + '_' + timestr), 'w') as configfile:\n",
    "            config.write(configfile)"
   ]
  },
  {
   "cell_type": "code",
   "execution_count": 3,
   "metadata": {},
   "outputs": [],
   "source": [
    "### Hyperparameters tuning\n",
    "\n",
    "embedding_dim = 100\n",
    "hidden_dim = 1024\n",
    "learning_rate = 1e-4\n",
    "max_epoch = 10\n",
    "batch_size = 16\n",
    "\n",
    "\n",
    "# write the hyperparameters into config.ini\n",
    "write_config(\"config\")\n",
    "\n",
    "# if you are lazy to rename the config file then uncomment the below line\n",
    "#write_config(\"config\", True)"
   ]
  },
  {
   "cell_type": "markdown",
   "metadata": {},
   "source": [
    "### Dataset pre-processing"
   ]
  },
  {
   "cell_type": "code",
   "execution_count": 4,
   "metadata": {},
   "outputs": [],
   "source": [
    "dataset = pd.read_csv('data/task1_trainset.csv', dtype=str)"
   ]
  },
  {
   "cell_type": "code",
   "execution_count": 5,
   "metadata": {},
   "outputs": [
    {
     "data": {
      "text/html": "<div>\n<style scoped>\n    .dataframe tbody tr th:only-of-type {\n        vertical-align: middle;\n    }\n\n    .dataframe tbody tr th {\n        vertical-align: top;\n    }\n\n    .dataframe thead th {\n        text-align: right;\n    }\n</style>\n<table border=\"1\" class=\"dataframe\">\n  <thead>\n    <tr style=\"text-align: right;\">\n      <th></th>\n      <th>Id</th>\n      <th>Title</th>\n      <th>Abstract</th>\n      <th>Authors</th>\n      <th>Categories</th>\n      <th>Created Date</th>\n      <th>Task 1</th>\n    </tr>\n  </thead>\n  <tbody>\n    <tr>\n      <th>0</th>\n      <td>D00001</td>\n      <td>A Brain-Inspired Trust Management Model to Ass...</td>\n      <td>Rapid popularity of Internet of Things (IoT) a...</td>\n      <td>Mahmud/Kaiser/Rahman/Rahman/Shabut/Al-Mamun/Hu...</td>\n      <td>cs.CR/cs.AI/q-bio.NC</td>\n      <td>2018-01-11</td>\n      <td>BACKGROUND OBJECTIVES METHODS METHODS RESULTS ...</td>\n    </tr>\n    <tr>\n      <th>1</th>\n      <td>D00002</td>\n      <td>On Efficient Computation of Shortest Dubins Pa...</td>\n      <td>In this paper, we address the problem of compu...</td>\n      <td>Sadeghi/Smith</td>\n      <td>cs.SY/cs.RO/math.OC</td>\n      <td>2016-09-21</td>\n      <td>OBJECTIVES OTHERS METHODS/RESULTS RESULTS RESULTS</td>\n    </tr>\n    <tr>\n      <th>2</th>\n      <td>D00003</td>\n      <td>Data-driven Upsampling of Point Clouds</td>\n      <td>High quality upsampling of sparse 3D point clo...</td>\n      <td>Zhang/Jiang/Yang/Yamakawa/Shimada/Kara</td>\n      <td>cs.CV</td>\n      <td>2018-07-07</td>\n      <td>BACKGROUND OBJECTIVES METHODS METHODS METHODS ...</td>\n    </tr>\n    <tr>\n      <th>3</th>\n      <td>D00004</td>\n      <td>Accessibility or Usability of InteractSE? A He...</td>\n      <td>Internet is the main source of information now...</td>\n      <td>Aqle/Khowaja/Al-Thani</td>\n      <td>cs.HC</td>\n      <td>2018-08-29</td>\n      <td>BACKGROUND BACKGROUND BACKGROUND OBJECTIVES OB...</td>\n    </tr>\n    <tr>\n      <th>4</th>\n      <td>D00005</td>\n      <td>Spatio-Temporal Facial Expression Recognition ...</td>\n      <td>Automated Facial Expression Recognition (FER) ...</td>\n      <td>Hasani/Mahoor</td>\n      <td>cs.CV</td>\n      <td>2017-03-20</td>\n      <td>BACKGROUND BACKGROUND BACKGROUND BACKGROUND ME...</td>\n    </tr>\n  </tbody>\n</table>\n</div>",
      "text/plain": "       Id                                              Title  \\\n0  D00001  A Brain-Inspired Trust Management Model to Ass...   \n1  D00002  On Efficient Computation of Shortest Dubins Pa...   \n2  D00003             Data-driven Upsampling of Point Clouds   \n3  D00004  Accessibility or Usability of InteractSE? A He...   \n4  D00005  Spatio-Temporal Facial Expression Recognition ...   \n\n                                            Abstract  \\\n0  Rapid popularity of Internet of Things (IoT) a...   \n1  In this paper, we address the problem of compu...   \n2  High quality upsampling of sparse 3D point clo...   \n3  Internet is the main source of information now...   \n4  Automated Facial Expression Recognition (FER) ...   \n\n                                             Authors            Categories  \\\n0  Mahmud/Kaiser/Rahman/Rahman/Shabut/Al-Mamun/Hu...  cs.CR/cs.AI/q-bio.NC   \n1                                      Sadeghi/Smith   cs.SY/cs.RO/math.OC   \n2             Zhang/Jiang/Yang/Yamakawa/Shimada/Kara                 cs.CV   \n3                              Aqle/Khowaja/Al-Thani                 cs.HC   \n4                                      Hasani/Mahoor                 cs.CV   \n\n  Created Date                                             Task 1  \n0   2018-01-11  BACKGROUND OBJECTIVES METHODS METHODS RESULTS ...  \n1   2016-09-21  OBJECTIVES OTHERS METHODS/RESULTS RESULTS RESULTS  \n2   2018-07-07  BACKGROUND OBJECTIVES METHODS METHODS METHODS ...  \n3   2018-08-29  BACKGROUND BACKGROUND BACKGROUND OBJECTIVES OB...  \n4   2017-03-20  BACKGROUND BACKGROUND BACKGROUND BACKGROUND ME...  "
     },
     "execution_count": 5,
     "metadata": {},
     "output_type": "execute_result"
    }
   ],
   "source": [
    "dataset.head()"
   ]
  },
  {
   "cell_type": "code",
   "execution_count": 6,
   "metadata": {},
   "outputs": [],
   "source": [
    "### Remove (current) redundant columns.\n",
    "\n",
    "dataset.drop('Title',axis=1,inplace=True)\n",
    "dataset.drop('Categories',axis=1,inplace=True)\n",
    "dataset.drop('Created Date',axis=1, inplace=True)\n",
    "dataset.drop('Authors',axis=1,inplace=True)\n",
    "dataset['Abstract'] = dataset['Abstract'].str.lower()\n",
    "#dataset['Task 1'] = dataset['Task 1'].str.lower()\n",
    "\n",
    "for i in range(len(dataset['Abstract'])):\n",
    "    dataset['Abstract'][i] = remove_stopwords(dataset['Abstract'][i])"
   ]
  },
  {
   "cell_type": "code",
   "execution_count": 7,
   "metadata": {},
   "outputs": [
    {
     "data": {
      "text/html": "<div>\n<style scoped>\n    .dataframe tbody tr th:only-of-type {\n        vertical-align: middle;\n    }\n\n    .dataframe tbody tr th {\n        vertical-align: top;\n    }\n\n    .dataframe thead th {\n        text-align: right;\n    }\n</style>\n<table border=\"1\" class=\"dataframe\">\n  <thead>\n    <tr style=\"text-align: right;\">\n      <th></th>\n      <th>Id</th>\n      <th>Abstract</th>\n      <th>Task 1</th>\n    </tr>\n  </thead>\n  <tbody>\n    <tr>\n      <th>0</th>\n      <td>D00001</td>\n      <td>rapid popularity internet things (iot) cloud c...</td>\n      <td>BACKGROUND OBJECTIVES METHODS METHODS RESULTS ...</td>\n    </tr>\n    <tr>\n      <th>1</th>\n      <td>D00002</td>\n      <td>paper, address problem computing optimal paths...</td>\n      <td>OBJECTIVES OTHERS METHODS/RESULTS RESULTS RESULTS</td>\n    </tr>\n    <tr>\n      <th>2</th>\n      <td>D00003</td>\n      <td>high quality upsampling sparse 3d point clouds...</td>\n      <td>BACKGROUND OBJECTIVES METHODS METHODS METHODS ...</td>\n    </tr>\n    <tr>\n      <th>3</th>\n      <td>D00004</td>\n      <td>internet main source information nowadays.$$$t...</td>\n      <td>BACKGROUND BACKGROUND BACKGROUND OBJECTIVES OB...</td>\n    </tr>\n    <tr>\n      <th>4</th>\n      <td>D00005</td>\n      <td>automated facial expression recognition (fer) ...</td>\n      <td>BACKGROUND BACKGROUND BACKGROUND BACKGROUND ME...</td>\n    </tr>\n  </tbody>\n</table>\n</div>",
      "text/plain": "       Id                                           Abstract  \\\n0  D00001  rapid popularity internet things (iot) cloud c...   \n1  D00002  paper, address problem computing optimal paths...   \n2  D00003  high quality upsampling sparse 3d point clouds...   \n3  D00004  internet main source information nowadays.$$$t...   \n4  D00005  automated facial expression recognition (fer) ...   \n\n                                              Task 1  \n0  BACKGROUND OBJECTIVES METHODS METHODS RESULTS ...  \n1  OBJECTIVES OTHERS METHODS/RESULTS RESULTS RESULTS  \n2  BACKGROUND OBJECTIVES METHODS METHODS METHODS ...  \n3  BACKGROUND BACKGROUND BACKGROUND OBJECTIVES OB...  \n4  BACKGROUND BACKGROUND BACKGROUND BACKGROUND ME...  "
     },
     "execution_count": 7,
     "metadata": {},
     "output_type": "execute_result"
    }
   ],
   "source": [
    "dataset.head()"
   ]
  },
  {
   "cell_type": "code",
   "execution_count": 8,
   "metadata": {},
   "outputs": [],
   "source": [
    "# set test_size=0.1 for validation split\n",
    "trainset, validset = train_test_split(dataset, test_size=0.1, random_state=42)\n",
    "\n",
    "trainset.to_csv('data/trainset.csv',index=False)\n",
    "validset.to_csv('data/validset.csv',index=False)"
   ]
  },
  {
   "cell_type": "code",
   "execution_count": 9,
   "metadata": {},
   "outputs": [],
   "source": [
    "dataset = pd.read_csv('data/task1_public_testset.csv', dtype=str)\n",
    "dataset.drop('Title',axis=1,inplace=True)\n",
    "dataset.drop('Categories',axis=1,inplace=True)\n",
    "dataset.drop('Created Date',axis=1, inplace=True)\n",
    "dataset.drop('Authors',axis=1,inplace=True)\n",
    "dataset.to_csv('data/testset.csv',index=False)"
   ]
  },
  {
   "cell_type": "markdown",
   "metadata": {},
   "source": [
    "### Collect words and create the dictionary"
   ]
  },
  {
   "cell_type": "code",
   "execution_count": 10,
   "metadata": {},
   "outputs": [],
   "source": [
    "from multiprocessing import Pool\n",
    "from nltk.tokenize import word_tokenize\n",
    "\n",
    "def collect_words(data_path, n_workers=4):\n",
    "    df = pd.read_csv(data_path, dtype=str)\n",
    "        \n",
    "    sent_list = []\n",
    "    for i in df.iterrows():\n",
    "        sent_list += i[1]['Abstract'].split('$$$')\n",
    "\n",
    "    chunks = [\n",
    "        ' '.join(sent_list[i:i + len(sent_list) // n_workers])\n",
    "        for i in range(0, len(sent_list), len(sent_list) // n_workers)\n",
    "    ]\n",
    "    with Pool(n_workers) as pool:\n",
    "        chunks = pool.map_async(word_tokenize, chunks)\n",
    "        words = set(sum(chunks.get(), []))\n",
    "\n",
    "    return words"
   ]
  },
  {
   "cell_type": "code",
   "execution_count": 11,
   "metadata": {},
   "outputs": [],
   "source": [
    "words = set()\n",
    "words |= collect_words('data/trainset.csv')"
   ]
  },
  {
   "cell_type": "code",
   "execution_count": 12,
   "metadata": {},
   "outputs": [],
   "source": [
    "PAD_TOKEN = 0\n",
    "UNK_TOKEN = 1\n",
    "word_dict = {'<pad>':PAD_TOKEN,'<unk>':UNK_TOKEN}\n",
    "for word in words:\n",
    "    word_dict[word]=len(word_dict)"
   ]
  },
  {
   "cell_type": "code",
   "execution_count": 13,
   "metadata": {},
   "outputs": [],
   "source": [
    "with open('dicitonary.pkl','wb') as f:\n",
    "    pickle.dump(word_dict, f)"
   ]
  },
  {
   "cell_type": "markdown",
   "metadata": {},
   "source": [
    "### Download Glove pretrained word embedding from web.\n",
    "\n",
    "http://nlp.stanford.edu/data/glove.6B.zip"
   ]
  },
  {
   "cell_type": "code",
   "execution_count": 14,
   "metadata": {},
   "outputs": [],
   "source": [
    "import requests, zipfile, io, os\n",
    "if not os.path.exists('glove'):\n",
    "    os.mkdir('glove')\n",
    "    r = requests.get('http://nlp.stanford.edu/data/glove.6B.zip')\n",
    "    z = zipfile.ZipFile(io.BytesIO(r.content))\n",
    "    z.extractall(path='glove')"
   ]
  },
  {
   "cell_type": "markdown",
   "metadata": {},
   "source": [
    "### Parsing the GloVe word-embeddings file\n",
    "\n",
    "Parse the unzipped file (a .txt file) to build an index that maps words (as strings) to their vector representation (as number vectors)"
   ]
  },
  {
   "cell_type": "code",
   "execution_count": 15,
   "metadata": {},
   "outputs": [
    {
     "name": "stdout",
     "output_type": "stream",
     "text": "Found 400000 word vectors.\n"
    }
   ],
   "source": [
    "### Parsing the GloVe word-embeddings file\n",
    "# Parse the unzipped file (a .txt file) to build an index that maps words (as strings) to their vector representation (as number vectors)\n",
    "\n",
    "wordvector_path = 'glove/glove.6B.100d.txt'\n",
    "embeddings_index = {}\n",
    "f = open(wordvector_path)\n",
    "for line in f:\n",
    "    values = line.split()\n",
    "    word = values[0]\n",
    "    coefs = np.asarray(values[1:], dtype='float32')\n",
    "    embeddings_index[word] = coefs\n",
    "f.close()\n",
    "print('Found %s word vectors.' % len(embeddings_index))"
   ]
  },
  {
   "cell_type": "code",
   "execution_count": 16,
   "metadata": {},
   "outputs": [],
   "source": [
    "### Preparing the GloVe word-embeddings matrix\n",
    "\n",
    "max_words = len(word_dict)\n",
    "embedding_matrix = np.zeros((max_words, embedding_dim))\n",
    "for word, i in word_dict.items():\n",
    "    if i < max_words:\n",
    "        embedding_vector = embeddings_index.get(word)\n",
    "        if embedding_vector is not None:\n",
    "            embedding_matrix[i] = embedding_vector"
   ]
  },
  {
   "cell_type": "code",
   "execution_count": 17,
   "metadata": {},
   "outputs": [],
   "source": [
    "embedding_matrix = torch.FloatTensor(embedding_matrix)"
   ]
  },
  {
   "cell_type": "markdown",
   "execution_count": null,
   "metadata": {},
   "outputs": [],
   "source": [
    "### Data Formatting\n",
    "建立完字典後，我們要將 data 切成數個 batch，並且將輸入的句子轉成數字，將答案轉成 onehot vector。\n",
    "- `label_to_onehot(labels)`:  \n",
    "    將 datasert 中的 label string 轉成 onehot encoding vector。  \n",
    "- `sentence_to_indices(sentence, word_dict)`:  \n",
    "    將輸入的句子中每個 word 轉成字典中對應的 index  \n",
    "    ex : 'i love ncku' -> $[1,2,3]$\n",
    "- `get_dataset(data_path, word_dict, n_workers=4)`:  \n",
    "    將 dataset 讀入\n",
    "- `preprocess_samples(dataset, word_dict)`:  \n",
    "    傳入所有 input sentences 並進行 data preprocessing  \n",
    "- `preprocess_sample(data, word_dict)`:  \n",
    "    主要透過這個 function 移除存在於 'Abstract' 中的 `$` 符號  \n",
    "    並將 'Label' 轉成 onehot encoding vector。"
   ]
  },
  {
   "cell_type": "code",
   "execution_count": 18,
   "metadata": {},
   "outputs": [],
   "source": [
    "def label_to_onehot(labels):\n",
    "    \"\"\" Convert label to onehot .\n",
    "        Args:\n",
    "            labels (string): sentence's labels.\n",
    "        Return:\n",
    "            outputs (onehot list): sentence's onehot label.\n",
    "    \"\"\"\n",
    "    label_dict = {'BACKGROUND': 0, 'OBJECTIVES':1, 'METHODS':2, 'RESULTS':3, 'CONCLUSIONS':4, 'OTHERS':5}\n",
    "    onehot = [0,0,0,0,0,0]\n",
    "    for l in labels.split('/'):\n",
    "        onehot[label_dict[l]] = 1\n",
    "    return onehot\n",
    "        \n",
    "def sentence_to_indices(sentence, word_dict):\n",
    "    \"\"\" Convert sentence to its word indices.\n",
    "    Args:\n",
    "        sentence (str): One string.\n",
    "    Return:\n",
    "        indices (list of int): List of word indices.\n",
    "    \"\"\"\n",
    "    return [word_dict.get(word,UNK_TOKEN) for word in word_tokenize(sentence)]\n",
    "    \n",
    "def get_dataset(data_path, word_dict, n_workers=4):\n",
    "    \"\"\" Load data and return dataset for training and validating.\n",
    "\n",
    "    Args:\n",
    "        data_path (str): Path to the data.\n",
    "    \"\"\"\n",
    "    dataset = pd.read_csv(data_path, dtype=str)\n",
    "\n",
    "    results = [None] * n_workers\n",
    "    with Pool(processes=n_workers) as pool:\n",
    "        for i in range(n_workers):\n",
    "            batch_start = (len(dataset) // n_workers) * i\n",
    "            if i == n_workers - 1:\n",
    "                batch_end = len(dataset)\n",
    "            else:\n",
    "                batch_end = (len(dataset) // n_workers) * (i + 1)\n",
    "            \n",
    "            batch = dataset[batch_start: batch_end]\n",
    "            results[i] = pool.apply_async(preprocess_samples, args=(batch,word_dict))\n",
    "\n",
    "        pool.close()\n",
    "        pool.join()\n",
    "\n",
    "    processed = []\n",
    "    for result in results:\n",
    "        processed += result.get()\n",
    "    return processed\n",
    "\n",
    "def preprocess_samples(dataset, word_dict):\n",
    "    \"\"\" Worker function.\n",
    "\n",
    "    Args:\n",
    "        dataset (list of dict)\n",
    "    Returns:\n",
    "        list of processed dict.\n",
    "    \"\"\"\n",
    "    processed = []\n",
    "    for sample in tqdm(dataset.iterrows(), total=len(dataset)):\n",
    "        processed.append(preprocess_sample(sample[1], word_dict))\n",
    "\n",
    "    return processed\n",
    "\n",
    "def preprocess_sample(data, word_dict):\n",
    "    \"\"\"\n",
    "    Args:\n",
    "        data (dict)\n",
    "    Returns:\n",
    "        dict\n",
    "    \"\"\"\n",
    "    ## clean abstracts by removing $$$\n",
    "    processed = {}\n",
    "    processed['Abstract'] = [sentence_to_indices(sent, word_dict) for sent in data['Abstract'].split('$$$')]\n",
    "    \n",
    "    ## convert the labels into one-hot encoding\n",
    "    if 'Task 1' in data:\n",
    "        processed['Label'] = [label_to_onehot(label) for label in data['Task 1'].split(' ')]\n",
    "        \n",
    "    return processed"
   ]
  },
  {
   "cell_type": "code",
   "execution_count": 19,
   "metadata": {},
   "outputs": [
    {
     "name": "stdout",
     "output_type": "stream",
     "text": "[INFO] Start processing trainset...\n100%|██████████| 1575/1575 [00:01<00:00, 1046.83it/s]\n100%|██████████| 1575/1575 [00:01<00:00, 1050.62it/s]\n100%|██████████| 1575/1575 [00:01<00:00, 1052.28it/s]\n100%|██████████| 1575/1575 [00:01<00:00, 1043.85it/s]\n[INFO] Start processing validset...\n100%|██████████| 175/175 [00:00<00:00, 993.00it/s]\n100%|██████████| 175/175 [00:00<00:00, 949.10it/s]\n100%|██████████| 175/175 [00:00<00:00, 870.95it/s]\n100%|██████████| 175/175 [00:00<00:00, 879.71it/s]\n[INFO] Start processing testset...\n100%|██████████| 5000/5000 [00:05<00:00, 933.10it/s]\n100%|██████████| 5000/5000 [00:05<00:00, 924.88it/s]\n100%|██████████| 5000/5000 [00:05<00:00, 925.74it/s]\n100%|██████████| 5000/5000 [00:05<00:00, 918.69it/s]\n"
    }
   ],
   "source": [
    "print('[INFO] Start processing trainset...')\n",
    "train = get_dataset('data/trainset.csv', word_dict, n_workers=4)\n",
    "print('[INFO] Start processing validset...')\n",
    "valid = get_dataset('data/validset.csv', word_dict, n_workers=4)\n",
    "print('[INFO] Start processing testset...')\n",
    "test = get_dataset('data/testset.csv', word_dict, n_workers=4)"
   ]
  },
  {
   "cell_type": "code",
   "execution_count": 20,
   "metadata": {},
   "outputs": [],
   "source": [
    "class AbstractDataset(Dataset):\n",
    "    def __init__(self, data, pad_idx, max_len = 500):\n",
    "        self.data = data\n",
    "        self.pad_idx = pad_idx\n",
    "        self.max_len = max_len\n",
    "    def __len__(self):\n",
    "        return len(self.data)\n",
    "\n",
    "    def __getitem__(self, index):\n",
    "        return self.data[index]\n",
    "        \n",
    "    def collate_fn(self, datas):\n",
    "        # get max length in this batch\n",
    "        max_sent = max([len(data['Abstract']) for data in datas])\n",
    "        max_len = max([min(len(sentence), self.max_len) for data in datas for sentence in data['Abstract']])\n",
    "        batch_abstract = []\n",
    "        batch_label = []\n",
    "        sent_len = []\n",
    "        for data in datas:\n",
    "            # padding abstract to make them in same length\n",
    "            pad_abstract = []\n",
    "            for sentence in data['Abstract']:\n",
    "                if len(sentence) > max_len:\n",
    "                    pad_abstract.append(sentence[:max_len])\n",
    "                else:\n",
    "                    pad_abstract.append(sentence+[self.pad_idx]*(max_len-len(sentence)))\n",
    "            sent_len.append(len(pad_abstract))\n",
    "            pad_abstract.extend([[self.pad_idx]*max_len]*(max_sent-len(pad_abstract)))\n",
    "            batch_abstract.append(pad_abstract)\n",
    "            # gather labels\n",
    "            if 'Label' in data:\n",
    "                pad_label = data['Label']\n",
    "                pad_label.extend([[0]*6]*(max_sent-len(pad_label)))\n",
    "                \n",
    "                batch_label.append(pad_label)\n",
    "        return torch.LongTensor(batch_abstract), torch.FloatTensor(batch_label), sent_len"
   ]
  },
  {
   "cell_type": "code",
   "execution_count": 21,
   "metadata": {},
   "outputs": [],
   "source": [
    "trainData = AbstractDataset(train, PAD_TOKEN, max_len = 64)\n",
    "validData = AbstractDataset(valid, PAD_TOKEN, max_len = 64)\n",
    "testData = AbstractDataset(test, PAD_TOKEN, max_len = 64)"
   ]
  },
  {
   "cell_type": "code",
   "execution_count": 22,
   "metadata": {},
   "outputs": [],
   "source": [
    "class Net(nn.Module):\n",
    "    def __init__(self, vocabulary_size):\n",
    "        super(Net, self).__init__()\n",
    "        self.embedding_size = embedding_dim\n",
    "        self.hidden_dim = hidden_dim\n",
    "        self.embedding = nn.Embedding(vocabulary_size, self.embedding_size)\n",
    "        self.embedding.weight = torch.nn.Parameter(embedding_matrix)\n",
    "        self.sent_rnn = nn.GRU(self.embedding_size,\n",
    "                                self.hidden_dim,\n",
    "                                bidirectional=True,\n",
    "                                batch_first=True)\n",
    "        \n",
    "        self.l1 = nn.Linear(self.hidden_dim*2, self.hidden_dim)\n",
    "        torch.nn.init.xavier_normal_(self.l1.weight)\n",
    "        #self.layernorm1 = nn.LayerNorm(self.hidden_dim*2)\n",
    "        #self.layernorm2 = nn.LayerNorm(self.hidden_dim)\n",
    "        self.l2 = nn.Linear(self.hidden_dim, 6)\n",
    "\n",
    "    # b: batch_size\n",
    "    # s: number of sentences\n",
    "    # w: number of words\n",
    "    # e: embedding_dim\n",
    "    def forward(self, x):\n",
    "        x = self.embedding(x)\n",
    "        b,s,w,e = x.shape\n",
    "        x = x.view(b,s*w,e)\n",
    "        x, __ = self.sent_rnn(x)\n",
    "        x = x.view(b,s,w,-1)\n",
    "        x = torch.max(x,dim=2)[0]\n",
    "        #final_ht = x[-1]\n",
    "        \n",
    "        #x = self.layernorm1(x)\n",
    "        \n",
    "        x = torch.relu(self.l1(x))\n",
    "        \n",
    "        #x = self.layernorm2(x)\n",
    "        \n",
    "        x = torch.sigmoid(self.l2(x))\n",
    "        return x"
   ]
  },
  {
   "cell_type": "code",
   "execution_count": 23,
   "metadata": {},
   "outputs": [],
   "source": [
    "device = torch.device('cuda' if torch.cuda.is_available() else 'cpu')"
   ]
  },
  {
   "cell_type": "code",
   "execution_count": 24,
   "metadata": {},
   "outputs": [],
   "source": [
    "### Helper functions for scoring\n",
    "\n",
    "class F1():\n",
    "    def __init__(self):\n",
    "        self.threshold = 0.5\n",
    "        self.n_precision = 0\n",
    "        self.n_recall = 0\n",
    "        self.n_corrects = 0\n",
    "        self.name = 'F1'\n",
    "\n",
    "    def reset(self):\n",
    "        self.n_precision = 0\n",
    "        self.n_recall = 0\n",
    "        self.n_corrects = 0\n",
    "\n",
    "    def update(self, predicts, groundTruth):\n",
    "        predicts = predicts > self.threshold\n",
    "        self.n_precision += torch.sum(predicts).data.item()\n",
    "        self.n_recall += torch.sum(groundTruth).data.item()\n",
    "        self.n_corrects += torch.sum(groundTruth.type(torch.bool) * predicts).data.item()\n",
    "\n",
    "    def get_score(self):\n",
    "        recall = self.n_corrects / self.n_recall\n",
    "        precision = self.n_corrects / (self.n_precision + 1e-20)\n",
    "        return 2 * (recall * precision) / (recall + precision + 1e-20)\n",
    "\n",
    "    def print_score(self):\n",
    "        score = self.get_score()\n",
    "        return '{:.5f}'.format(score)"
   ]
  },
  {
   "cell_type": "code",
   "execution_count": 29,
   "metadata": {},
   "outputs": [],
   "source": [
    "def _run_epoch(epoch, mode):\n",
    "    model.train(True)\n",
    "    if mode==\"train\":\n",
    "        description = 'Train'\n",
    "        dataset = trainData\n",
    "        shuffle = True\n",
    "    else:\n",
    "        description = 'Valid'\n",
    "        dataset = validData\n",
    "        shuffle = False\n",
    "    dataloader = DataLoader(dataset=dataset,\n",
    "                            batch_size=batch_size,\n",
    "                            shuffle=shuffle,\n",
    "                            collate_fn=dataset.collate_fn,\n",
    "                            num_workers=8)\n",
    "\n",
    "    trange = tqdm(enumerate(dataloader), total=len(dataloader), desc=description)\n",
    "    loss = 0\n",
    "    f1_score = F1()\n",
    "    for i, (x, y, sent_len) in trange:\n",
    "        o_labels, batch_loss = _run_iter(x,y)\n",
    "        if epoch == 0:\n",
    "            writer.add_graph(model, x.to(device))\n",
    "        if mode==\"train\":\n",
    "            opt.zero_grad()\n",
    "            batch_loss.backward()\n",
    "            opt.step()\n",
    "\n",
    "        loss += batch_loss.item()\n",
    "        f1_score.update(o_labels.cpu(), y)\n",
    "\n",
    "        trange.set_postfix(\n",
    "            loss=loss / (i + 1), f1=f1_score.print_score())\n",
    "    \n",
    "    # Tensorboard\n",
    "    if mode==\"train\":\n",
    "        history['train'].append({'f1':f1_score.get_score(), 'loss':loss/ len(trange)})\n",
    "        writer.add_scalar('Loss/train', loss/ len(trange), epoch)\n",
    "        writer.add_scalar('F1_score/train', f1_score.get_score(), epoch)\n",
    "    else:\n",
    "        history['valid'].append({'f1':f1_score.get_score(), 'loss':loss/ len(trange)})\n",
    "        writer.add_scalar('Loss/valid', loss/ len(trange), epoch)\n",
    "        writer.add_scalar('F1_score/valid', f1_score.get_score(), epoch)\n",
    "    trange.close()\n",
    "    \n",
    "\n",
    "def _run_iter(x,y):\n",
    "    abstract = x.to(device)\n",
    "    labels = y.to(device)\n",
    "    o_labels = model(abstract)\n",
    "    l_loss = criteria(o_labels, labels)\n",
    "    return o_labels, l_loss\n",
    "\n",
    "def save(epoch):\n",
    "    if not os.path.exists('model'):\n",
    "        os.makedirs('model')\n",
    "    torch.save(model.state_dict(), 'model/model.pkl.'+str(epoch))\n",
    "    with open('model/history.json', 'w') as f:\n",
    "        json.dump(history, f, indent=4)"
   ]
  },
  {
   "cell_type": "code",
   "execution_count": 30,
   "metadata": {},
   "outputs": [
    {
     "name": "stdout",
     "output_type": "stream",
     "text": "ss=0.15]\u001b[A\nTrain:  75%|███████▌  | 296/394 [00:37<00:13,  7.13it/s, f1=0.70292, loss=0.15]\u001b[A\nTrain:  75%|███████▌  | 297/394 [00:37<00:13,  7.33it/s, f1=0.70292, loss=0.15]\u001b[A\nTrain:  75%|███████▌  | 297/394 [00:37<00:13,  7.33it/s, f1=0.70286, loss=0.15]\u001b[A\nTrain:  76%|███████▌  | 298/394 [00:37<00:14,  6.42it/s, f1=0.70286, loss=0.15]\u001b[A\nTrain:  76%|███████▌  | 298/394 [00:37<00:14,  6.42it/s, f1=0.70303, loss=0.15]\u001b[A\nTrain:  76%|███████▌  | 298/394 [00:37<00:14,  6.42it/s, f1=0.70296, loss=0.15]\u001b[A\nTrain:  76%|███████▌  | 300/394 [00:37<00:12,  7.28it/s, f1=0.70296, loss=0.15]\u001b[A\nTrain:  76%|███████▌  | 300/394 [00:37<00:12,  7.28it/s, f1=0.70311, loss=0.15]\u001b[A\nTrain:  76%|███████▌  | 300/394 [00:37<00:12,  7.28it/s, f1=0.70312, loss=0.15]\u001b[A\nTrain:  77%|███████▋  | 302/394 [00:37<00:11,  7.92it/s, f1=0.70312, loss=0.15]\u001b[A\nTrain:  77%|███████▋  | 302/394 [00:37<00:11,  7.92it/s, f1=0.70322, loss=0.15]\u001b[A\nTrain:  77%|███████▋  | 303/394 [00:37<00:10,  8.37it/s, f1=0.70322, loss=0.15]\u001b[A\nTrain:  77%|███████▋  | 303/394 [00:37<00:10,  8.37it/s, f1=0.70324, loss=0.15]\u001b[A\nTrain:  77%|███████▋  | 303/394 [00:37<00:10,  8.37it/s, f1=0.70339, loss=0.15]\u001b[A\nTrain:  77%|███████▋  | 305/394 [00:37<00:11,  8.00it/s, f1=0.70339, loss=0.15]\u001b[A\nTrain:  77%|███████▋  | 305/394 [00:38<00:11,  8.00it/s, f1=0.70332, loss=0.15]\u001b[A\nTrain:  78%|███████▊  | 306/394 [00:38<00:10,  8.40it/s, f1=0.70332, loss=0.15]\u001b[A\nTrain:  78%|███████▊  | 306/394 [00:38<00:10,  8.40it/s, f1=0.70334, loss=0.15]\u001b[A\nTrain:  78%|███████▊  | 307/394 [00:38<00:11,  7.74it/s, f1=0.70334, loss=0.15]\u001b[A\nTrain:  78%|███████▊  | 307/394 [00:38<00:11,  7.74it/s, f1=0.70341, loss=0.15]\u001b[A\nTrain:  78%|███████▊  | 308/394 [00:38<00:10,  8.19it/s, f1=0.70341, loss=0.15]\u001b[A\nTrain:  78%|███████▊  | 308/394 [00:38<00:10,  8.19it/s, f1=0.70314, loss=0.15]\u001b[A\nTrain:  78%|███████▊  | 309/394 [00:38<00:10,  8.34it/s, f1=0.70314, loss=0.15]\u001b[A\nTrain:  78%|███████▊  | 309/394 [00:38<00:10,  8.34it/s, f1=0.70296, loss=0.15]\u001b[A\nTrain:  79%|███████▊  | 310/394 [00:38<00:11,  7.44it/s, f1=0.70296, loss=0.15]\u001b[A\nTrain:  79%|███████▊  | 310/394 [00:38<00:11,  7.44it/s, f1=0.70308, loss=0.15]\u001b[A\nTrain:  79%|███████▉  | 311/394 [00:38<00:10,  7.82it/s, f1=0.70308, loss=0.15]\u001b[A\nTrain:  79%|███████▉  | 311/394 [00:38<00:10,  7.82it/s, f1=0.70321, loss=0.15]\u001b[A\nTrain:  79%|███████▉  | 312/394 [00:38<00:10,  8.09it/s, f1=0.70321, loss=0.15]\u001b[A\nTrain:  79%|███████▉  | 312/394 [00:38<00:10,  8.09it/s, f1=0.70320, loss=0.15]\u001b[A\nTrain:  79%|███████▉  | 313/394 [00:39<00:10,  7.70it/s, f1=0.70320, loss=0.15]\u001b[A\nTrain:  79%|███████▉  | 313/394 [00:39<00:10,  7.70it/s, f1=0.70323, loss=0.15]\u001b[A\nTrain:  80%|███████▉  | 314/394 [00:39<00:10,  7.60it/s, f1=0.70323, loss=0.15]\u001b[A\nTrain:  80%|███████▉  | 314/394 [00:39<00:10,  7.60it/s, f1=0.70334, loss=0.15]\u001b[A\nTrain:  80%|███████▉  | 315/394 [00:39<00:10,  7.75it/s, f1=0.70334, loss=0.15]\u001b[A\nTrain:  80%|███████▉  | 315/394 [00:39<00:10,  7.75it/s, f1=0.70333, loss=0.15]\u001b[A\nTrain:  80%|████████  | 316/394 [00:39<00:10,  7.41it/s, f1=0.70333, loss=0.15]\u001b[A\nTrain:  80%|████████  | 316/394 [00:39<00:10,  7.41it/s, f1=0.70330, loss=0.15]\u001b[A\nTrain:  80%|████████  | 317/394 [00:39<00:11,  7.00it/s, f1=0.70330, loss=0.15]\u001b[A\nTrain:  80%|████████  | 317/394 [00:39<00:11,  7.00it/s, f1=0.70344, loss=0.15]\u001b[A\nTrain:  81%|████████  | 318/394 [00:39<00:11,  6.83it/s, f1=0.70344, loss=0.15]\u001b[A\nTrain:  81%|████████  | 318/394 [00:39<00:11,  6.83it/s, f1=0.70356, loss=0.15]\u001b[A\nTrain:  81%|████████  | 318/394 [00:39<00:11,  6.83it/s, f1=0.70345, loss=0.15]\u001b[A\nTrain:  81%|████████  | 320/394 [00:39<00:09,  7.42it/s, f1=0.70345, loss=0.15]\u001b[A\nTrain:  81%|████████  | 320/394 [00:40<00:09,  7.42it/s, f1=0.70363, loss=0.15]\u001b[A\nTrain:  81%|████████▏ | 321/394 [00:40<00:10,  7.20it/s, f1=0.70363, loss=0.15]\u001b[A\nTrain:  81%|████████▏ | 321/394 [00:40<00:10,  7.20it/s, f1=0.70359, loss=0.15]\u001b[A\nTrain:  82%|████████▏ | 322/394 [00:40<00:10,  7.06it/s, f1=0.70359, loss=0.15]\u001b[A\nTrain:  82%|████████▏ | 322/394 [00:40<00:10,  7.06it/s, f1=0.70379, loss=0.15]\u001b[A\nTrain:  82%|████████▏ | 323/394 [00:40<00:10,  6.90it/s, f1=0.70379, loss=0.15]\u001b[A\nTrain:  82%|████████▏ | 323/394 [00:40<00:10,  6.90it/s, f1=0.70389, loss=0.15]\u001b[A\nTrain:  82%|████████▏ | 324/394 [00:40<00:09,  7.29it/s, f1=0.70389, loss=0.15]\u001b[A\nTrain:  82%|████████▏ | 324/394 [00:40<00:09,  7.29it/s, f1=0.70394, loss=0.15]\u001b[A\nTrain:  82%|████████▏ | 325/394 [00:40<00:10,  6.64it/s, f1=0.70394, loss=0.15]\u001b[A\nTrain:  82%|████████▏ | 325/394 [00:40<00:10,  6.64it/s, f1=0.70397, loss=0.15]\u001b[A\nTrain:  82%|████████▏ | 325/394 [00:40<00:10,  6.64it/s, f1=0.70397, loss=0.15]\u001b[A\nTrain:  83%|████████▎ | 327/394 [00:40<00:09,  7.44it/s, f1=0.70397, loss=0.15]\u001b[A\nTrain:  83%|████████▎ | 327/394 [00:41<00:09,  7.44it/s, f1=0.70389, loss=0.15]\u001b[A\nTrain:  83%|████████▎ | 328/394 [00:41<00:08,  7.41it/s, f1=0.70389, loss=0.15]\u001b[A\nTrain:  83%|████████▎ | 328/394 [00:41<00:08,  7.41it/s, f1=0.70402, loss=0.15]\u001b[A\nTrain:  83%|████████▎ | 328/394 [00:41<00:08,  7.41it/s, f1=0.70401, loss=0.15]\u001b[A\nTrain:  84%|████████▍ | 330/394 [00:41<00:08,  7.93it/s, f1=0.70401, loss=0.15]\u001b[A\nTrain:  84%|████████▍ | 330/394 [00:41<00:08,  7.93it/s, f1=0.70403, loss=0.15]\u001b[A\nTrain:  84%|████████▍ | 331/394 [00:41<00:08,  7.79it/s, f1=0.70403, loss=0.15]\u001b[A\nTrain:  84%|████████▍ | 331/394 [00:41<00:08,  7.79it/s, f1=0.70405, loss=0.15]\u001b[A\nTrain:  84%|████████▍ | 331/394 [00:41<00:08,  7.79it/s, f1=0.70387, loss=0.15]\u001b[A\nTrain:  85%|████████▍ | 333/394 [00:41<00:07,  7.94it/s, f1=0.70387, loss=0.15]\u001b[A\nTrain:  85%|████████▍ | 333/394 [00:41<00:07,  7.94it/s, f1=0.70386, loss=0.15]\u001b[A\nTrain:  85%|████████▍ | 334/394 [00:41<00:07,  8.18it/s, f1=0.70386, loss=0.15]\u001b[A\nTrain:  85%|████████▍ | 334/394 [00:41<00:07,  8.18it/s, f1=0.70392, loss=0.15]\u001b[A\nTrain:  85%|████████▍ | 334/394 [00:41<00:07,  8.18it/s, f1=0.70389, loss=0.15]\u001b[A\nTrain:  85%|████████▌ | 336/394 [00:41<00:07,  8.05it/s, f1=0.70389, loss=0.15]\u001b[A\nTrain:  85%|████████▌ | 336/394 [00:42<00:07,  8.05it/s, f1=0.70399, loss=0.15]\u001b[A\nTrain:  86%|████████▌ | 337/394 [00:42<00:08,  7.10it/s, f1=0.70399, loss=0.15]\u001b[A\nTrain:  86%|████████▌ | 337/394 [00:42<00:08,  7.10it/s, f1=0.70418, loss=0.15]\u001b[A\nTrain:  86%|████████▌ | 338/394 [00:42<00:07,  7.20it/s, f1=0.70418, loss=0.15]\u001b[A\nTrain:  86%|████████▌ | 338/394 [00:42<00:07,  7.20it/s, f1=0.70430, loss=0.15]\u001b[A\nTrain:  86%|████████▌ | 338/394 [00:42<00:07,  7.20it/s, f1=0.70431, loss=0.15]\u001b[A\nTrain:  86%|████████▋ | 340/394 [00:42<00:07,  7.61it/s, f1=0.70431, loss=0.15]\u001b[A\nTrain:  86%|████████▋ | 340/394 [00:42<00:07,  7.61it/s, f1=0.70450, loss=0.15]\u001b[A\nTrain:  87%|████████▋ | 341/394 [00:42<00:08,  6.62it/s, f1=0.70450, loss=0.15]\u001b[A\nTrain:  87%|████████▋ | 341/394 [00:42<00:08,  6.62it/s, f1=0.70448, loss=0.15]\u001b[A\nTrain:  87%|████████▋ | 342/394 [00:42<00:07,  6.75it/s, f1=0.70448, loss=0.15]\u001b[A\nTrain:  87%|████████▋ | 342/394 [00:43<00:07,  6.75it/s, f1=0.70454, loss=0.15]\u001b[A\nTrain:  87%|████████▋ | 343/394 [00:43<00:07,  6.51it/s, f1=0.70454, loss=0.15]\u001b[A\nTrain:  87%|████████▋ | 343/394 [00:43<00:07,  6.51it/s, f1=0.70449, loss=0.15]\u001b[A\nTrain:  87%|████████▋ | 343/394 [00:43<00:07,  6.51it/s, f1=0.70430, loss=0.15]\u001b[A\nTrain:  88%|████████▊ | 345/394 [00:43<00:06,  7.20it/s, f1=0.70430, loss=0.15]\u001b[A\nTrain:  88%|████████▊ | 345/394 [00:43<00:06,  7.20it/s, f1=0.70446, loss=0.15]\u001b[A\nTrain:  88%|████████▊ | 346/394 [00:43<00:06,  7.06it/s, f1=0.70446, loss=0.15]\u001b[A\nTrain:  88%|████████▊ | 346/394 [00:43<00:06,  7.06it/s, f1=0.70447, loss=0.15]\u001b[A\nTrain:  88%|████████▊ | 346/394 [00:43<00:06,  7.06it/s, f1=0.70456, loss=0.15]\u001b[A\nTrain:  88%|████████▊ | 348/394 [00:43<00:06,  7.19it/s, f1=0.70456, loss=0.15]\u001b[A\nTrain:  88%|████████▊ | 348/394 [00:43<00:06,  7.19it/s, f1=0.70462, loss=0.15]\u001b[A\nTrain:  88%|████████▊ | 348/394 [00:43<00:06,  7.19it/s, f1=0.70469, loss=0.15]\u001b[A\nTrain:  89%|████████▉ | 350/394 [00:43<00:05,  7.78it/s, f1=0.70469, loss=0.15]\u001b[A\nTrain:  89%|████████▉ | 350/394 [00:43<00:05,  7.78it/s, f1=0.70503, loss=0.15]\u001b[A\nTrain:  89%|████████▉ | 351/394 [00:43<00:05,  8.14it/s, f1=0.70503, loss=0.15]\u001b[A\nTrain:  89%|████████▉ | 351/394 [00:44<00:05,  8.14it/s, f1=0.70503, loss=0.15]\u001b[A\nTrain:  89%|████████▉ | 352/394 [00:44<00:05,  7.82it/s, f1=0.70503, loss=0.15]\u001b[A\nTrain:  89%|████████▉ | 352/394 [00:44<00:05,  7.82it/s, f1=0.70525, loss=0.15]\u001b[A\nTrain:  90%|████████▉ | 353/394 [00:44<00:06,  6.45it/s, f1=0.70525, loss=0.15]\u001b[A\nTrain:  90%|████████▉ | 353/394 [00:44<00:06,  6.45it/s, f1=0.70544, loss=0.15]\u001b[A\nTrain:  90%|████████▉ | 353/394 [00:44<00:06,  6.45it/s, f1=0.70537, loss=0.15]\u001b[A\nTrain:  90%|█████████ | 355/394 [00:44<00:05,  7.42it/s, f1=0.70537, loss=0.15]\u001b[A\nTrain:  90%|█████████ | 355/394 [00:44<00:05,  7.42it/s, f1=0.70530, loss=0.15]\u001b[A\nTrain:  90%|█████████ | 355/394 [00:44<00:05,  7.42it/s, f1=0.70515, loss=0.15]\u001b[A\nTrain:  91%|█████████ | 357/394 [00:44<00:04,  8.33it/s, f1=0.70515, loss=0.15]\u001b[A\nTrain:  91%|█████████ | 357/394 [00:44<00:04,  8.33it/s, f1=0.70502, loss=0.15]\u001b[A\nTrain:  91%|█████████ | 358/394 [00:44<00:04,  8.19it/s, f1=0.70502, loss=0.15]\u001b[A\nTrain:  91%|█████████ | 358/394 [00:44<00:04,  8.19it/s, f1=0.70493, loss=0.15]\u001b[A\nTrain:  91%|█████████ | 359/394 [00:44<00:04,  7.54it/s, f1=0.70493, loss=0.15]\u001b[A\nTrain:  91%|█████████ | 359/394 [00:45<00:04,  7.54it/s, f1=0.70482, loss=0.15]\u001b[A\nTrain:  91%|█████████▏| 360/394 [00:45<00:04,  7.99it/s, f1=0.70482, loss=0.15]\u001b[A\nTrain:  91%|█████████▏| 360/394 [00:45<00:04,  7.99it/s, f1=0.70481, loss=0.15]\u001b[A\nTrain:  92%|█████████▏| 361/394 [00:45<00:04,  7.83it/s, f1=0.70481, loss=0.15]\u001b[A\nTrain:  92%|█████████▏| 361/394 [00:45<00:04,  7.83it/s, f1=0.70464, loss=0.15]\u001b[A\nTrain:  92%|█████████▏| 362/394 [00:45<00:04,  7.53it/s, f1=0.70464, loss=0.15]\u001b[A\nTrain:  92%|█████████▏| 362/394 [00:45<00:04,  7.53it/s, f1=0.70463, loss=0.15]\u001b[A\nTrain:  92%|█████████▏| 363/394 [00:45<00:04,  7.60it/s, f1=0.70463, loss=0.15]\u001b[A\nTrain:  92%|█████████▏| 363/394 [00:45<00:04,  7.60it/s, f1=0.70464, loss=0.15]\u001b[A\nTrain:  92%|█████████▏| 364/394 [00:45<00:03,  8.05it/s, f1=0.70464, loss=0.15]\u001b[A\nTrain:  92%|█████████▏| 364/394 [00:45<00:03,  8.05it/s, f1=0.70451, loss=0.15]\u001b[A\nTrain:  93%|█████████▎| 365/394 [00:45<00:03,  7.90it/s, f1=0.70451, loss=0.15]\u001b[A\nTrain:  93%|█████████▎| 365/394 [00:45<00:03,  7.90it/s, f1=0.70459, loss=0.15]\u001b[A\nTrain:  93%|█████████▎| 366/394 [00:45<00:04,  6.73it/s, f1=0.70459, loss=0.15]\u001b[A\nTrain:  93%|█████████▎| 366/394 [00:46<00:04,  6.73it/s, f1=0.70449, loss=0.15]\u001b[A\nTrain:  93%|█████████▎| 367/394 [00:46<00:03,  7.20it/s, f1=0.70449, loss=0.15]\u001b[A\nTrain:  93%|█████████▎| 367/394 [00:46<00:03,  7.20it/s, f1=0.70469, loss=0.15]\u001b[A\nTrain:  93%|█████████▎| 368/394 [00:46<00:03,  6.78it/s, f1=0.70469, loss=0.15]\u001b[A\nTrain:  93%|█████████▎| 368/394 [00:46<00:03,  6.78it/s, f1=0.70447, loss=0.15]\u001b[A\nTrain:  94%|█████████▎| 369/394 [00:46<00:03,  7.32it/s, f1=0.70447, loss=0.15]\u001b[A\nTrain:  94%|█████████▎| 369/394 [00:46<00:03,  7.32it/s, f1=0.70456, loss=0.15]\u001b[A\nTrain:  94%|█████████▍| 370/394 [00:46<00:03,  7.56it/s, f1=0.70456, loss=0.15]\u001b[A\nTrain:  94%|█████████▍| 370/394 [00:46<00:03,  7.56it/s, f1=0.70453, loss=0.15]\u001b[A\nTrain:  94%|█████████▍| 371/394 [00:46<00:03,  7.22it/s, f1=0.70453, loss=0.15]\u001b[A\nTrain:  94%|█████████▍| 371/394 [00:46<00:03,  7.22it/s, f1=0.70439, loss=0.15]\u001b[A\nTrain:  94%|█████████▍| 372/394 [00:46<00:02,  7.67it/s, f1=0.70439, loss=0.15]\u001b[A\nTrain:  94%|█████████▍| 372/394 [00:46<00:02,  7.67it/s, f1=0.70471, loss=0.15]\u001b[A\nTrain:  95%|█████████▍| 373/394 [00:46<00:02,  7.33it/s, f1=0.70471, loss=0.15]\u001b[A\nTrain:  95%|█████████▍| 373/394 [00:46<00:02,  7.33it/s, f1=0.70455, loss=0.15]\u001b[A\nTrain:  95%|█████████▍| 374/394 [00:46<00:02,  7.74it/s, f1=0.70455, loss=0.15]\u001b[A\nTrain:  95%|█████████▍| 374/394 [00:47<00:02,  7.74it/s, f1=0.70476, loss=0.15]\u001b[A\nTrain:  95%|█████████▌| 375/394 [00:47<00:02,  8.17it/s, f1=0.70476, loss=0.15]\u001b[A\nTrain:  95%|█████████▌| 375/394 [00:47<00:02,  8.17it/s, f1=0.70479, loss=0.15]\u001b[A\nTrain:  95%|█████████▌| 376/394 [00:47<00:02,  7.97it/s, f1=0.70479, loss=0.15]\u001b[A\nTrain:  95%|█████████▌| 376/394 [00:47<00:02,  7.97it/s, f1=0.70488, loss=0.15]\u001b[A\nTrain:  96%|█████████▌| 377/394 [00:47<00:02,  8.05it/s, f1=0.70488, loss=0.15]\u001b[A\nTrain:  96%|█████████▌| 377/394 [00:47<00:02,  8.05it/s, f1=0.70485, loss=0.15]\u001b[A\nTrain:  96%|█████████▌| 378/394 [00:47<00:02,  7.58it/s, f1=0.70485, loss=0.15]\u001b[A\nTrain:  96%|█████████▌| 378/394 [00:47<00:02,  7.58it/s, f1=0.70483, loss=0.15]\u001b[A\nTrain:  96%|█████████▌| 379/394 [00:47<00:02,  7.48it/s, f1=0.70483, loss=0.15]\u001b[A\nTrain:  96%|█████████▌| 379/394 [00:47<00:02,  7.48it/s, f1=0.70481, loss=0.15]\u001b[A\nTrain:  96%|█████████▋| 380/394 [00:47<00:01,  7.59it/s, f1=0.70481, loss=0.15]\u001b[A\nTrain:  96%|█████████▋| 380/394 [00:47<00:01,  7.59it/s, f1=0.70456, loss=0.15]\u001b[A\nTrain:  96%|█████████▋| 380/394 [00:47<00:01,  7.59it/s, f1=0.70448, loss=0.15]\u001b[A\nTrain:  97%|█████████▋| 382/394 [00:47<00:01,  7.94it/s, f1=0.70448, loss=0.15]\u001b[A\nTrain:  97%|█████████▋| 382/394 [00:48<00:01,  7.94it/s, f1=0.70445, loss=0.15]\u001b[A\nTrain:  97%|█████████▋| 383/394 [00:48<00:01,  7.47it/s, f1=0.70445, loss=0.15]\u001b[A\nTrain:  97%|█████████▋| 383/394 [00:48<00:01,  7.47it/s, f1=0.70444, loss=0.15]\u001b[A\nTrain:  97%|█████████▋| 384/394 [00:48<00:01,  7.44it/s, f1=0.70444, loss=0.15]\u001b[A\nTrain:  97%|█████████▋| 384/394 [00:48<00:01,  7.44it/s, f1=0.70439, loss=0.15]\u001b[A\nTrain:  98%|█████████▊| 385/394 [00:48<00:01,  6.93it/s, f1=0.70439, loss=0.15]\u001b[A\nTrain:  98%|█████████▊| 385/394 [00:48<00:01,  6.93it/s, f1=0.70447, loss=0.15]\u001b[A\nTrain:  98%|█████████▊| 386/394 [00:48<00:01,  7.19it/s, f1=0.70447, loss=0.15]\u001b[A\nTrain:  98%|█████████▊| 386/394 [00:48<00:01,  7.19it/s, f1=0.70429, loss=0.15]\u001b[A\nTrain:  98%|█████████▊| 387/394 [00:48<00:01,  6.82it/s, f1=0.70429, loss=0.15]\u001b[A\nTrain:  98%|█████████▊| 387/394 [00:48<00:01,  6.82it/s, f1=0.70404, loss=0.15]\u001b[A\nTrain:  98%|█████████▊| 387/394 [00:48<00:01,  6.82it/s, f1=0.70420, loss=0.15]\u001b[A\nTrain:  99%|█████████▊| 389/394 [00:48<00:00,  7.41it/s, f1=0.70420, loss=0.15]\u001b[A\nTrain:  99%|█████████▊| 389/394 [00:49<00:00,  7.41it/s, f1=0.70426, loss=0.15]\u001b[A\nTrain:  99%|█████████▉| 390/394 [00:49<00:00,  7.45it/s, f1=0.70426, loss=0.15]\u001b[A\nTrain:  99%|█████████▉| 390/394 [00:49<00:00,  7.45it/s, f1=0.70406, loss=0.15]\u001b[A\nTrain:  99%|█████████▉| 391/394 [00:49<00:00,  7.64it/s, f1=0.70406, loss=0.15]\u001b[A\nTrain:  99%|█████████▉| 391/394 [00:49<00:00,  7.64it/s, f1=0.70416, loss=0.15]\u001b[A\nTrain:  99%|█████████▉| 391/394 [00:49<00:00,  7.64it/s, f1=0.70421, loss=0.15]\u001b[A\nTrain: 100%|█████████▉| 393/394 [00:49<00:00,  7.52it/s, f1=0.70421, loss=0.15]\u001b[A\nTrain: 100%|██████████| 394/394 [00:49<00:00,  7.94it/s, f1=0.70423, loss=0.15]\n\nValid:   0%|          | 0/44 [00:00<?, ?it/s]\u001b[A\nValid:   0%|          | 0/44 [00:00<?, ?it/s, f1=0.63436, loss=0.158]\u001b[A\nValid:   0%|          | 0/44 [00:00<?, ?it/s, f1=0.64257, loss=0.155]\u001b[A\nValid:   5%|▍         | 2/44 [00:00<00:02, 16.12it/s, f1=0.64257, loss=0.155]\u001b[A\nValid:   5%|▍         | 2/44 [00:00<00:02, 16.12it/s, f1=0.64754, loss=0.18]\u001b[A\nValid:   5%|▍         | 2/44 [00:00<00:02, 16.12it/s, f1=0.63048, loss=0.174]\u001b[A\nValid:   9%|▉         | 4/44 [00:00<00:02, 16.24it/s, f1=0.63048, loss=0.174]\u001b[A\nValid:   9%|▉         | 4/44 [00:00<00:02, 16.24it/s, f1=0.63521, loss=0.169]\u001b[A\nValid:   9%|▉         | 4/44 [00:00<00:02, 16.24it/s, f1=0.63579, loss=0.174]\u001b[A\nValid:  14%|█▎        | 6/44 [00:00<00:02, 16.92it/s, f1=0.63579, loss=0.174]\u001b[A\nValid:  14%|█▎        | 6/44 [00:00<00:02, 16.92it/s, f1=0.63329, loss=0.173]\u001b[A\nValid:  14%|█▎        | 6/44 [00:00<00:02, 16.92it/s, f1=0.63949, loss=0.175]\u001b[A\nValid:  18%|█▊        | 8/44 [00:00<00:02, 16.39it/s, f1=0.63949, loss=0.175]\u001b[A\nValid:  18%|█▊        | 8/44 [00:00<00:02, 16.39it/s, f1=0.64381, loss=0.173]\u001b[A\nValid:  18%|█▊        | 8/44 [00:00<00:02, 16.39it/s, f1=0.64329, loss=0.169]\u001b[A\nValid:  18%|█▊        | 8/44 [00:00<00:02, 16.39it/s, f1=0.64328, loss=0.167]\u001b[A\nValid:  25%|██▌       | 11/44 [00:00<00:01, 17.25it/s, f1=0.64328, loss=0.167]\u001b[A\nValid:  25%|██▌       | 11/44 [00:00<00:01, 17.25it/s, f1=0.64535, loss=0.165]\u001b[A\nValid:  25%|██▌       | 11/44 [00:00<00:01, 17.25it/s, f1=0.64694, loss=0.165]\u001b[A\nValid:  30%|██▉       | 13/44 [00:00<00:01, 17.46it/s, f1=0.64694, loss=0.165]\u001b[A\nValid:  30%|██▉       | 13/44 [00:00<00:01, 17.46it/s, f1=0.64928, loss=0.167]\u001b[A\nValid:  30%|██▉       | 13/44 [00:00<00:01, 17.46it/s, f1=0.65415, loss=0.165]\u001b[A\nValid:  30%|██▉       | 13/44 [00:00<00:01, 17.46it/s, f1=0.65645, loss=0.162]\u001b[A\nValid:  36%|███▋      | 16/44 [00:00<00:01, 18.08it/s, f1=0.65645, loss=0.162]\u001b[A\nValid:  36%|███▋      | 16/44 [00:00<00:01, 18.08it/s, f1=0.65269, loss=0.161]\u001b[A\nValid:  36%|███▋      | 16/44 [00:01<00:01, 18.08it/s, f1=0.65109, loss=0.16]\u001b[A\nValid:  41%|████      | 18/44 [00:01<00:01, 16.92it/s, f1=0.65109, loss=0.16]\u001b[A\nValid:  41%|████      | 18/44 [00:01<00:01, 16.92it/s, f1=0.65208, loss=0.162]\u001b[A\nValid:  41%|████      | 18/44 [00:01<00:01, 16.92it/s, f1=0.65474, loss=0.164]\u001b[A\nValid:  45%|████▌     | 20/44 [00:01<00:01, 17.26it/s, f1=0.65474, loss=0.164]\u001b[A\nValid:  45%|████▌     | 20/44 [00:01<00:01, 17.26it/s, f1=0.65740, loss=0.163]\u001b[A\nValid:  45%|████▌     | 20/44 [00:01<00:01, 17.26it/s, f1=0.66166, loss=0.163]\u001b[A\nValid:  45%|████▌     | 20/44 [00:01<00:01, 17.26it/s, f1=0.66062, loss=0.164]\u001b[A\nValid:  52%|█████▏    | 23/44 [00:01<00:01, 18.92it/s, f1=0.66062, loss=0.164]\u001b[A\nValid:  52%|█████▏    | 23/44 [00:01<00:01, 18.92it/s, f1=0.65967, loss=0.165]\u001b[A\nValid:  52%|█████▏    | 23/44 [00:01<00:01, 18.92it/s, f1=0.66007, loss=0.164]\u001b[A\nValid:  57%|█████▋    | 25/44 [00:01<00:01, 17.67it/s, f1=0.66007, loss=0.164]\u001b[A\nValid:  57%|█████▋    | 25/44 [00:01<00:01, 17.67it/s, f1=0.65991, loss=0.163]\u001b[A\nValid:  57%|█████▋    | 25/44 [00:01<00:01, 17.67it/s, f1=0.66152, loss=0.164]\u001b[A\nValid:  61%|██████▏   | 27/44 [00:01<00:01, 16.70it/s, f1=0.66152, loss=0.164]\u001b[A\nValid:  61%|██████▏   | 27/44 [00:01<00:01, 16.70it/s, f1=0.66159, loss=0.164]\u001b[A\nValid:  61%|██████▏   | 27/44 [00:01<00:01, 16.70it/s, f1=0.65984, loss=0.165]\u001b[A\nValid:  61%|██████▏   | 27/44 [00:01<00:01, 16.70it/s, f1=0.65755, loss=0.166]\u001b[A\nValid:  68%|██████▊   | 30/44 [00:01<00:00, 17.95it/s, f1=0.65755, loss=0.166]\u001b[A\nValid:  68%|██████▊   | 30/44 [00:01<00:00, 17.95it/s, f1=0.65720, loss=0.166]\u001b[A\nValid:  68%|██████▊   | 30/44 [00:01<00:00, 17.95it/s, f1=0.65681, loss=0.166]\u001b[A\nValid:  73%|███████▎  | 32/44 [00:01<00:00, 17.99it/s, f1=0.65681, loss=0.166]\u001b[A\nValid:  73%|███████▎  | 32/44 [00:01<00:00, 17.99it/s, f1=0.65709, loss=0.167]\u001b[A\nValid:  73%|███████▎  | 32/44 [00:01<00:00, 17.99it/s, f1=0.65823, loss=0.166]\u001b[A\nValid:  77%|███████▋  | 34/44 [00:01<00:00, 17.93it/s, f1=0.65823, loss=0.166]\u001b[A\nValid:  77%|███████▋  | 34/44 [00:01<00:00, 17.93it/s, f1=0.65782, loss=0.165]\u001b[A\nValid:  77%|███████▋  | 34/44 [00:02<00:00, 17.93it/s, f1=0.65484, loss=0.167]\u001b[A\nValid:  82%|████████▏ | 36/44 [00:02<00:00, 15.61it/s, f1=0.65484, loss=0.167]\u001b[A\nValid:  82%|████████▏ | 36/44 [00:02<00:00, 15.61it/s, f1=0.65344, loss=0.167]\u001b[A\nValid:  82%|████████▏ | 36/44 [00:02<00:00, 15.61it/s, f1=0.65347, loss=0.168]\u001b[A\nValid:  86%|████████▋ | 38/44 [00:02<00:00, 15.34it/s, f1=0.65347, loss=0.168]\u001b[A\nValid:  86%|████████▋ | 38/44 [00:02<00:00, 15.34it/s, f1=0.65217, loss=0.167]\u001b[A\nValid:  86%|████████▋ | 38/44 [00:02<00:00, 15.34it/s, f1=0.65330, loss=0.166]\u001b[A\nValid:  91%|█████████ | 40/44 [00:02<00:00, 15.21it/s, f1=0.65330, loss=0.166]\u001b[A\nValid:  91%|█████████ | 40/44 [00:02<00:00, 15.21it/s, f1=0.65038, loss=0.167]\u001b[A\nValid:  91%|█████████ | 40/44 [00:02<00:00, 15.21it/s, f1=0.64967, loss=0.168]\u001b[A\nValid:  91%|█████████ | 40/44 [00:02<00:00, 15.21it/s, f1=0.64926, loss=0.169]\u001b[A\nValid:  98%|█████████▊| 43/44 [00:02<00:00, 16.47it/s, f1=0.64926, loss=0.169]\u001b[A\nValid: 100%|██████████| 44/44 [00:02<00:00, 16.90it/s, f1=0.65068, loss=0.169]\nBest F1 score  [0.650683574400634, 9]\n"
    },
    {
     "data": {
      "image/png": "[encoded data removed]",
      "image/svg+xml": "<?xml version=\"1.0\" encoding=\"utf-8\" standalone=\"no\"?>\n<!DOCTYPE svg PUBLIC \"-//W3C//DTD SVG 1.1//EN\"\n  \"http://www.w3.org/Graphics/SVG/1.1/DTD/svg11.dtd\">\n<!-- Created with matplotlib (https://matplotlib.org/) -->\n<svg height=\"317.99625pt\" version=\"1.1\" viewBox=\"0 0 434.265625 317.99625\" width=\"434.265625pt\" xmlns=\"http://www.w3.org/2000/svg\" xmlns:xlink=\"http://www.w3.org/1999/xlink\">\n <defs>\n  <style type=\"text/css\">\n*{stroke-linecap:butt;stroke-linejoin:round;}\n  </style>\n </defs>\n <g id=\"figure_1\">\n  <g id=\"patch_1\">\n   <path d=\"M 0 317.99625 \nL 434.265625 317.99625 \nL 434.265625 0 \nL 0 0 \nz\n\" style=\"fill:none;\"/>\n  </g>\n  <g id=\"axes_1\">\n   <g id=\"patch_2\">\n    <path d=\"M 36.465625 294.118125 \nL 427.065625 294.118125 \nL 427.065625 22.318125 \nL 36.465625 22.318125 \nz\n\"/>\n   </g>\n   <g id=\"matplotlib.axis_1\">\n    <g id=\"xtick_1\">\n     <g id=\"line2d_1\">\n      <defs>\n       <path d=\"M 0 0 \nL 0 3.5 \n\" id=\"m28455e83f4\" style=\"stroke:#ffffff;stroke-width:0.8;\"/>\n      </defs>\n      <g>\n       <use style=\"fill:#ffffff;stroke:#ffffff;stroke-width:0.8;\" x=\"54.22017\" xlink:href=\"#m28455e83f4\" y=\"294.118125\"/>\n      </g>\n     </g>\n     <g id=\"text_1\">\n      <!-- 0 -->\n      <defs>\n       <path d=\"M 31.78125 66.40625 \nQ 24.171875 66.40625 20.328125 58.90625 \nQ 16.5 51.421875 16.5 36.375 \nQ 16.5 21.390625 20.328125 13.890625 \nQ 24.171875 6.390625 31.78125 6.390625 \nQ 39.453125 6.390625 43.28125 13.890625 \nQ 47.125 21.390625 47.125 36.375 \nQ 47.125 51.421875 43.28125 58.90625 \nQ 39.453125 66.40625 31.78125 66.40625 \nz\nM 31.78125 74.21875 \nQ 44.046875 74.21875 50.515625 64.515625 \nQ 56.984375 54.828125 56.984375 36.375 \nQ 56.984375 17.96875 50.515625 8.265625 \nQ 44.046875 -1.421875 31.78125 -1.421875 \nQ 19.53125 -1.421875 13.0625 8.265625 \nQ 6.59375 17.96875 6.59375 36.375 \nQ 6.59375 54.828125 13.0625 64.515625 \nQ 19.53125 74.21875 31.78125 74.21875 \nz\n\" id=\"DejaVuSans-48\"/>\n      </defs>\n      <g style=\"fill:#ffffff;\" transform=\"translate(51.03892 308.716563)scale(0.1 -0.1)\">\n       <use xlink:href=\"#DejaVuSans-48\"/>\n      </g>\n     </g>\n    </g>\n    <g id=\"xtick_2\">\n     <g id=\"line2d_2\">\n      <g>\n       <use style=\"fill:#ffffff;stroke:#ffffff;stroke-width:0.8;\" x=\"133.129261\" xlink:href=\"#m28455e83f4\" y=\"294.118125\"/>\n      </g>\n     </g>\n     <g id=\"text_2\">\n      <!-- 2 -->\n      <defs>\n       <path d=\"M 19.1875 8.296875 \nL 53.609375 8.296875 \nL 53.609375 0 \nL 7.328125 0 \nL 7.328125 8.296875 \nQ 12.9375 14.109375 22.625 23.890625 \nQ 32.328125 33.6875 34.8125 36.53125 \nQ 39.546875 41.84375 41.421875 45.53125 \nQ 43.3125 49.21875 43.3125 52.78125 \nQ 43.3125 58.59375 39.234375 62.25 \nQ 35.15625 65.921875 28.609375 65.921875 \nQ 23.96875 65.921875 18.8125 64.3125 \nQ 13.671875 62.703125 7.8125 59.421875 \nL 7.8125 69.390625 \nQ 13.765625 71.78125 18.9375 73 \nQ 24.125 74.21875 28.421875 74.21875 \nQ 39.75 74.21875 46.484375 68.546875 \nQ 53.21875 62.890625 53.21875 53.421875 \nQ 53.21875 48.921875 51.53125 44.890625 \nQ 49.859375 40.875 45.40625 35.40625 \nQ 44.1875 33.984375 37.640625 27.21875 \nQ 31.109375 20.453125 19.1875 8.296875 \nz\n\" id=\"DejaVuSans-50\"/>\n      </defs>\n      <g style=\"fill:#ffffff;\" transform=\"translate(129.948011 308.716563)scale(0.1 -0.1)\">\n       <use xlink:href=\"#DejaVuSans-50\"/>\n      </g>\n     </g>\n    </g>\n    <g id=\"xtick_3\">\n     <g id=\"line2d_3\">\n      <g>\n       <use style=\"fill:#ffffff;stroke:#ffffff;stroke-width:0.8;\" x=\"212.038352\" xlink:href=\"#m28455e83f4\" y=\"294.118125\"/>\n      </g>\n     </g>\n     <g id=\"text_3\">\n      <!-- 4 -->\n      <defs>\n       <path d=\"M 37.796875 64.3125 \nL 12.890625 25.390625 \nL 37.796875 25.390625 \nz\nM 35.203125 72.90625 \nL 47.609375 72.90625 \nL 47.609375 25.390625 \nL 58.015625 25.390625 \nL 58.015625 17.1875 \nL 47.609375 17.1875 \nL 47.609375 0 \nL 37.796875 0 \nL 37.796875 17.1875 \nL 4.890625 17.1875 \nL 4.890625 26.703125 \nz\n\" id=\"DejaVuSans-52\"/>\n      </defs>\n      <g style=\"fill:#ffffff;\" transform=\"translate(208.857102 308.716563)scale(0.1 -0.1)\">\n       <use xlink:href=\"#DejaVuSans-52\"/>\n      </g>\n     </g>\n    </g>\n    <g id=\"xtick_4\">\n     <g id=\"line2d_4\">\n      <g>\n       <use style=\"fill:#ffffff;stroke:#ffffff;stroke-width:0.8;\" x=\"290.947443\" xlink:href=\"#m28455e83f4\" y=\"294.118125\"/>\n      </g>\n     </g>\n     <g id=\"text_4\">\n      <!-- 6 -->\n      <defs>\n       <path d=\"M 33.015625 40.375 \nQ 26.375 40.375 22.484375 35.828125 \nQ 18.609375 31.296875 18.609375 23.390625 \nQ 18.609375 15.53125 22.484375 10.953125 \nQ 26.375 6.390625 33.015625 6.390625 \nQ 39.65625 6.390625 43.53125 10.953125 \nQ 47.40625 15.53125 47.40625 23.390625 \nQ 47.40625 31.296875 43.53125 35.828125 \nQ 39.65625 40.375 33.015625 40.375 \nz\nM 52.59375 71.296875 \nL 52.59375 62.3125 \nQ 48.875 64.0625 45.09375 64.984375 \nQ 41.3125 65.921875 37.59375 65.921875 \nQ 27.828125 65.921875 22.671875 59.328125 \nQ 17.53125 52.734375 16.796875 39.40625 \nQ 19.671875 43.65625 24.015625 45.921875 \nQ 28.375 48.1875 33.59375 48.1875 \nQ 44.578125 48.1875 50.953125 41.515625 \nQ 57.328125 34.859375 57.328125 23.390625 \nQ 57.328125 12.15625 50.6875 5.359375 \nQ 44.046875 -1.421875 33.015625 -1.421875 \nQ 20.359375 -1.421875 13.671875 8.265625 \nQ 6.984375 17.96875 6.984375 36.375 \nQ 6.984375 53.65625 15.1875 63.9375 \nQ 23.390625 74.21875 37.203125 74.21875 \nQ 40.921875 74.21875 44.703125 73.484375 \nQ 48.484375 72.75 52.59375 71.296875 \nz\n\" id=\"DejaVuSans-54\"/>\n      </defs>\n      <g style=\"fill:#ffffff;\" transform=\"translate(287.766193 308.716563)scale(0.1 -0.1)\">\n       <use xlink:href=\"#DejaVuSans-54\"/>\n      </g>\n     </g>\n    </g>\n    <g id=\"xtick_5\">\n     <g id=\"line2d_5\">\n      <g>\n       <use style=\"fill:#ffffff;stroke:#ffffff;stroke-width:0.8;\" x=\"369.856534\" xlink:href=\"#m28455e83f4\" y=\"294.118125\"/>\n      </g>\n     </g>\n     <g id=\"text_5\">\n      <!-- 8 -->\n      <defs>\n       <path d=\"M 31.78125 34.625 \nQ 24.75 34.625 20.71875 30.859375 \nQ 16.703125 27.09375 16.703125 20.515625 \nQ 16.703125 13.921875 20.71875 10.15625 \nQ 24.75 6.390625 31.78125 6.390625 \nQ 38.8125 6.390625 42.859375 10.171875 \nQ 46.921875 13.96875 46.921875 20.515625 \nQ 46.921875 27.09375 42.890625 30.859375 \nQ 38.875 34.625 31.78125 34.625 \nz\nM 21.921875 38.8125 \nQ 15.578125 40.375 12.03125 44.71875 \nQ 8.5 49.078125 8.5 55.328125 \nQ 8.5 64.0625 14.71875 69.140625 \nQ 20.953125 74.21875 31.78125 74.21875 \nQ 42.671875 74.21875 48.875 69.140625 \nQ 55.078125 64.0625 55.078125 55.328125 \nQ 55.078125 49.078125 51.53125 44.71875 \nQ 48 40.375 41.703125 38.8125 \nQ 48.828125 37.15625 52.796875 32.3125 \nQ 56.78125 27.484375 56.78125 20.515625 \nQ 56.78125 9.90625 50.3125 4.234375 \nQ 43.84375 -1.421875 31.78125 -1.421875 \nQ 19.734375 -1.421875 13.25 4.234375 \nQ 6.78125 9.90625 6.78125 20.515625 \nQ 6.78125 27.484375 10.78125 32.3125 \nQ 14.796875 37.15625 21.921875 38.8125 \nz\nM 18.3125 54.390625 \nQ 18.3125 48.734375 21.84375 45.5625 \nQ 25.390625 42.390625 31.78125 42.390625 \nQ 38.140625 42.390625 41.71875 45.5625 \nQ 45.3125 48.734375 45.3125 54.390625 \nQ 45.3125 60.0625 41.71875 63.234375 \nQ 38.140625 66.40625 31.78125 66.40625 \nQ 25.390625 66.40625 21.84375 63.234375 \nQ 18.3125 60.0625 18.3125 54.390625 \nz\n\" id=\"DejaVuSans-56\"/>\n      </defs>\n      <g style=\"fill:#ffffff;\" transform=\"translate(366.675284 308.716563)scale(0.1 -0.1)\">\n       <use xlink:href=\"#DejaVuSans-56\"/>\n      </g>\n     </g>\n    </g>\n   </g>\n   <g id=\"matplotlib.axis_2\">\n    <g id=\"ytick_1\">\n     <g id=\"line2d_6\">\n      <defs>\n       <path d=\"M 0 0 \nL -3.5 0 \n\" id=\"mf32629c239\" style=\"stroke:#ffffff;stroke-width:0.8;\"/>\n      </defs>\n      <g>\n       <use style=\"fill:#ffffff;stroke:#ffffff;stroke-width:0.8;\" x=\"36.465625\" xlink:href=\"#mf32629c239\" y=\"261.387804\"/>\n      </g>\n     </g>\n     <g id=\"text_6\">\n      <!-- 0.16 -->\n      <defs>\n       <path d=\"M 10.6875 12.40625 \nL 21 12.40625 \nL 21 0 \nL 10.6875 0 \nz\n\" id=\"DejaVuSans-46\"/>\n       <path d=\"M 12.40625 8.296875 \nL 28.515625 8.296875 \nL 28.515625 63.921875 \nL 10.984375 60.40625 \nL 10.984375 69.390625 \nL 28.421875 72.90625 \nL 38.28125 72.90625 \nL 38.28125 8.296875 \nL 54.390625 8.296875 \nL 54.390625 0 \nL 12.40625 0 \nz\n\" id=\"DejaVuSans-49\"/>\n      </defs>\n      <g style=\"fill:#ffffff;\" transform=\"translate(7.2 265.187023)scale(0.1 -0.1)\">\n       <use xlink:href=\"#DejaVuSans-48\"/>\n       <use x=\"63.623047\" xlink:href=\"#DejaVuSans-46\"/>\n       <use x=\"95.410156\" xlink:href=\"#DejaVuSans-49\"/>\n       <use x=\"159.033203\" xlink:href=\"#DejaVuSans-54\"/>\n      </g>\n     </g>\n    </g>\n    <g id=\"ytick_2\">\n     <g id=\"line2d_7\">\n      <g>\n       <use style=\"fill:#ffffff;stroke:#ffffff;stroke-width:0.8;\" x=\"36.465625\" xlink:href=\"#mf32629c239\" y=\"219.475438\"/>\n      </g>\n     </g>\n     <g id=\"text_7\">\n      <!-- 0.18 -->\n      <g style=\"fill:#ffffff;\" transform=\"translate(7.2 223.274657)scale(0.1 -0.1)\">\n       <use xlink:href=\"#DejaVuSans-48\"/>\n       <use x=\"63.623047\" xlink:href=\"#DejaVuSans-46\"/>\n       <use x=\"95.410156\" xlink:href=\"#DejaVuSans-49\"/>\n       <use x=\"159.033203\" xlink:href=\"#DejaVuSans-56\"/>\n      </g>\n     </g>\n    </g>\n    <g id=\"ytick_3\">\n     <g id=\"line2d_8\">\n      <g>\n       <use style=\"fill:#ffffff;stroke:#ffffff;stroke-width:0.8;\" x=\"36.465625\" xlink:href=\"#mf32629c239\" y=\"177.563072\"/>\n      </g>\n     </g>\n     <g id=\"text_8\">\n      <!-- 0.20 -->\n      <g style=\"fill:#ffffff;\" transform=\"translate(7.2 181.362291)scale(0.1 -0.1)\">\n       <use xlink:href=\"#DejaVuSans-48\"/>\n       <use x=\"63.623047\" xlink:href=\"#DejaVuSans-46\"/>\n       <use x=\"95.410156\" xlink:href=\"#DejaVuSans-50\"/>\n       <use x=\"159.033203\" xlink:href=\"#DejaVuSans-48\"/>\n      </g>\n     </g>\n    </g>\n    <g id=\"ytick_4\">\n     <g id=\"line2d_9\">\n      <g>\n       <use style=\"fill:#ffffff;stroke:#ffffff;stroke-width:0.8;\" x=\"36.465625\" xlink:href=\"#mf32629c239\" y=\"135.650706\"/>\n      </g>\n     </g>\n     <g id=\"text_9\">\n      <!-- 0.22 -->\n      <g style=\"fill:#ffffff;\" transform=\"translate(7.2 139.449925)scale(0.1 -0.1)\">\n       <use xlink:href=\"#DejaVuSans-48\"/>\n       <use x=\"63.623047\" xlink:href=\"#DejaVuSans-46\"/>\n       <use x=\"95.410156\" xlink:href=\"#DejaVuSans-50\"/>\n       <use x=\"159.033203\" xlink:href=\"#DejaVuSans-50\"/>\n      </g>\n     </g>\n    </g>\n    <g id=\"ytick_5\">\n     <g id=\"line2d_10\">\n      <g>\n       <use style=\"fill:#ffffff;stroke:#ffffff;stroke-width:0.8;\" x=\"36.465625\" xlink:href=\"#mf32629c239\" y=\"93.73834\"/>\n      </g>\n     </g>\n     <g id=\"text_10\">\n      <!-- 0.24 -->\n      <g style=\"fill:#ffffff;\" transform=\"translate(7.2 97.537558)scale(0.1 -0.1)\">\n       <use xlink:href=\"#DejaVuSans-48\"/>\n       <use x=\"63.623047\" xlink:href=\"#DejaVuSans-46\"/>\n       <use x=\"95.410156\" xlink:href=\"#DejaVuSans-50\"/>\n       <use x=\"159.033203\" xlink:href=\"#DejaVuSans-52\"/>\n      </g>\n     </g>\n    </g>\n    <g id=\"ytick_6\">\n     <g id=\"line2d_11\">\n      <g>\n       <use style=\"fill:#ffffff;stroke:#ffffff;stroke-width:0.8;\" x=\"36.465625\" xlink:href=\"#mf32629c239\" y=\"51.825974\"/>\n      </g>\n     </g>\n     <g id=\"text_11\">\n      <!-- 0.26 -->\n      <g style=\"fill:#ffffff;\" transform=\"translate(7.2 55.625192)scale(0.1 -0.1)\">\n       <use xlink:href=\"#DejaVuSans-48\"/>\n       <use x=\"63.623047\" xlink:href=\"#DejaVuSans-46\"/>\n       <use x=\"95.410156\" xlink:href=\"#DejaVuSans-50\"/>\n       <use x=\"159.033203\" xlink:href=\"#DejaVuSans-54\"/>\n      </g>\n     </g>\n    </g>\n   </g>\n   <g id=\"line2d_12\">\n    <path clip-path=\"url(#p5052301197)\" d=\"M 54.22017 34.67267 \nL 93.674716 185.21325 \nL 133.129261 214.617336 \nL 172.583807 227.595175 \nL 212.038352 238.167154 \nL 251.492898 246.14642 \nL 290.947443 257.623516 \nL 330.401989 265.362379 \nL 369.856534 274.247659 \nL 409.31108 281.76358 \n\" style=\"fill:none;stroke:#8dd3c7;stroke-linecap:square;stroke-width:1.5;\"/>\n   </g>\n   <g id=\"line2d_13\">\n    <path clip-path=\"url(#p5052301197)\" d=\"M 54.22017 165.531005 \nL 93.674716 174.29987 \nL 133.129261 227.829014 \nL 172.583807 229.049096 \nL 212.038352 226.334809 \nL 251.492898 238.343998 \nL 290.947443 241.404292 \nL 330.401989 245.353598 \nL 369.856534 244.934515 \nL 409.31108 243.305444 \n\" style=\"fill:none;stroke:#feffb3;stroke-linecap:square;stroke-width:1.5;\"/>\n   </g>\n   <g id=\"patch_3\">\n    <path d=\"M 36.465625 294.118125 \nL 36.465625 22.318125 \n\" style=\"fill:none;stroke:#ffffff;stroke-linecap:square;stroke-linejoin:miter;stroke-width:0.8;\"/>\n   </g>\n   <g id=\"patch_4\">\n    <path d=\"M 427.065625 294.118125 \nL 427.065625 22.318125 \n\" style=\"fill:none;stroke:#ffffff;stroke-linecap:square;stroke-linejoin:miter;stroke-width:0.8;\"/>\n   </g>\n   <g id=\"patch_5\">\n    <path d=\"M 36.465625 294.118125 \nL 427.065625 294.118125 \n\" style=\"fill:none;stroke:#ffffff;stroke-linecap:square;stroke-linejoin:miter;stroke-width:0.8;\"/>\n   </g>\n   <g id=\"patch_6\">\n    <path d=\"M 36.465625 22.318125 \nL 427.065625 22.318125 \n\" style=\"fill:none;stroke:#ffffff;stroke-linecap:square;stroke-linejoin:miter;stroke-width:0.8;\"/>\n   </g>\n   <g id=\"text_12\">\n    <!-- Loss -->\n    <defs>\n     <path d=\"M 9.8125 72.90625 \nL 19.671875 72.90625 \nL 19.671875 8.296875 \nL 55.171875 8.296875 \nL 55.171875 0 \nL 9.8125 0 \nz\n\" id=\"DejaVuSans-76\"/>\n     <path d=\"M 30.609375 48.390625 \nQ 23.390625 48.390625 19.1875 42.75 \nQ 14.984375 37.109375 14.984375 27.296875 \nQ 14.984375 17.484375 19.15625 11.84375 \nQ 23.34375 6.203125 30.609375 6.203125 \nQ 37.796875 6.203125 41.984375 11.859375 \nQ 46.1875 17.53125 46.1875 27.296875 \nQ 46.1875 37.015625 41.984375 42.703125 \nQ 37.796875 48.390625 30.609375 48.390625 \nz\nM 30.609375 56 \nQ 42.328125 56 49.015625 48.375 \nQ 55.71875 40.765625 55.71875 27.296875 \nQ 55.71875 13.875 49.015625 6.21875 \nQ 42.328125 -1.421875 30.609375 -1.421875 \nQ 18.84375 -1.421875 12.171875 6.21875 \nQ 5.515625 13.875 5.515625 27.296875 \nQ 5.515625 40.765625 12.171875 48.375 \nQ 18.84375 56 30.609375 56 \nz\n\" id=\"DejaVuSans-111\"/>\n     <path d=\"M 44.28125 53.078125 \nL 44.28125 44.578125 \nQ 40.484375 46.53125 36.375 47.5 \nQ 32.28125 48.484375 27.875 48.484375 \nQ 21.1875 48.484375 17.84375 46.4375 \nQ 14.5 44.390625 14.5 40.28125 \nQ 14.5 37.15625 16.890625 35.375 \nQ 19.28125 33.59375 26.515625 31.984375 \nL 29.59375 31.296875 \nQ 39.15625 29.25 43.1875 25.515625 \nQ 47.21875 21.78125 47.21875 15.09375 \nQ 47.21875 7.46875 41.1875 3.015625 \nQ 35.15625 -1.421875 24.609375 -1.421875 \nQ 20.21875 -1.421875 15.453125 -0.5625 \nQ 10.6875 0.296875 5.421875 2 \nL 5.421875 11.28125 \nQ 10.40625 8.6875 15.234375 7.390625 \nQ 20.0625 6.109375 24.8125 6.109375 \nQ 31.15625 6.109375 34.5625 8.28125 \nQ 37.984375 10.453125 37.984375 14.40625 \nQ 37.984375 18.0625 35.515625 20.015625 \nQ 33.0625 21.96875 24.703125 23.78125 \nL 21.578125 24.515625 \nQ 13.234375 26.265625 9.515625 29.90625 \nQ 5.8125 33.546875 5.8125 39.890625 \nQ 5.8125 47.609375 11.28125 51.796875 \nQ 16.75 56 26.8125 56 \nQ 31.78125 56 36.171875 55.265625 \nQ 40.578125 54.546875 44.28125 53.078125 \nz\n\" id=\"DejaVuSans-115\"/>\n    </defs>\n    <g style=\"fill:#ffffff;\" transform=\"translate(218.500937 16.318125)scale(0.12 -0.12)\">\n     <use xlink:href=\"#DejaVuSans-76\"/>\n     <use x=\"55.697266\" xlink:href=\"#DejaVuSans-111\"/>\n     <use x=\"116.878906\" xlink:href=\"#DejaVuSans-115\"/>\n     <use x=\"168.978516\" xlink:href=\"#DejaVuSans-115\"/>\n    </g>\n   </g>\n   <g id=\"legend_1\">\n    <g id=\"patch_7\">\n     <path d=\"M 364.114062 59.674375 \nL 420.065625 59.674375 \nQ 422.065625 59.674375 422.065625 57.674375 \nL 422.065625 29.318125 \nQ 422.065625 27.318125 420.065625 27.318125 \nL 364.114062 27.318125 \nQ 362.114062 27.318125 362.114062 29.318125 \nL 362.114062 57.674375 \nQ 362.114062 59.674375 364.114062 59.674375 \nz\n\" style=\"opacity:0.8;stroke:#cccccc;stroke-linejoin:miter;\"/>\n    </g>\n    <g id=\"line2d_14\">\n     <path d=\"M 366.114062 35.416562 \nL 386.114062 35.416562 \n\" style=\"fill:none;stroke:#8dd3c7;stroke-linecap:square;stroke-width:1.5;\"/>\n    </g>\n    <g id=\"line2d_15\"/>\n    <g id=\"text_13\">\n     <!-- train -->\n     <defs>\n      <path d=\"M 18.3125 70.21875 \nL 18.3125 54.6875 \nL 36.8125 54.6875 \nL 36.8125 47.703125 \nL 18.3125 47.703125 \nL 18.3125 18.015625 \nQ 18.3125 11.328125 20.140625 9.421875 \nQ 21.96875 7.515625 27.59375 7.515625 \nL 36.8125 7.515625 \nL 36.8125 0 \nL 27.59375 0 \nQ 17.1875 0 13.234375 3.875 \nQ 9.28125 7.765625 9.28125 18.015625 \nL 9.28125 47.703125 \nL 2.6875 47.703125 \nL 2.6875 54.6875 \nL 9.28125 54.6875 \nL 9.28125 70.21875 \nz\n\" id=\"DejaVuSans-116\"/>\n      <path d=\"M 41.109375 46.296875 \nQ 39.59375 47.171875 37.8125 47.578125 \nQ 36.03125 48 33.890625 48 \nQ 26.265625 48 22.1875 43.046875 \nQ 18.109375 38.09375 18.109375 28.8125 \nL 18.109375 0 \nL 9.078125 0 \nL 9.078125 54.6875 \nL 18.109375 54.6875 \nL 18.109375 46.1875 \nQ 20.953125 51.171875 25.484375 53.578125 \nQ 30.03125 56 36.53125 56 \nQ 37.453125 56 38.578125 55.875 \nQ 39.703125 55.765625 41.0625 55.515625 \nz\n\" id=\"DejaVuSans-114\"/>\n      <path d=\"M 34.28125 27.484375 \nQ 23.390625 27.484375 19.1875 25 \nQ 14.984375 22.515625 14.984375 16.5 \nQ 14.984375 11.71875 18.140625 8.90625 \nQ 21.296875 6.109375 26.703125 6.109375 \nQ 34.1875 6.109375 38.703125 11.40625 \nQ 43.21875 16.703125 43.21875 25.484375 \nL 43.21875 27.484375 \nz\nM 52.203125 31.203125 \nL 52.203125 0 \nL 43.21875 0 \nL 43.21875 8.296875 \nQ 40.140625 3.328125 35.546875 0.953125 \nQ 30.953125 -1.421875 24.3125 -1.421875 \nQ 15.921875 -1.421875 10.953125 3.296875 \nQ 6 8.015625 6 15.921875 \nQ 6 25.140625 12.171875 29.828125 \nQ 18.359375 34.515625 30.609375 34.515625 \nL 43.21875 34.515625 \nL 43.21875 35.40625 \nQ 43.21875 41.609375 39.140625 45 \nQ 35.0625 48.390625 27.6875 48.390625 \nQ 23 48.390625 18.546875 47.265625 \nQ 14.109375 46.140625 10.015625 43.890625 \nL 10.015625 52.203125 \nQ 14.9375 54.109375 19.578125 55.046875 \nQ 24.21875 56 28.609375 56 \nQ 40.484375 56 46.34375 49.84375 \nQ 52.203125 43.703125 52.203125 31.203125 \nz\n\" id=\"DejaVuSans-97\"/>\n      <path d=\"M 9.421875 54.6875 \nL 18.40625 54.6875 \nL 18.40625 0 \nL 9.421875 0 \nz\nM 9.421875 75.984375 \nL 18.40625 75.984375 \nL 18.40625 64.59375 \nL 9.421875 64.59375 \nz\n\" id=\"DejaVuSans-105\"/>\n      <path d=\"M 54.890625 33.015625 \nL 54.890625 0 \nL 45.90625 0 \nL 45.90625 32.71875 \nQ 45.90625 40.484375 42.875 44.328125 \nQ 39.84375 48.1875 33.796875 48.1875 \nQ 26.515625 48.1875 22.3125 43.546875 \nQ 18.109375 38.921875 18.109375 30.90625 \nL 18.109375 0 \nL 9.078125 0 \nL 9.078125 54.6875 \nL 18.109375 54.6875 \nL 18.109375 46.1875 \nQ 21.34375 51.125 25.703125 53.5625 \nQ 30.078125 56 35.796875 56 \nQ 45.21875 56 50.046875 50.171875 \nQ 54.890625 44.34375 54.890625 33.015625 \nz\n\" id=\"DejaVuSans-110\"/>\n     </defs>\n     <g style=\"fill:#ffffff;\" transform=\"translate(394.114062 38.916562)scale(0.1 -0.1)\">\n      <use xlink:href=\"#DejaVuSans-116\"/>\n      <use x=\"39.208984\" xlink:href=\"#DejaVuSans-114\"/>\n      <use x=\"80.322266\" xlink:href=\"#DejaVuSans-97\"/>\n      <use x=\"141.601562\" xlink:href=\"#DejaVuSans-105\"/>\n      <use x=\"169.384766\" xlink:href=\"#DejaVuSans-110\"/>\n     </g>\n    </g>\n    <g id=\"line2d_16\">\n     <path d=\"M 366.114062 50.094688 \nL 386.114062 50.094688 \n\" style=\"fill:none;stroke:#feffb3;stroke-linecap:square;stroke-width:1.5;\"/>\n    </g>\n    <g id=\"line2d_17\"/>\n    <g id=\"text_14\">\n     <!-- valid -->\n     <defs>\n      <path d=\"M 2.984375 54.6875 \nL 12.5 54.6875 \nL 29.59375 8.796875 \nL 46.6875 54.6875 \nL 56.203125 54.6875 \nL 35.6875 0 \nL 23.484375 0 \nz\n\" id=\"DejaVuSans-118\"/>\n      <path d=\"M 9.421875 75.984375 \nL 18.40625 75.984375 \nL 18.40625 0 \nL 9.421875 0 \nz\n\" id=\"DejaVuSans-108\"/>\n      <path d=\"M 45.40625 46.390625 \nL 45.40625 75.984375 \nL 54.390625 75.984375 \nL 54.390625 0 \nL 45.40625 0 \nL 45.40625 8.203125 \nQ 42.578125 3.328125 38.25 0.953125 \nQ 33.9375 -1.421875 27.875 -1.421875 \nQ 17.96875 -1.421875 11.734375 6.484375 \nQ 5.515625 14.40625 5.515625 27.296875 \nQ 5.515625 40.1875 11.734375 48.09375 \nQ 17.96875 56 27.875 56 \nQ 33.9375 56 38.25 53.625 \nQ 42.578125 51.265625 45.40625 46.390625 \nz\nM 14.796875 27.296875 \nQ 14.796875 17.390625 18.875 11.75 \nQ 22.953125 6.109375 30.078125 6.109375 \nQ 37.203125 6.109375 41.296875 11.75 \nQ 45.40625 17.390625 45.40625 27.296875 \nQ 45.40625 37.203125 41.296875 42.84375 \nQ 37.203125 48.484375 30.078125 48.484375 \nQ 22.953125 48.484375 18.875 42.84375 \nQ 14.796875 37.203125 14.796875 27.296875 \nz\n\" id=\"DejaVuSans-100\"/>\n     </defs>\n     <g style=\"fill:#ffffff;\" transform=\"translate(394.114062 53.594688)scale(0.1 -0.1)\">\n      <use xlink:href=\"#DejaVuSans-118\"/>\n      <use x=\"59.179688\" xlink:href=\"#DejaVuSans-97\"/>\n      <use x=\"120.458984\" xlink:href=\"#DejaVuSans-108\"/>\n      <use x=\"148.242188\" xlink:href=\"#DejaVuSans-105\"/>\n      <use x=\"176.025391\" xlink:href=\"#DejaVuSans-100\"/>\n     </g>\n    </g>\n   </g>\n  </g>\n </g>\n <defs>\n  <clipPath id=\"p5052301197\">\n   <rect height=\"271.8\" width=\"390.6\" x=\"36.465625\" y=\"22.318125\"/>\n  </clipPath>\n </defs>\n</svg>\n",
      "text/plain": "<Figure size 504x360 with 1 Axes>"
     },
     "metadata": {
      "needs_background": "dark"
     },
     "output_type": "display_data"
    },
    {
     "data": {
      "image/png": "[encoded data removed]",
      "image/svg+xml": "<?xml version=\"1.0\" encoding=\"utf-8\" standalone=\"no\"?>\n<!DOCTYPE svg PUBLIC \"-//W3C//DTD SVG 1.1//EN\"\n  \"http://www.w3.org/Graphics/SVG/1.1/DTD/svg11.dtd\">\n<!-- Created with matplotlib (https://matplotlib.org/) -->\n<svg height=\"317.99625pt\" version=\"1.1\" viewBox=\"0 0 427.903125 317.99625\" width=\"427.903125pt\" xmlns=\"http://www.w3.org/2000/svg\" xmlns:xlink=\"http://www.w3.org/1999/xlink\">\n <defs>\n  <style type=\"text/css\">\n*{stroke-linecap:butt;stroke-linejoin:round;}\n  </style>\n </defs>\n <g id=\"figure_1\">\n  <g id=\"patch_1\">\n   <path d=\"M 0 317.99625 \nL 427.903125 317.99625 \nL 427.903125 0 \nL 0 0 \nz\n\" style=\"fill:none;\"/>\n  </g>\n  <g id=\"axes_1\">\n   <g id=\"patch_2\">\n    <path d=\"M 30.103125 294.118125 \nL 420.703125 294.118125 \nL 420.703125 22.318125 \nL 30.103125 22.318125 \nz\n\"/>\n   </g>\n   <g id=\"matplotlib.axis_1\">\n    <g id=\"xtick_1\">\n     <g id=\"line2d_1\">\n      <defs>\n       <path d=\"M 0 0 \nL 0 3.5 \n\" id=\"mdbc25a51fd\" style=\"stroke:#ffffff;stroke-width:0.8;\"/>\n      </defs>\n      <g>\n       <use style=\"fill:#ffffff;stroke:#ffffff;stroke-width:0.8;\" x=\"47.85767\" xlink:href=\"#mdbc25a51fd\" y=\"294.118125\"/>\n      </g>\n     </g>\n     <g id=\"text_1\">\n      <!-- 0 -->\n      <defs>\n       <path d=\"M 31.78125 66.40625 \nQ 24.171875 66.40625 20.328125 58.90625 \nQ 16.5 51.421875 16.5 36.375 \nQ 16.5 21.390625 20.328125 13.890625 \nQ 24.171875 6.390625 31.78125 6.390625 \nQ 39.453125 6.390625 43.28125 13.890625 \nQ 47.125 21.390625 47.125 36.375 \nQ 47.125 51.421875 43.28125 58.90625 \nQ 39.453125 66.40625 31.78125 66.40625 \nz\nM 31.78125 74.21875 \nQ 44.046875 74.21875 50.515625 64.515625 \nQ 56.984375 54.828125 56.984375 36.375 \nQ 56.984375 17.96875 50.515625 8.265625 \nQ 44.046875 -1.421875 31.78125 -1.421875 \nQ 19.53125 -1.421875 13.0625 8.265625 \nQ 6.59375 17.96875 6.59375 36.375 \nQ 6.59375 54.828125 13.0625 64.515625 \nQ 19.53125 74.21875 31.78125 74.21875 \nz\n\" id=\"DejaVuSans-48\"/>\n      </defs>\n      <g style=\"fill:#ffffff;\" transform=\"translate(44.67642 308.716563)scale(0.1 -0.1)\">\n       <use xlink:href=\"#DejaVuSans-48\"/>\n      </g>\n     </g>\n    </g>\n    <g id=\"xtick_2\">\n     <g id=\"line2d_2\">\n      <g>\n       <use style=\"fill:#ffffff;stroke:#ffffff;stroke-width:0.8;\" x=\"126.766761\" xlink:href=\"#mdbc25a51fd\" y=\"294.118125\"/>\n      </g>\n     </g>\n     <g id=\"text_2\">\n      <!-- 2 -->\n      <defs>\n       <path d=\"M 19.1875 8.296875 \nL 53.609375 8.296875 \nL 53.609375 0 \nL 7.328125 0 \nL 7.328125 8.296875 \nQ 12.9375 14.109375 22.625 23.890625 \nQ 32.328125 33.6875 34.8125 36.53125 \nQ 39.546875 41.84375 41.421875 45.53125 \nQ 43.3125 49.21875 43.3125 52.78125 \nQ 43.3125 58.59375 39.234375 62.25 \nQ 35.15625 65.921875 28.609375 65.921875 \nQ 23.96875 65.921875 18.8125 64.3125 \nQ 13.671875 62.703125 7.8125 59.421875 \nL 7.8125 69.390625 \nQ 13.765625 71.78125 18.9375 73 \nQ 24.125 74.21875 28.421875 74.21875 \nQ 39.75 74.21875 46.484375 68.546875 \nQ 53.21875 62.890625 53.21875 53.421875 \nQ 53.21875 48.921875 51.53125 44.890625 \nQ 49.859375 40.875 45.40625 35.40625 \nQ 44.1875 33.984375 37.640625 27.21875 \nQ 31.109375 20.453125 19.1875 8.296875 \nz\n\" id=\"DejaVuSans-50\"/>\n      </defs>\n      <g style=\"fill:#ffffff;\" transform=\"translate(123.585511 308.716563)scale(0.1 -0.1)\">\n       <use xlink:href=\"#DejaVuSans-50\"/>\n      </g>\n     </g>\n    </g>\n    <g id=\"xtick_3\">\n     <g id=\"line2d_3\">\n      <g>\n       <use style=\"fill:#ffffff;stroke:#ffffff;stroke-width:0.8;\" x=\"205.675852\" xlink:href=\"#mdbc25a51fd\" y=\"294.118125\"/>\n      </g>\n     </g>\n     <g id=\"text_3\">\n      <!-- 4 -->\n      <defs>\n       <path d=\"M 37.796875 64.3125 \nL 12.890625 25.390625 \nL 37.796875 25.390625 \nz\nM 35.203125 72.90625 \nL 47.609375 72.90625 \nL 47.609375 25.390625 \nL 58.015625 25.390625 \nL 58.015625 17.1875 \nL 47.609375 17.1875 \nL 47.609375 0 \nL 37.796875 0 \nL 37.796875 17.1875 \nL 4.890625 17.1875 \nL 4.890625 26.703125 \nz\n\" id=\"DejaVuSans-52\"/>\n      </defs>\n      <g style=\"fill:#ffffff;\" transform=\"translate(202.494602 308.716563)scale(0.1 -0.1)\">\n       <use xlink:href=\"#DejaVuSans-52\"/>\n      </g>\n     </g>\n    </g>\n    <g id=\"xtick_4\">\n     <g id=\"line2d_4\">\n      <g>\n       <use style=\"fill:#ffffff;stroke:#ffffff;stroke-width:0.8;\" x=\"284.584943\" xlink:href=\"#mdbc25a51fd\" y=\"294.118125\"/>\n      </g>\n     </g>\n     <g id=\"text_4\">\n      <!-- 6 -->\n      <defs>\n       <path d=\"M 33.015625 40.375 \nQ 26.375 40.375 22.484375 35.828125 \nQ 18.609375 31.296875 18.609375 23.390625 \nQ 18.609375 15.53125 22.484375 10.953125 \nQ 26.375 6.390625 33.015625 6.390625 \nQ 39.65625 6.390625 43.53125 10.953125 \nQ 47.40625 15.53125 47.40625 23.390625 \nQ 47.40625 31.296875 43.53125 35.828125 \nQ 39.65625 40.375 33.015625 40.375 \nz\nM 52.59375 71.296875 \nL 52.59375 62.3125 \nQ 48.875 64.0625 45.09375 64.984375 \nQ 41.3125 65.921875 37.59375 65.921875 \nQ 27.828125 65.921875 22.671875 59.328125 \nQ 17.53125 52.734375 16.796875 39.40625 \nQ 19.671875 43.65625 24.015625 45.921875 \nQ 28.375 48.1875 33.59375 48.1875 \nQ 44.578125 48.1875 50.953125 41.515625 \nQ 57.328125 34.859375 57.328125 23.390625 \nQ 57.328125 12.15625 50.6875 5.359375 \nQ 44.046875 -1.421875 33.015625 -1.421875 \nQ 20.359375 -1.421875 13.671875 8.265625 \nQ 6.984375 17.96875 6.984375 36.375 \nQ 6.984375 53.65625 15.1875 63.9375 \nQ 23.390625 74.21875 37.203125 74.21875 \nQ 40.921875 74.21875 44.703125 73.484375 \nQ 48.484375 72.75 52.59375 71.296875 \nz\n\" id=\"DejaVuSans-54\"/>\n      </defs>\n      <g style=\"fill:#ffffff;\" transform=\"translate(281.403693 308.716563)scale(0.1 -0.1)\">\n       <use xlink:href=\"#DejaVuSans-54\"/>\n      </g>\n     </g>\n    </g>\n    <g id=\"xtick_5\">\n     <g id=\"line2d_5\">\n      <g>\n       <use style=\"fill:#ffffff;stroke:#ffffff;stroke-width:0.8;\" x=\"363.494034\" xlink:href=\"#mdbc25a51fd\" y=\"294.118125\"/>\n      </g>\n     </g>\n     <g id=\"text_5\">\n      <!-- 8 -->\n      <defs>\n       <path d=\"M 31.78125 34.625 \nQ 24.75 34.625 20.71875 30.859375 \nQ 16.703125 27.09375 16.703125 20.515625 \nQ 16.703125 13.921875 20.71875 10.15625 \nQ 24.75 6.390625 31.78125 6.390625 \nQ 38.8125 6.390625 42.859375 10.171875 \nQ 46.921875 13.96875 46.921875 20.515625 \nQ 46.921875 27.09375 42.890625 30.859375 \nQ 38.875 34.625 31.78125 34.625 \nz\nM 21.921875 38.8125 \nQ 15.578125 40.375 12.03125 44.71875 \nQ 8.5 49.078125 8.5 55.328125 \nQ 8.5 64.0625 14.71875 69.140625 \nQ 20.953125 74.21875 31.78125 74.21875 \nQ 42.671875 74.21875 48.875 69.140625 \nQ 55.078125 64.0625 55.078125 55.328125 \nQ 55.078125 49.078125 51.53125 44.71875 \nQ 48 40.375 41.703125 38.8125 \nQ 48.828125 37.15625 52.796875 32.3125 \nQ 56.78125 27.484375 56.78125 20.515625 \nQ 56.78125 9.90625 50.3125 4.234375 \nQ 43.84375 -1.421875 31.78125 -1.421875 \nQ 19.734375 -1.421875 13.25 4.234375 \nQ 6.78125 9.90625 6.78125 20.515625 \nQ 6.78125 27.484375 10.78125 32.3125 \nQ 14.796875 37.15625 21.921875 38.8125 \nz\nM 18.3125 54.390625 \nQ 18.3125 48.734375 21.84375 45.5625 \nQ 25.390625 42.390625 31.78125 42.390625 \nQ 38.140625 42.390625 41.71875 45.5625 \nQ 45.3125 48.734375 45.3125 54.390625 \nQ 45.3125 60.0625 41.71875 63.234375 \nQ 38.140625 66.40625 31.78125 66.40625 \nQ 25.390625 66.40625 21.84375 63.234375 \nQ 18.3125 60.0625 18.3125 54.390625 \nz\n\" id=\"DejaVuSans-56\"/>\n      </defs>\n      <g style=\"fill:#ffffff;\" transform=\"translate(360.312784 308.716563)scale(0.1 -0.1)\">\n       <use xlink:href=\"#DejaVuSans-56\"/>\n      </g>\n     </g>\n    </g>\n   </g>\n   <g id=\"matplotlib.axis_2\">\n    <g id=\"ytick_1\">\n     <g id=\"line2d_6\">\n      <defs>\n       <path d=\"M 0 0 \nL -3.5 0 \n\" id=\"m56c8e88ed2\" style=\"stroke:#ffffff;stroke-width:0.8;\"/>\n      </defs>\n      <g>\n       <use style=\"fill:#ffffff;stroke:#ffffff;stroke-width:0.8;\" x=\"30.103125\" xlink:href=\"#m56c8e88ed2\" y=\"286.94164\"/>\n      </g>\n     </g>\n     <g id=\"text_6\">\n      <!-- 0.2 -->\n      <defs>\n       <path d=\"M 10.6875 12.40625 \nL 21 12.40625 \nL 21 0 \nL 10.6875 0 \nz\n\" id=\"DejaVuSans-46\"/>\n      </defs>\n      <g style=\"fill:#ffffff;\" transform=\"translate(7.2 290.740859)scale(0.1 -0.1)\">\n       <use xlink:href=\"#DejaVuSans-48\"/>\n       <use x=\"63.623047\" xlink:href=\"#DejaVuSans-46\"/>\n       <use x=\"95.410156\" xlink:href=\"#DejaVuSans-50\"/>\n      </g>\n     </g>\n    </g>\n    <g id=\"ytick_2\">\n     <g id=\"line2d_7\">\n      <g>\n       <use style=\"fill:#ffffff;stroke:#ffffff;stroke-width:0.8;\" x=\"30.103125\" xlink:href=\"#m56c8e88ed2\" y=\"236.911581\"/>\n      </g>\n     </g>\n     <g id=\"text_7\">\n      <!-- 0.3 -->\n      <defs>\n       <path d=\"M 40.578125 39.3125 \nQ 47.65625 37.796875 51.625 33 \nQ 55.609375 28.21875 55.609375 21.1875 \nQ 55.609375 10.40625 48.1875 4.484375 \nQ 40.765625 -1.421875 27.09375 -1.421875 \nQ 22.515625 -1.421875 17.65625 -0.515625 \nQ 12.796875 0.390625 7.625 2.203125 \nL 7.625 11.71875 \nQ 11.71875 9.328125 16.59375 8.109375 \nQ 21.484375 6.890625 26.8125 6.890625 \nQ 36.078125 6.890625 40.9375 10.546875 \nQ 45.796875 14.203125 45.796875 21.1875 \nQ 45.796875 27.640625 41.28125 31.265625 \nQ 36.765625 34.90625 28.71875 34.90625 \nL 20.21875 34.90625 \nL 20.21875 43.015625 \nL 29.109375 43.015625 \nQ 36.375 43.015625 40.234375 45.921875 \nQ 44.09375 48.828125 44.09375 54.296875 \nQ 44.09375 59.90625 40.109375 62.90625 \nQ 36.140625 65.921875 28.71875 65.921875 \nQ 24.65625 65.921875 20.015625 65.03125 \nQ 15.375 64.15625 9.8125 62.3125 \nL 9.8125 71.09375 \nQ 15.4375 72.65625 20.34375 73.4375 \nQ 25.25 74.21875 29.59375 74.21875 \nQ 40.828125 74.21875 47.359375 69.109375 \nQ 53.90625 64.015625 53.90625 55.328125 \nQ 53.90625 49.265625 50.4375 45.09375 \nQ 46.96875 40.921875 40.578125 39.3125 \nz\n\" id=\"DejaVuSans-51\"/>\n      </defs>\n      <g style=\"fill:#ffffff;\" transform=\"translate(7.2 240.7108)scale(0.1 -0.1)\">\n       <use xlink:href=\"#DejaVuSans-48\"/>\n       <use x=\"63.623047\" xlink:href=\"#DejaVuSans-46\"/>\n       <use x=\"95.410156\" xlink:href=\"#DejaVuSans-51\"/>\n      </g>\n     </g>\n    </g>\n    <g id=\"ytick_3\">\n     <g id=\"line2d_8\">\n      <g>\n       <use style=\"fill:#ffffff;stroke:#ffffff;stroke-width:0.8;\" x=\"30.103125\" xlink:href=\"#m56c8e88ed2\" y=\"186.881522\"/>\n      </g>\n     </g>\n     <g id=\"text_8\">\n      <!-- 0.4 -->\n      <g style=\"fill:#ffffff;\" transform=\"translate(7.2 190.680741)scale(0.1 -0.1)\">\n       <use xlink:href=\"#DejaVuSans-48\"/>\n       <use x=\"63.623047\" xlink:href=\"#DejaVuSans-46\"/>\n       <use x=\"95.410156\" xlink:href=\"#DejaVuSans-52\"/>\n      </g>\n     </g>\n    </g>\n    <g id=\"ytick_4\">\n     <g id=\"line2d_9\">\n      <g>\n       <use style=\"fill:#ffffff;stroke:#ffffff;stroke-width:0.8;\" x=\"30.103125\" xlink:href=\"#m56c8e88ed2\" y=\"136.851463\"/>\n      </g>\n     </g>\n     <g id=\"text_9\">\n      <!-- 0.5 -->\n      <defs>\n       <path d=\"M 10.796875 72.90625 \nL 49.515625 72.90625 \nL 49.515625 64.59375 \nL 19.828125 64.59375 \nL 19.828125 46.734375 \nQ 21.96875 47.46875 24.109375 47.828125 \nQ 26.265625 48.1875 28.421875 48.1875 \nQ 40.625 48.1875 47.75 41.5 \nQ 54.890625 34.8125 54.890625 23.390625 \nQ 54.890625 11.625 47.5625 5.09375 \nQ 40.234375 -1.421875 26.90625 -1.421875 \nQ 22.3125 -1.421875 17.546875 -0.640625 \nQ 12.796875 0.140625 7.71875 1.703125 \nL 7.71875 11.625 \nQ 12.109375 9.234375 16.796875 8.0625 \nQ 21.484375 6.890625 26.703125 6.890625 \nQ 35.15625 6.890625 40.078125 11.328125 \nQ 45.015625 15.765625 45.015625 23.390625 \nQ 45.015625 31 40.078125 35.4375 \nQ 35.15625 39.890625 26.703125 39.890625 \nQ 22.75 39.890625 18.8125 39.015625 \nQ 14.890625 38.140625 10.796875 36.28125 \nz\n\" id=\"DejaVuSans-53\"/>\n      </defs>\n      <g style=\"fill:#ffffff;\" transform=\"translate(7.2 140.650682)scale(0.1 -0.1)\">\n       <use xlink:href=\"#DejaVuSans-48\"/>\n       <use x=\"63.623047\" xlink:href=\"#DejaVuSans-46\"/>\n       <use x=\"95.410156\" xlink:href=\"#DejaVuSans-53\"/>\n      </g>\n     </g>\n    </g>\n    <g id=\"ytick_5\">\n     <g id=\"line2d_10\">\n      <g>\n       <use style=\"fill:#ffffff;stroke:#ffffff;stroke-width:0.8;\" x=\"30.103125\" xlink:href=\"#m56c8e88ed2\" y=\"86.821405\"/>\n      </g>\n     </g>\n     <g id=\"text_10\">\n      <!-- 0.6 -->\n      <g style=\"fill:#ffffff;\" transform=\"translate(7.2 90.620623)scale(0.1 -0.1)\">\n       <use xlink:href=\"#DejaVuSans-48\"/>\n       <use x=\"63.623047\" xlink:href=\"#DejaVuSans-46\"/>\n       <use x=\"95.410156\" xlink:href=\"#DejaVuSans-54\"/>\n      </g>\n     </g>\n    </g>\n    <g id=\"ytick_6\">\n     <g id=\"line2d_11\">\n      <g>\n       <use style=\"fill:#ffffff;stroke:#ffffff;stroke-width:0.8;\" x=\"30.103125\" xlink:href=\"#m56c8e88ed2\" y=\"36.791346\"/>\n      </g>\n     </g>\n     <g id=\"text_11\">\n      <!-- 0.7 -->\n      <defs>\n       <path d=\"M 8.203125 72.90625 \nL 55.078125 72.90625 \nL 55.078125 68.703125 \nL 28.609375 0 \nL 18.3125 0 \nL 43.21875 64.59375 \nL 8.203125 64.59375 \nz\n\" id=\"DejaVuSans-55\"/>\n      </defs>\n      <g style=\"fill:#ffffff;\" transform=\"translate(7.2 40.590564)scale(0.1 -0.1)\">\n       <use xlink:href=\"#DejaVuSans-48\"/>\n       <use x=\"63.623047\" xlink:href=\"#DejaVuSans-46\"/>\n       <use x=\"95.410156\" xlink:href=\"#DejaVuSans-55\"/>\n      </g>\n     </g>\n    </g>\n   </g>\n   <g id=\"line2d_12\">\n    <path clip-path=\"url(#pd4ec36a579)\" d=\"M 47.85767 281.76358 \nL 87.312216 116.464408 \nL 126.766761 84.121627 \nL 166.221307 71.580829 \nL 205.675852 62.487428 \nL 245.130398 56.14302 \nL 284.584943 48.953474 \nL 324.039489 44.221686 \nL 363.494034 39.388886 \nL 402.94858 34.67267 \n\" style=\"fill:none;stroke:#8dd3c7;stroke-linecap:square;stroke-width:1.5;\"/>\n   </g>\n   <g id=\"line2d_13\">\n    <path clip-path=\"url(#pd4ec36a579)\" d=\"M 47.85767 161.498625 \nL 87.312216 126.226249 \nL 126.766761 80.887497 \nL 166.221307 84.860264 \nL 205.675852 71.842345 \nL 245.130398 66.514589 \nL 284.584943 70.388136 \nL 324.039489 64.604889 \nL 363.494034 63.389859 \nL 402.94858 61.464382 \n\" style=\"fill:none;stroke:#feffb3;stroke-linecap:square;stroke-width:1.5;\"/>\n   </g>\n   <g id=\"patch_3\">\n    <path d=\"M 30.103125 294.118125 \nL 30.103125 22.318125 \n\" style=\"fill:none;stroke:#ffffff;stroke-linecap:square;stroke-linejoin:miter;stroke-width:0.8;\"/>\n   </g>\n   <g id=\"patch_4\">\n    <path d=\"M 420.703125 294.118125 \nL 420.703125 22.318125 \n\" style=\"fill:none;stroke:#ffffff;stroke-linecap:square;stroke-linejoin:miter;stroke-width:0.8;\"/>\n   </g>\n   <g id=\"patch_5\">\n    <path d=\"M 30.103125 294.118125 \nL 420.703125 294.118125 \n\" style=\"fill:none;stroke:#ffffff;stroke-linecap:square;stroke-linejoin:miter;stroke-width:0.8;\"/>\n   </g>\n   <g id=\"patch_6\">\n    <path d=\"M 30.103125 22.318125 \nL 420.703125 22.318125 \n\" style=\"fill:none;stroke:#ffffff;stroke-linecap:square;stroke-linejoin:miter;stroke-width:0.8;\"/>\n   </g>\n   <g id=\"text_12\">\n    <!-- F1 Score -->\n    <defs>\n     <path d=\"M 9.8125 72.90625 \nL 51.703125 72.90625 \nL 51.703125 64.59375 \nL 19.671875 64.59375 \nL 19.671875 43.109375 \nL 48.578125 43.109375 \nL 48.578125 34.8125 \nL 19.671875 34.8125 \nL 19.671875 0 \nL 9.8125 0 \nz\n\" id=\"DejaVuSans-70\"/>\n     <path d=\"M 12.40625 8.296875 \nL 28.515625 8.296875 \nL 28.515625 63.921875 \nL 10.984375 60.40625 \nL 10.984375 69.390625 \nL 28.421875 72.90625 \nL 38.28125 72.90625 \nL 38.28125 8.296875 \nL 54.390625 8.296875 \nL 54.390625 0 \nL 12.40625 0 \nz\n\" id=\"DejaVuSans-49\"/>\n     <path id=\"DejaVuSans-32\"/>\n     <path d=\"M 53.515625 70.515625 \nL 53.515625 60.890625 \nQ 47.90625 63.578125 42.921875 64.890625 \nQ 37.9375 66.21875 33.296875 66.21875 \nQ 25.25 66.21875 20.875 63.09375 \nQ 16.5 59.96875 16.5 54.203125 \nQ 16.5 49.359375 19.40625 46.890625 \nQ 22.3125 44.4375 30.421875 42.921875 \nL 36.375 41.703125 \nQ 47.40625 39.59375 52.65625 34.296875 \nQ 57.90625 29 57.90625 20.125 \nQ 57.90625 9.515625 50.796875 4.046875 \nQ 43.703125 -1.421875 29.984375 -1.421875 \nQ 24.8125 -1.421875 18.96875 -0.25 \nQ 13.140625 0.921875 6.890625 3.21875 \nL 6.890625 13.375 \nQ 12.890625 10.015625 18.65625 8.296875 \nQ 24.421875 6.59375 29.984375 6.59375 \nQ 38.421875 6.59375 43.015625 9.90625 \nQ 47.609375 13.234375 47.609375 19.390625 \nQ 47.609375 24.75 44.3125 27.78125 \nQ 41.015625 30.8125 33.5 32.328125 \nL 27.484375 33.5 \nQ 16.453125 35.6875 11.515625 40.375 \nQ 6.59375 45.0625 6.59375 53.421875 \nQ 6.59375 63.09375 13.40625 68.65625 \nQ 20.21875 74.21875 32.171875 74.21875 \nQ 37.3125 74.21875 42.625 73.28125 \nQ 47.953125 72.359375 53.515625 70.515625 \nz\n\" id=\"DejaVuSans-83\"/>\n     <path d=\"M 48.78125 52.59375 \nL 48.78125 44.1875 \nQ 44.96875 46.296875 41.140625 47.34375 \nQ 37.3125 48.390625 33.40625 48.390625 \nQ 24.65625 48.390625 19.8125 42.84375 \nQ 14.984375 37.3125 14.984375 27.296875 \nQ 14.984375 17.28125 19.8125 11.734375 \nQ 24.65625 6.203125 33.40625 6.203125 \nQ 37.3125 6.203125 41.140625 7.25 \nQ 44.96875 8.296875 48.78125 10.40625 \nL 48.78125 2.09375 \nQ 45.015625 0.34375 40.984375 -0.53125 \nQ 36.96875 -1.421875 32.421875 -1.421875 \nQ 20.0625 -1.421875 12.78125 6.34375 \nQ 5.515625 14.109375 5.515625 27.296875 \nQ 5.515625 40.671875 12.859375 48.328125 \nQ 20.21875 56 33.015625 56 \nQ 37.15625 56 41.109375 55.140625 \nQ 45.0625 54.296875 48.78125 52.59375 \nz\n\" id=\"DejaVuSans-99\"/>\n     <path d=\"M 30.609375 48.390625 \nQ 23.390625 48.390625 19.1875 42.75 \nQ 14.984375 37.109375 14.984375 27.296875 \nQ 14.984375 17.484375 19.15625 11.84375 \nQ 23.34375 6.203125 30.609375 6.203125 \nQ 37.796875 6.203125 41.984375 11.859375 \nQ 46.1875 17.53125 46.1875 27.296875 \nQ 46.1875 37.015625 41.984375 42.703125 \nQ 37.796875 48.390625 30.609375 48.390625 \nz\nM 30.609375 56 \nQ 42.328125 56 49.015625 48.375 \nQ 55.71875 40.765625 55.71875 27.296875 \nQ 55.71875 13.875 49.015625 6.21875 \nQ 42.328125 -1.421875 30.609375 -1.421875 \nQ 18.84375 -1.421875 12.171875 6.21875 \nQ 5.515625 13.875 5.515625 27.296875 \nQ 5.515625 40.765625 12.171875 48.375 \nQ 18.84375 56 30.609375 56 \nz\n\" id=\"DejaVuSans-111\"/>\n     <path d=\"M 41.109375 46.296875 \nQ 39.59375 47.171875 37.8125 47.578125 \nQ 36.03125 48 33.890625 48 \nQ 26.265625 48 22.1875 43.046875 \nQ 18.109375 38.09375 18.109375 28.8125 \nL 18.109375 0 \nL 9.078125 0 \nL 9.078125 54.6875 \nL 18.109375 54.6875 \nL 18.109375 46.1875 \nQ 20.953125 51.171875 25.484375 53.578125 \nQ 30.03125 56 36.53125 56 \nQ 37.453125 56 38.578125 55.875 \nQ 39.703125 55.765625 41.0625 55.515625 \nz\n\" id=\"DejaVuSans-114\"/>\n     <path d=\"M 56.203125 29.59375 \nL 56.203125 25.203125 \nL 14.890625 25.203125 \nQ 15.484375 15.921875 20.484375 11.0625 \nQ 25.484375 6.203125 34.421875 6.203125 \nQ 39.59375 6.203125 44.453125 7.46875 \nQ 49.3125 8.734375 54.109375 11.28125 \nL 54.109375 2.78125 \nQ 49.265625 0.734375 44.1875 -0.34375 \nQ 39.109375 -1.421875 33.890625 -1.421875 \nQ 20.796875 -1.421875 13.15625 6.1875 \nQ 5.515625 13.8125 5.515625 26.8125 \nQ 5.515625 40.234375 12.765625 48.109375 \nQ 20.015625 56 32.328125 56 \nQ 43.359375 56 49.78125 48.890625 \nQ 56.203125 41.796875 56.203125 29.59375 \nz\nM 47.21875 32.234375 \nQ 47.125 39.59375 43.09375 43.984375 \nQ 39.0625 48.390625 32.421875 48.390625 \nQ 24.90625 48.390625 20.390625 44.140625 \nQ 15.875 39.890625 15.1875 32.171875 \nz\n\" id=\"DejaVuSans-101\"/>\n    </defs>\n    <g style=\"fill:#ffffff;\" transform=\"translate(199.291875 16.318125)scale(0.12 -0.12)\">\n     <use xlink:href=\"#DejaVuSans-70\"/>\n     <use x=\"57.519531\" xlink:href=\"#DejaVuSans-49\"/>\n     <use x=\"121.142578\" xlink:href=\"#DejaVuSans-32\"/>\n     <use x=\"152.929688\" xlink:href=\"#DejaVuSans-83\"/>\n     <use x=\"216.40625\" xlink:href=\"#DejaVuSans-99\"/>\n     <use x=\"271.386719\" xlink:href=\"#DejaVuSans-111\"/>\n     <use x=\"332.568359\" xlink:href=\"#DejaVuSans-114\"/>\n     <use x=\"373.650391\" xlink:href=\"#DejaVuSans-101\"/>\n    </g>\n   </g>\n   <g id=\"legend_1\">\n    <g id=\"patch_7\">\n     <path d=\"M 37.103125 59.674375 \nL 93.054688 59.674375 \nQ 95.054688 59.674375 95.054688 57.674375 \nL 95.054688 29.318125 \nQ 95.054688 27.318125 93.054688 27.318125 \nL 37.103125 27.318125 \nQ 35.103125 27.318125 35.103125 29.318125 \nL 35.103125 57.674375 \nQ 35.103125 59.674375 37.103125 59.674375 \nz\n\" style=\"opacity:0.8;stroke:#cccccc;stroke-linejoin:miter;\"/>\n    </g>\n    <g id=\"line2d_14\">\n     <path d=\"M 39.103125 35.416562 \nL 59.103125 35.416562 \n\" style=\"fill:none;stroke:#8dd3c7;stroke-linecap:square;stroke-width:1.5;\"/>\n    </g>\n    <g id=\"line2d_15\"/>\n    <g id=\"text_13\">\n     <!-- train -->\n     <defs>\n      <path d=\"M 18.3125 70.21875 \nL 18.3125 54.6875 \nL 36.8125 54.6875 \nL 36.8125 47.703125 \nL 18.3125 47.703125 \nL 18.3125 18.015625 \nQ 18.3125 11.328125 20.140625 9.421875 \nQ 21.96875 7.515625 27.59375 7.515625 \nL 36.8125 7.515625 \nL 36.8125 0 \nL 27.59375 0 \nQ 17.1875 0 13.234375 3.875 \nQ 9.28125 7.765625 9.28125 18.015625 \nL 9.28125 47.703125 \nL 2.6875 47.703125 \nL 2.6875 54.6875 \nL 9.28125 54.6875 \nL 9.28125 70.21875 \nz\n\" id=\"DejaVuSans-116\"/>\n      <path d=\"M 34.28125 27.484375 \nQ 23.390625 27.484375 19.1875 25 \nQ 14.984375 22.515625 14.984375 16.5 \nQ 14.984375 11.71875 18.140625 8.90625 \nQ 21.296875 6.109375 26.703125 6.109375 \nQ 34.1875 6.109375 38.703125 11.40625 \nQ 43.21875 16.703125 43.21875 25.484375 \nL 43.21875 27.484375 \nz\nM 52.203125 31.203125 \nL 52.203125 0 \nL 43.21875 0 \nL 43.21875 8.296875 \nQ 40.140625 3.328125 35.546875 0.953125 \nQ 30.953125 -1.421875 24.3125 -1.421875 \nQ 15.921875 -1.421875 10.953125 3.296875 \nQ 6 8.015625 6 15.921875 \nQ 6 25.140625 12.171875 29.828125 \nQ 18.359375 34.515625 30.609375 34.515625 \nL 43.21875 34.515625 \nL 43.21875 35.40625 \nQ 43.21875 41.609375 39.140625 45 \nQ 35.0625 48.390625 27.6875 48.390625 \nQ 23 48.390625 18.546875 47.265625 \nQ 14.109375 46.140625 10.015625 43.890625 \nL 10.015625 52.203125 \nQ 14.9375 54.109375 19.578125 55.046875 \nQ 24.21875 56 28.609375 56 \nQ 40.484375 56 46.34375 49.84375 \nQ 52.203125 43.703125 52.203125 31.203125 \nz\n\" id=\"DejaVuSans-97\"/>\n      <path d=\"M 9.421875 54.6875 \nL 18.40625 54.6875 \nL 18.40625 0 \nL 9.421875 0 \nz\nM 9.421875 75.984375 \nL 18.40625 75.984375 \nL 18.40625 64.59375 \nL 9.421875 64.59375 \nz\n\" id=\"DejaVuSans-105\"/>\n      <path d=\"M 54.890625 33.015625 \nL 54.890625 0 \nL 45.90625 0 \nL 45.90625 32.71875 \nQ 45.90625 40.484375 42.875 44.328125 \nQ 39.84375 48.1875 33.796875 48.1875 \nQ 26.515625 48.1875 22.3125 43.546875 \nQ 18.109375 38.921875 18.109375 30.90625 \nL 18.109375 0 \nL 9.078125 0 \nL 9.078125 54.6875 \nL 18.109375 54.6875 \nL 18.109375 46.1875 \nQ 21.34375 51.125 25.703125 53.5625 \nQ 30.078125 56 35.796875 56 \nQ 45.21875 56 50.046875 50.171875 \nQ 54.890625 44.34375 54.890625 33.015625 \nz\n\" id=\"DejaVuSans-110\"/>\n     </defs>\n     <g style=\"fill:#ffffff;\" transform=\"translate(67.103125 38.916562)scale(0.1 -0.1)\">\n      <use xlink:href=\"#DejaVuSans-116\"/>\n      <use x=\"39.208984\" xlink:href=\"#DejaVuSans-114\"/>\n      <use x=\"80.322266\" xlink:href=\"#DejaVuSans-97\"/>\n      <use x=\"141.601562\" xlink:href=\"#DejaVuSans-105\"/>\n      <use x=\"169.384766\" xlink:href=\"#DejaVuSans-110\"/>\n     </g>\n    </g>\n    <g id=\"line2d_16\">\n     <path d=\"M 39.103125 50.094688 \nL 59.103125 50.094688 \n\" style=\"fill:none;stroke:#feffb3;stroke-linecap:square;stroke-width:1.5;\"/>\n    </g>\n    <g id=\"line2d_17\"/>\n    <g id=\"text_14\">\n     <!-- valid -->\n     <defs>\n      <path d=\"M 2.984375 54.6875 \nL 12.5 54.6875 \nL 29.59375 8.796875 \nL 46.6875 54.6875 \nL 56.203125 54.6875 \nL 35.6875 0 \nL 23.484375 0 \nz\n\" id=\"DejaVuSans-118\"/>\n      <path d=\"M 9.421875 75.984375 \nL 18.40625 75.984375 \nL 18.40625 0 \nL 9.421875 0 \nz\n\" id=\"DejaVuSans-108\"/>\n      <path d=\"M 45.40625 46.390625 \nL 45.40625 75.984375 \nL 54.390625 75.984375 \nL 54.390625 0 \nL 45.40625 0 \nL 45.40625 8.203125 \nQ 42.578125 3.328125 38.25 0.953125 \nQ 33.9375 -1.421875 27.875 -1.421875 \nQ 17.96875 -1.421875 11.734375 6.484375 \nQ 5.515625 14.40625 5.515625 27.296875 \nQ 5.515625 40.1875 11.734375 48.09375 \nQ 17.96875 56 27.875 56 \nQ 33.9375 56 38.25 53.625 \nQ 42.578125 51.265625 45.40625 46.390625 \nz\nM 14.796875 27.296875 \nQ 14.796875 17.390625 18.875 11.75 \nQ 22.953125 6.109375 30.078125 6.109375 \nQ 37.203125 6.109375 41.296875 11.75 \nQ 45.40625 17.390625 45.40625 27.296875 \nQ 45.40625 37.203125 41.296875 42.84375 \nQ 37.203125 48.484375 30.078125 48.484375 \nQ 22.953125 48.484375 18.875 42.84375 \nQ 14.796875 37.203125 14.796875 27.296875 \nz\n\" id=\"DejaVuSans-100\"/>\n     </defs>\n     <g style=\"fill:#ffffff;\" transform=\"translate(67.103125 53.594688)scale(0.1 -0.1)\">\n      <use xlink:href=\"#DejaVuSans-118\"/>\n      <use x=\"59.179688\" xlink:href=\"#DejaVuSans-97\"/>\n      <use x=\"120.458984\" xlink:href=\"#DejaVuSans-108\"/>\n      <use x=\"148.242188\" xlink:href=\"#DejaVuSans-105\"/>\n      <use x=\"176.025391\" xlink:href=\"#DejaVuSans-100\"/>\n     </g>\n    </g>\n   </g>\n  </g>\n </g>\n <defs>\n  <clipPath id=\"pd4ec36a579\">\n   <rect height=\"271.8\" width=\"390.6\" x=\"30.103125\" y=\"22.318125\"/>\n  </clipPath>\n </defs>\n</svg>\n",
      "text/plain": "<Figure size 504x360 with 1 Axes>"
     },
     "metadata": {
      "needs_background": "dark"
     },
     "output_type": "display_data"
    }
   ],
   "source": [
    "model = Net(len(word_dict))\n",
    "\n",
    "opt = torch.optim.AdamW(model.parameters(), lr=learning_rate)\n",
    "criteria = torch.nn.BCELoss()\n",
    "model.to(device)\n",
    "history = {'train':[],'valid':[]}\n",
    "# Tensorborad\n",
    "writer = SummaryWriter(\"test_experiment\")\n",
    "\n",
    "for epoch in range(max_epoch):\n",
    "    print('Epoch: {}'.format(epoch))\n",
    "    _run_epoch(epoch, 'train')\n",
    "    _run_epoch(epoch, 'valid')\n",
    "    save(epoch)\n",
    "    \n",
    "with open('model/history.json', 'r') as f:\n",
    "    history = json.loads(f.read())\n",
    "    \n",
    "train_loss = [l['loss'] for l in history['train']]\n",
    "valid_loss = [l['loss'] for l in history['valid']]\n",
    "train_f1 = [l['f1'] for l in history['train']]\n",
    "valid_f1 = [l['f1'] for l in history['valid']]\n",
    "\n",
    "plt.figure(figsize=(7,5))\n",
    "plt.title('Loss')\n",
    "plt.plot(train_loss, label='train')\n",
    "plt.plot(valid_loss, label='valid')\n",
    "plt.legend()\n",
    "plt.show()\n",
    "\n",
    "plt.figure(figsize=(7,5))\n",
    "plt.title('F1 Score')\n",
    "plt.plot(train_f1, label='train')\n",
    "plt.plot(valid_f1, label='valid')\n",
    "plt.legend()\n",
    "plt.show()\n",
    "\n",
    "print('Best F1 score ', max([[l['f1'], idx] for idx, l in enumerate(history['valid'])]))"
   ]
  },
  {
   "cell_type": "code",
   "execution_count": 31,
   "metadata": {},
   "outputs": [
    {
     "name": "stderr",
     "output_type": "stream",
     "text": "\nPredict:   0%|          | 0/313 [00:00<?, ?it/s]\u001b[A\nPredict:   0%|          | 1/313 [00:00<01:15,  4.15it/s]\u001b[A\nPredict:   1%|          | 2/313 [00:00<01:03,  4.87it/s]\u001b[A\nPredict:   1%|          | 3/313 [00:00<00:57,  5.38it/s]\u001b[A\nPredict:   1%|▏         | 4/313 [00:00<00:51,  5.97it/s]\u001b[A\nPredict:   2%|▏         | 5/313 [00:00<00:49,  6.18it/s]\u001b[A\nPredict:   2%|▏         | 6/313 [00:00<00:46,  6.65it/s]\u001b[A\nPredict:   2%|▏         | 7/313 [00:01<00:44,  6.90it/s]\u001b[A\nPredict:   3%|▎         | 8/313 [00:01<00:42,  7.26it/s]\u001b[A\nPredict:   3%|▎         | 9/313 [00:01<00:41,  7.33it/s]\u001b[A\nPredict:   3%|▎         | 10/313 [00:01<00:40,  7.55it/s]\u001b[A\nPredict:   4%|▎         | 11/313 [00:01<00:40,  7.40it/s]\u001b[A\nPredict:   4%|▍         | 12/313 [00:01<00:41,  7.25it/s]\u001b[A\nPredict:   4%|▍         | 13/313 [00:01<00:40,  7.50it/s]\u001b[A\nPredict:   4%|▍         | 14/313 [00:02<00:47,  6.26it/s]\u001b[A\nPredict:   5%|▍         | 15/313 [00:02<00:44,  6.62it/s]\u001b[A\nPredict:   5%|▌         | 16/313 [00:02<00:44,  6.75it/s]\u001b[A\nPredict:   5%|▌         | 17/313 [00:02<00:44,  6.68it/s]\u001b[A\nPredict:   6%|▌         | 18/313 [00:02<00:41,  7.08it/s]\u001b[A\nPredict:   6%|▌         | 19/313 [00:02<00:41,  7.14it/s]\u001b[A\nPredict:   6%|▋         | 20/313 [00:02<00:39,  7.41it/s]\u001b[A\nPredict:   7%|▋         | 21/313 [00:02<00:40,  7.27it/s]\u001b[A\nPredict:   7%|▋         | 22/313 [00:03<00:39,  7.35it/s]\u001b[A\nPredict:   7%|▋         | 23/313 [00:03<00:38,  7.60it/s]\u001b[A\nPredict:   8%|▊         | 24/313 [00:03<00:37,  7.80it/s]\u001b[A\nPredict:   8%|▊         | 25/313 [00:03<00:37,  7.72it/s]\u001b[A\nPredict:   8%|▊         | 26/313 [00:03<00:38,  7.50it/s]\u001b[A\nPredict:   9%|▊         | 27/313 [00:03<00:37,  7.56it/s]\u001b[A\nPredict:   9%|▉         | 28/313 [00:03<00:37,  7.57it/s]\u001b[A\nPredict:   9%|▉         | 29/313 [00:04<00:39,  7.22it/s]\u001b[A\nPredict:  10%|▉         | 30/313 [00:04<00:42,  6.67it/s]\u001b[A\nPredict:  10%|▉         | 31/313 [00:04<00:43,  6.52it/s]\u001b[A\nPredict:  10%|█         | 32/313 [00:04<00:41,  6.79it/s]\u001b[A\nPredict:  11%|█         | 33/313 [00:04<00:40,  6.86it/s]\u001b[A\nPredict:  11%|█         | 34/313 [00:04<00:41,  6.64it/s]\u001b[A\nPredict:  11%|█         | 35/313 [00:04<00:39,  7.04it/s]\u001b[A\nPredict:  12%|█▏        | 36/313 [00:05<00:39,  7.07it/s]\u001b[A\nPredict:  12%|█▏        | 37/313 [00:05<00:41,  6.71it/s]\u001b[A\nPredict:  12%|█▏        | 38/313 [00:05<00:40,  6.84it/s]\u001b[A\nPredict:  12%|█▏        | 39/313 [00:05<00:38,  7.20it/s]\u001b[A\nPredict:  13%|█▎        | 40/313 [00:05<00:38,  7.17it/s]\u001b[A\nPredict:  13%|█▎        | 41/313 [00:05<00:36,  7.49it/s]\u001b[A\nPredict:  13%|█▎        | 42/313 [00:05<00:36,  7.38it/s]\u001b[A\nPredict:  14%|█▎        | 43/313 [00:06<00:35,  7.59it/s]\u001b[A\nPredict:  14%|█▍        | 44/313 [00:06<00:35,  7.54it/s]\u001b[A\nPredict:  14%|█▍        | 45/313 [00:06<00:35,  7.49it/s]\u001b[A\nPredict:  15%|█▍        | 46/313 [00:06<00:50,  5.27it/s]\u001b[A\nPredict:  15%|█▌        | 47/313 [00:06<00:46,  5.69it/s]\u001b[A\nPredict:  15%|█▌        | 48/313 [00:06<00:43,  6.13it/s]\u001b[A\nPredict:  16%|█▌        | 49/313 [00:07<00:41,  6.34it/s]\u001b[A\nPredict:  16%|█▌        | 50/313 [00:07<00:42,  6.17it/s]\u001b[A\nPredict:  16%|█▋        | 51/313 [00:07<00:39,  6.67it/s]\u001b[A\nPredict:  17%|█▋        | 52/313 [00:07<00:36,  7.17it/s]\u001b[A\nPredict:  17%|█▋        | 53/313 [00:07<00:35,  7.42it/s]\u001b[A\nPredict:  17%|█▋        | 54/313 [00:07<00:34,  7.45it/s]\u001b[A\nPredict:  18%|█▊        | 55/313 [00:07<00:33,  7.65it/s]\u001b[A\nPredict:  18%|█▊        | 56/313 [00:07<00:34,  7.46it/s]\u001b[A\nPredict:  18%|█▊        | 57/313 [00:08<00:32,  7.85it/s]\u001b[A\nPredict:  19%|█▊        | 58/313 [00:08<00:39,  6.53it/s]\u001b[A\nPredict:  19%|█▉        | 59/313 [00:08<00:38,  6.53it/s]\u001b[A\nPredict:  19%|█▉        | 60/313 [00:08<00:37,  6.83it/s]\u001b[A\nPredict:  19%|█▉        | 61/313 [00:08<00:35,  7.01it/s]\u001b[A\nPredict:  20%|█▉        | 62/313 [00:08<00:34,  7.32it/s]\u001b[A\nPredict:  20%|██        | 63/313 [00:08<00:33,  7.52it/s]\u001b[A\nPredict:  20%|██        | 64/313 [00:09<00:33,  7.37it/s]\u001b[A\nPredict:  21%|██        | 65/313 [00:09<00:33,  7.33it/s]\u001b[A\nPredict:  21%|██        | 66/313 [00:09<00:33,  7.42it/s]\u001b[A\nPredict:  21%|██▏       | 67/313 [00:09<00:32,  7.47it/s]\u001b[A\nPredict:  22%|██▏       | 68/313 [00:09<00:31,  7.68it/s]\u001b[A\nPredict:  22%|██▏       | 69/313 [00:09<00:32,  7.44it/s]\u001b[A\nPredict:  22%|██▏       | 70/313 [00:09<00:34,  7.08it/s]\u001b[A\nPredict:  23%|██▎       | 71/313 [00:10<00:32,  7.35it/s]\u001b[A\nPredict:  23%|██▎       | 72/313 [00:10<00:33,  7.21it/s]\u001b[A\nPredict:  23%|██▎       | 73/313 [00:10<00:32,  7.32it/s]\u001b[A\nPredict:  24%|██▎       | 74/313 [00:10<00:33,  7.23it/s]\u001b[A\nPredict:  24%|██▍       | 75/313 [00:10<00:33,  7.01it/s]\u001b[A\nPredict:  24%|██▍       | 76/313 [00:10<00:33,  7.12it/s]\u001b[A\nPredict:  25%|██▍       | 77/313 [00:10<00:31,  7.41it/s]\u001b[A\nPredict:  25%|██▍       | 78/313 [00:11<00:33,  6.99it/s]\u001b[A\nPredict:  25%|██▌       | 79/313 [00:11<00:33,  6.99it/s]\u001b[A\nPredict:  26%|██▌       | 80/313 [00:11<00:32,  7.23it/s]\u001b[A\nPredict:  26%|██▌       | 81/313 [00:11<00:29,  7.84it/s]\u001b[A\nPredict:  26%|██▌       | 82/313 [00:11<00:29,  7.90it/s]\u001b[A\nPredict:  27%|██▋       | 83/313 [00:11<00:28,  8.20it/s]\u001b[A\nPredict:  27%|██▋       | 84/313 [00:11<00:27,  8.22it/s]\u001b[A\nPredict:  27%|██▋       | 85/313 [00:11<00:29,  7.64it/s]\u001b[A\nPredict:  27%|██▋       | 86/313 [00:12<00:28,  7.98it/s]\u001b[A\nPredict:  28%|██▊       | 87/313 [00:12<00:28,  7.89it/s]\u001b[A\nPredict:  28%|██▊       | 88/313 [00:12<00:28,  7.98it/s]\u001b[A\nPredict:  28%|██▊       | 89/313 [00:12<00:27,  8.02it/s]\u001b[A\nPredict:  29%|██▉       | 90/313 [00:12<00:27,  8.05it/s]\u001b[A\nPredict:  29%|██▉       | 91/313 [00:12<00:27,  8.06it/s]\u001b[A\nPredict:  29%|██▉       | 92/313 [00:12<00:27,  8.05it/s]\u001b[A\nPredict:  30%|██▉       | 93/313 [00:12<00:27,  7.88it/s]\u001b[A\nPredict:  30%|███       | 94/313 [00:13<00:28,  7.61it/s]\u001b[A\nPredict:  30%|███       | 95/313 [00:13<00:32,  6.80it/s]\u001b[A\nPredict:  31%|███       | 96/313 [00:13<00:30,  7.02it/s]\u001b[A\nPredict:  31%|███       | 97/313 [00:13<00:31,  6.86it/s]\u001b[A\nPredict:  31%|███▏      | 98/313 [00:13<00:30,  7.06it/s]\u001b[A\nPredict:  32%|███▏      | 99/313 [00:13<00:28,  7.55it/s]\u001b[A\nPredict:  32%|███▏      | 100/313 [00:13<00:29,  7.19it/s]\u001b[A\nPredict:  32%|███▏      | 101/313 [00:14<00:29,  7.15it/s]\u001b[A\nPredict:  33%|███▎      | 102/313 [00:14<00:28,  7.41it/s]\u001b[A\nPredict:  33%|███▎      | 103/313 [00:14<00:27,  7.57it/s]\u001b[A\nPredict:  33%|███▎      | 104/313 [00:14<00:30,  6.78it/s]\u001b[A\nPredict:  34%|███▎      | 105/313 [00:14<00:29,  6.98it/s]\u001b[A\nPredict:  34%|███▍      | 106/313 [00:14<00:29,  7.13it/s]\u001b[A\nPredict:  34%|███▍      | 107/313 [00:14<00:28,  7.21it/s]\u001b[A\nPredict:  35%|███▍      | 108/313 [00:15<00:28,  7.30it/s]\u001b[A\nPredict:  35%|███▍      | 109/313 [00:15<00:28,  7.05it/s]\u001b[A\nPredict:  35%|███▌      | 110/313 [00:15<00:27,  7.31it/s]\u001b[A\nPredict:  35%|███▌      | 111/313 [00:15<00:27,  7.37it/s]\u001b[A\nPredict:  36%|███▌      | 112/313 [00:15<00:27,  7.38it/s]\u001b[A\nPredict:  36%|███▌      | 113/313 [00:15<00:30,  6.67it/s]\u001b[A\nPredict:  36%|███▋      | 114/313 [00:15<00:28,  6.89it/s]\u001b[A\nPredict:  37%|███▋      | 115/313 [00:16<00:27,  7.07it/s]\u001b[A\nPredict:  37%|███▋      | 116/313 [00:16<00:27,  7.05it/s]\u001b[A\nPredict:  37%|███▋      | 117/313 [00:16<00:26,  7.29it/s]\u001b[A\nPredict:  38%|███▊      | 118/313 [00:16<00:27,  7.05it/s]\u001b[A\nPredict:  38%|███▊      | 119/313 [00:16<00:28,  6.88it/s]\u001b[A\nPredict:  38%|███▊      | 120/313 [00:16<00:29,  6.65it/s]\u001b[A\nPredict:  39%|███▊      | 121/313 [00:16<00:26,  7.19it/s]\u001b[A\nPredict:  39%|███▉      | 122/313 [00:17<00:26,  7.26it/s]\u001b[A\nPredict:  39%|███▉      | 123/313 [00:17<00:25,  7.52it/s]\u001b[A\nPredict:  40%|███▉      | 124/313 [00:17<00:25,  7.51it/s]\u001b[A\nPredict:  40%|███▉      | 125/313 [00:17<00:23,  7.87it/s]\u001b[A\nPredict:  40%|████      | 126/313 [00:17<00:24,  7.75it/s]\u001b[A\nPredict:  41%|████      | 127/313 [00:17<00:23,  7.87it/s]\u001b[A\nPredict:  41%|████      | 128/313 [00:17<00:25,  7.20it/s]\u001b[A\nPredict:  41%|████      | 129/313 [00:17<00:26,  6.99it/s]\u001b[A\nPredict:  42%|████▏     | 130/313 [00:18<00:25,  7.15it/s]\u001b[A\nPredict:  42%|████▏     | 131/313 [00:18<00:25,  7.10it/s]\u001b[A\nPredict:  42%|████▏     | 132/313 [00:18<00:25,  7.07it/s]\u001b[A\nPredict:  42%|████▏     | 133/313 [00:18<00:24,  7.37it/s]\u001b[A\nPredict:  43%|████▎     | 134/313 [00:18<00:24,  7.43it/s]\u001b[A\nPredict:  43%|████▎     | 135/313 [00:18<00:23,  7.63it/s]\u001b[A\nPredict:  43%|████▎     | 136/313 [00:18<00:22,  7.80it/s]\u001b[A\nPredict:  44%|████▍     | 137/313 [00:19<00:23,  7.56it/s]\u001b[A\nPredict:  44%|████▍     | 138/313 [00:19<00:23,  7.56it/s]\u001b[A\nPredict:  44%|████▍     | 139/313 [00:19<00:24,  7.22it/s]\u001b[A\nPredict:  45%|████▍     | 140/313 [00:19<00:23,  7.31it/s]\u001b[A\nPredict:  45%|████▌     | 141/313 [00:19<00:24,  6.92it/s]\u001b[A\nPredict:  45%|████▌     | 142/313 [00:19<00:25,  6.67it/s]\u001b[A\nPredict:  46%|████▌     | 143/313 [00:19<00:24,  6.88it/s]\u001b[A\nPredict:  46%|████▌     | 144/313 [00:20<00:23,  7.06it/s]\u001b[A\nPredict:  46%|████▋     | 145/313 [00:20<00:23,  7.18it/s]\u001b[A\nPredict:  47%|████▋     | 146/313 [00:20<00:22,  7.27it/s]\u001b[A\nPredict:  47%|████▋     | 147/313 [00:20<00:22,  7.51it/s]\u001b[A\nPredict:  47%|████▋     | 148/313 [00:20<00:21,  7.50it/s]\u001b[A\nPredict:  48%|████▊     | 149/313 [00:20<00:22,  7.18it/s]\u001b[A\nPredict:  48%|████▊     | 150/313 [00:20<00:21,  7.44it/s]\u001b[A\nPredict:  48%|████▊     | 151/313 [00:20<00:21,  7.63it/s]\u001b[A\nPredict:  49%|████▊     | 152/313 [00:21<00:22,  7.09it/s]\u001b[A\nPredict:  49%|████▉     | 153/313 [00:21<00:21,  7.38it/s]\u001b[A\nPredict:  49%|████▉     | 154/313 [00:21<00:20,  7.60it/s]\u001b[A\nPredict:  50%|████▉     | 155/313 [00:21<00:20,  7.55it/s]\u001b[A\nPredict:  50%|████▉     | 156/313 [00:21<00:20,  7.73it/s]\u001b[A\nPredict:  50%|█████     | 157/313 [00:21<00:20,  7.64it/s]\u001b[A\nPredict:  50%|█████     | 158/313 [00:21<00:20,  7.65it/s]\u001b[A\nPredict:  51%|█████     | 159/313 [00:22<00:22,  6.83it/s]\u001b[A\nPredict:  51%|█████     | 160/313 [00:22<00:25,  6.11it/s]\u001b[A\nPredict:  51%|█████▏    | 161/313 [00:22<00:23,  6.61it/s]\u001b[A\nPredict:  52%|█████▏    | 162/313 [00:22<00:22,  6.60it/s]\u001b[A\nPredict:  52%|█████▏    | 163/313 [00:22<00:21,  6.87it/s]\u001b[A\nPredict:  52%|█████▏    | 164/313 [00:22<00:21,  6.90it/s]\u001b[A\nPredict:  53%|█████▎    | 165/313 [00:22<00:22,  6.66it/s]\u001b[A\nPredict:  53%|█████▎    | 166/313 [00:23<00:20,  7.06it/s]\u001b[A\nPredict:  53%|█████▎    | 167/313 [00:23<00:19,  7.36it/s]\u001b[A\nPredict:  54%|█████▎    | 168/313 [00:23<00:19,  7.57it/s]\u001b[A\nPredict:  54%|█████▍    | 169/313 [00:23<00:20,  6.93it/s]\u001b[A\nPredict:  54%|█████▍    | 170/313 [00:23<00:19,  7.25it/s]\u001b[A\nPredict:  55%|█████▍    | 171/313 [00:23<00:19,  7.34it/s]\u001b[A\nPredict:  55%|█████▍    | 172/313 [00:23<00:18,  7.52it/s]\u001b[A\nPredict:  55%|█████▌    | 173/313 [00:24<00:19,  7.35it/s]\u001b[A\nPredict:  56%|█████▌    | 174/313 [00:24<00:19,  7.10it/s]\u001b[A\nPredict:  56%|█████▌    | 175/313 [00:24<00:18,  7.38it/s]\u001b[A\nPredict:  56%|█████▌    | 176/313 [00:24<00:19,  6.98it/s]\u001b[A\nPredict:  57%|█████▋    | 177/313 [00:24<00:18,  7.26it/s]\u001b[A\nPredict:  57%|█████▋    | 178/313 [00:24<00:19,  7.03it/s]\u001b[A\nPredict:  57%|█████▋    | 179/313 [00:24<00:18,  7.32it/s]\u001b[A\nPredict:  58%|█████▊    | 180/313 [00:25<00:18,  7.36it/s]\u001b[A\nPredict:  58%|█████▊    | 181/313 [00:25<00:17,  7.38it/s]\u001b[A\nPredict:  58%|█████▊    | 182/313 [00:25<00:18,  6.96it/s]\u001b[A\nPredict:  58%|█████▊    | 183/313 [00:25<00:19,  6.65it/s]\u001b[A\nPredict:  59%|█████▉    | 184/313 [00:25<00:19,  6.49it/s]\u001b[A\nPredict:  59%|█████▉    | 185/313 [00:25<00:18,  6.91it/s]\u001b[A\nPredict:  59%|█████▉    | 186/313 [00:25<00:18,  6.69it/s]\u001b[A\nPredict:  60%|█████▉    | 187/313 [00:26<00:18,  6.64it/s]\u001b[A\nPredict:  60%|██████    | 188/313 [00:26<00:17,  7.02it/s]\u001b[A\nPredict:  60%|██████    | 189/313 [00:26<00:17,  7.18it/s]\u001b[A\nPredict:  61%|██████    | 190/313 [00:26<00:16,  7.27it/s]\u001b[A\nPredict:  61%|██████    | 191/313 [00:26<00:16,  7.52it/s]\u001b[A\nPredict:  61%|██████▏   | 192/313 [00:26<00:16,  7.54it/s]\u001b[A\nPredict:  62%|██████▏   | 193/313 [00:26<00:16,  7.06it/s]\u001b[A\nPredict:  62%|██████▏   | 194/313 [00:27<00:17,  6.91it/s]\u001b[A\nPredict:  62%|██████▏   | 195/313 [00:27<00:16,  7.08it/s]\u001b[A\nPredict:  63%|██████▎   | 196/313 [00:27<00:15,  7.52it/s]\u001b[A\nPredict:  63%|██████▎   | 197/313 [00:27<00:14,  7.84it/s]\u001b[A\nPredict:  63%|██████▎   | 198/313 [00:27<00:15,  7.55it/s]\u001b[A\nPredict:  64%|██████▎   | 199/313 [00:27<00:17,  6.57it/s]\u001b[A\nPredict:  64%|██████▍   | 200/313 [00:27<00:17,  6.44it/s]\u001b[A\nPredict:  64%|██████▍   | 201/313 [00:28<00:16,  6.85it/s]\u001b[A\nPredict:  65%|██████▍   | 202/313 [00:28<00:16,  6.62it/s]\u001b[A\nPredict:  65%|██████▍   | 203/313 [00:28<00:15,  7.18it/s]\u001b[A\nPredict:  65%|██████▌   | 204/313 [00:28<00:15,  7.26it/s]\u001b[A\nPredict:  65%|██████▌   | 205/313 [00:28<00:14,  7.66it/s]\u001b[A\nPredict:  66%|██████▌   | 206/313 [00:28<00:13,  7.76it/s]\u001b[A\nPredict:  66%|██████▌   | 207/313 [00:28<00:13,  8.06it/s]\u001b[A\nPredict:  66%|██████▋   | 208/313 [00:28<00:13,  7.73it/s]\u001b[A\nPredict:  67%|██████▋   | 209/313 [00:29<00:13,  7.84it/s]\u001b[A\nPredict:  67%|██████▋   | 210/313 [00:29<00:12,  8.13it/s]\u001b[A\nPredict:  67%|██████▋   | 211/313 [00:29<00:12,  8.15it/s]\u001b[A\nPredict:  68%|██████▊   | 212/313 [00:29<00:12,  7.96it/s]\u001b[A\nPredict:  68%|██████▊   | 213/313 [00:29<00:12,  7.99it/s]\u001b[A\nPredict:  68%|██████▊   | 214/313 [00:29<00:12,  7.68it/s]\u001b[A\nPredict:  69%|██████▊   | 215/313 [00:29<00:14,  6.99it/s]\u001b[A\nPredict:  69%|██████▉   | 216/313 [00:29<00:13,  7.30it/s]\u001b[A\nPredict:  69%|██████▉   | 217/313 [00:30<00:13,  7.18it/s]\u001b[A\nPredict:  70%|██████▉   | 218/313 [00:30<00:13,  7.30it/s]\u001b[A\nPredict:  70%|██████▉   | 219/313 [00:30<00:13,  7.17it/s]\u001b[A\nPredict:  70%|███████   | 220/313 [00:30<00:12,  7.28it/s]\u001b[A\nPredict:  71%|███████   | 221/313 [00:30<00:13,  6.75it/s]\u001b[A\nPredict:  71%|███████   | 222/313 [00:30<00:14,  6.42it/s]\u001b[A\nPredict:  71%|███████   | 223/313 [00:31<00:13,  6.44it/s]\u001b[A\nPredict:  72%|███████▏  | 224/313 [00:31<00:12,  6.86it/s]\u001b[A\nPredict:  72%|███████▏  | 225/313 [00:31<00:12,  7.18it/s]\u001b[A\nPredict:  72%|███████▏  | 226/313 [00:31<00:11,  7.45it/s]\u001b[A\nPredict:  73%|███████▎  | 227/313 [00:31<00:11,  7.48it/s]\u001b[A\nPredict:  73%|███████▎  | 228/313 [00:31<00:11,  7.33it/s]\u001b[A\nPredict:  73%|███████▎  | 229/313 [00:31<00:11,  7.56it/s]\u001b[A\nPredict:  73%|███████▎  | 230/313 [00:32<00:12,  6.78it/s]\u001b[A\nPredict:  74%|███████▍  | 231/313 [00:32<00:11,  7.14it/s]\u001b[A\nPredict:  74%|███████▍  | 232/313 [00:32<00:10,  7.41it/s]\u001b[A\nPredict:  74%|███████▍  | 233/313 [00:32<00:11,  7.25it/s]\u001b[A\nPredict:  75%|███████▍  | 234/313 [00:32<00:10,  7.35it/s]\u001b[A\nPredict:  75%|███████▌  | 235/313 [00:32<00:10,  7.71it/s]\u001b[A\nPredict:  75%|███████▌  | 236/313 [00:32<00:09,  8.02it/s]\u001b[A\nPredict:  76%|███████▌  | 237/313 [00:32<00:09,  7.65it/s]\u001b[A\nPredict:  76%|███████▌  | 238/313 [00:33<00:09,  7.58it/s]\u001b[A\nPredict:  76%|███████▋  | 239/313 [00:33<00:11,  6.64it/s]\u001b[A\nPredict:  77%|███████▋  | 240/313 [00:33<00:10,  6.77it/s]\u001b[A\nPredict:  77%|███████▋  | 241/313 [00:33<00:10,  6.83it/s]\u001b[A\nPredict:  77%|███████▋  | 242/313 [00:33<00:10,  6.73it/s]\u001b[A\nPredict:  78%|███████▊  | 243/313 [00:33<00:10,  6.90it/s]\u001b[A\nPredict:  78%|███████▊  | 244/313 [00:34<00:11,  6.18it/s]\u001b[A\nPredict:  78%|███████▊  | 245/313 [00:34<00:10,  6.40it/s]\u001b[A\nPredict:  79%|███████▊  | 246/313 [00:34<00:10,  6.65it/s]\u001b[A\nPredict:  79%|███████▉  | 247/313 [00:34<00:09,  6.89it/s]\u001b[A\nPredict:  79%|███████▉  | 248/313 [00:34<00:09,  7.08it/s]\u001b[A\nPredict:  80%|███████▉  | 249/313 [00:34<00:09,  7.02it/s]\u001b[A\nPredict:  80%|███████▉  | 250/313 [00:34<00:08,  7.02it/s]\u001b[A\nPredict:  80%|████████  | 251/313 [00:35<00:10,  5.92it/s]\u001b[A\nPredict:  81%|████████  | 252/313 [00:35<00:09,  6.42it/s]\u001b[A\nPredict:  81%|████████  | 253/313 [00:35<00:08,  7.16it/s]\u001b[A\nPredict:  81%|████████  | 254/313 [00:35<00:07,  7.39it/s]\u001b[A\nPredict:  81%|████████▏ | 255/313 [00:35<00:07,  7.59it/s]\u001b[A\nPredict:  82%|████████▏ | 256/313 [00:35<00:07,  7.21it/s]\u001b[A\nPredict:  82%|████████▏ | 257/313 [00:35<00:07,  7.08it/s]\u001b[A\nPredict:  82%|████████▏ | 258/313 [00:35<00:07,  6.90it/s]\u001b[A\nPredict:  83%|████████▎ | 259/313 [00:36<00:08,  6.38it/s]\u001b[A\nPredict:  83%|████████▎ | 260/313 [00:36<00:08,  6.53it/s]\u001b[A\nPredict:  83%|████████▎ | 261/313 [00:36<00:08,  6.30it/s]\u001b[A\nPredict:  84%|████████▎ | 262/313 [00:36<00:07,  6.47it/s]\u001b[A\nPredict:  84%|████████▍ | 263/313 [00:36<00:07,  6.64it/s]\u001b[A\nPredict:  84%|████████▍ | 264/313 [00:36<00:07,  6.86it/s]\u001b[A\nPredict:  85%|████████▍ | 265/313 [00:37<00:07,  6.42it/s]\u001b[A\nPredict:  85%|████████▍ | 266/313 [00:37<00:06,  6.88it/s]\u001b[A\nPredict:  85%|████████▌ | 267/313 [00:37<00:06,  7.21it/s]\u001b[A\nPredict:  86%|████████▌ | 268/313 [00:37<00:06,  7.16it/s]\u001b[A\nPredict:  86%|████████▌ | 269/313 [00:37<00:06,  7.28it/s]\u001b[A\nPredict:  86%|████████▋ | 270/313 [00:37<00:08,  5.16it/s]\u001b[A\nPredict:  87%|████████▋ | 271/313 [00:38<00:08,  5.24it/s]\u001b[A\nPredict:  87%|████████▋ | 272/313 [00:38<00:06,  5.87it/s]\u001b[A\nPredict:  87%|████████▋ | 273/313 [00:38<00:06,  5.93it/s]\u001b[A\nPredict:  88%|████████▊ | 274/313 [00:38<00:06,  6.33it/s]\u001b[A\nPredict:  88%|████████▊ | 275/313 [00:38<00:06,  6.24it/s]\u001b[A\nPredict:  88%|████████▊ | 276/313 [00:38<00:05,  6.58it/s]\u001b[A\nPredict:  88%|████████▊ | 277/313 [00:38<00:05,  6.82it/s]\u001b[A\nPredict:  89%|████████▉ | 278/313 [00:39<00:04,  7.30it/s]\u001b[A\nPredict:  89%|████████▉ | 279/313 [00:39<00:04,  7.18it/s]\u001b[A\nPredict:  89%|████████▉ | 280/313 [00:39<00:04,  7.26it/s]\u001b[A\nPredict:  90%|████████▉ | 281/313 [00:39<00:04,  6.63it/s]\u001b[A\nPredict:  90%|█████████ | 282/313 [00:39<00:04,  6.89it/s]\u001b[A\nPredict:  90%|█████████ | 283/313 [00:39<00:04,  7.22it/s]\u001b[A\nPredict:  91%|█████████ | 284/313 [00:39<00:04,  7.16it/s]\u001b[A\nPredict:  91%|█████████ | 285/313 [00:40<00:03,  7.43it/s]\u001b[A\nPredict:  91%|█████████▏| 286/313 [00:40<00:03,  7.29it/s]\u001b[A\nPredict:  92%|█████████▏| 287/313 [00:40<00:03,  7.31it/s]\u001b[A\nPredict:  92%|█████████▏| 288/313 [00:40<00:03,  7.72it/s]\u001b[A\nPredict:  92%|█████████▏| 289/313 [00:40<00:03,  7.70it/s]\u001b[A\nPredict:  93%|█████████▎| 290/313 [00:40<00:02,  7.83it/s]\u001b[A\nPredict:  93%|█████████▎| 291/313 [00:40<00:02,  7.90it/s]\u001b[A\nPredict:  93%|█████████▎| 292/313 [00:40<00:02,  7.61it/s]\u001b[A\nPredict:  94%|█████████▎| 293/313 [00:41<00:02,  7.41it/s]\u001b[A\nPredict:  94%|█████████▍| 294/313 [00:41<00:02,  7.62it/s]\u001b[A\nPredict:  94%|█████████▍| 295/313 [00:41<00:02,  7.71it/s]\u001b[A\nPredict:  95%|█████████▍| 296/313 [00:41<00:02,  8.23it/s]\u001b[A\nPredict:  95%|█████████▍| 297/313 [00:41<00:01,  8.18it/s]\u001b[A\nPredict:  95%|█████████▌| 298/313 [00:41<00:02,  7.46it/s]\u001b[A\nPredict:  96%|█████████▌| 299/313 [00:41<00:01,  7.27it/s]\u001b[A\nPredict:  96%|█████████▌| 300/313 [00:42<00:01,  7.64it/s]\u001b[A\nPredict:  96%|█████████▌| 301/313 [00:42<00:01,  7.95it/s]\u001b[A\nPredict:  96%|█████████▋| 302/313 [00:42<00:01,  7.98it/s]\u001b[A\nPredict:  97%|█████████▋| 303/313 [00:42<00:01,  8.21it/s]\u001b[A\nPredict:  97%|█████████▋| 304/313 [00:42<00:01,  7.83it/s]\u001b[A\nPredict:  97%|█████████▋| 305/313 [00:42<00:01,  7.93it/s]\u001b[A\nPredict:  98%|█████████▊| 306/313 [00:42<00:00,  8.21it/s]\u001b[A\nPredict:  98%|█████████▊| 307/313 [00:42<00:00,  7.79it/s]\u001b[A\nPredict:  98%|█████████▊| 308/313 [00:43<00:00,  7.77it/s]\u001b[A\nPredict:  99%|█████████▊| 309/313 [00:43<00:00,  7.66it/s]\u001b[A\nPredict:  99%|█████████▉| 310/313 [00:43<00:00,  7.28it/s]\u001b[A\nPredict:  99%|█████████▉| 311/313 [00:43<00:00,  7.03it/s]\u001b[A\nPredict: 100%|█████████▉| 312/313 [00:43<00:00,  7.17it/s]\u001b[A\nPredict: 100%|██████████| 313/313 [00:43<00:00,  7.15it/s]\n"
    }
   ],
   "source": [
    "# Predict\n",
    "\n",
    "model.train(False)\n",
    "dataloader = DataLoader(dataset=testData,\n",
    "                            batch_size=64,\n",
    "                            shuffle=False,\n",
    "                            collate_fn=testData.collate_fn,\n",
    "                            num_workers=8)\n",
    "trange = tqdm(enumerate(dataloader), total=len(dataloader), desc='Predict')\n",
    "prediction = []\n",
    "for i, (x, y, sent_len) in trange:\n",
    "    o_labels = model(x.to(device))\n",
    "    o_labels = o_labels>0.5\n",
    "    for idx, o_label in enumerate(o_labels):\n",
    "        prediction.append(o_label[:sent_len[idx]].to('cpu'))\n",
    "prediction = torch.cat(prediction).detach().numpy().astype(int)"
   ]
  },
  {
   "cell_type": "code",
   "execution_count": 32,
   "metadata": {},
   "outputs": [],
   "source": [
    "### Helper function for creating a csv file following the submission format\n",
    "\n",
    "def SubmitGenerator(prediction, sampleFile, public=True, filename='prediction.csv'):\n",
    "    sample = pd.read_csv(sampleFile)\n",
    "    submit = {}\n",
    "    submit['order_id'] = list(sample.order_id.values)\n",
    "    redundant = len(sample) - prediction.shape[0]\n",
    "    if public:\n",
    "        submit['BACKGROUND'] = list(prediction[:,0]) + [0]*redundant\n",
    "        submit['OBJECTIVES'] = list(prediction[:,1]) + [0]*redundant\n",
    "        submit['METHODS'] = list(prediction[:,2]) + [0]*redundant\n",
    "        submit['RESULTS'] = list(prediction[:,3]) + [0]*redundant\n",
    "        submit['CONCLUSIONS'] = list(prediction[:,4]) + [0]*redundant\n",
    "        submit['OTHERS'] = list(prediction[:,5]) + [0]*redundant\n",
    "    else:\n",
    "        submit['BACKGROUND'] = [0]*redundant + list(prediction[:,0])\n",
    "        submit['OBJECTIVES'] = [0]*redundant + list(prediction[:,1])\n",
    "        submit['METHODS'] = [0]*redundant + list(prediction[:,2])\n",
    "        submit['RESULTS'] = [0]*redundant + list(prediction[:,3])\n",
    "        submit['CONCLUSIONS'] = [0]*redundant + list(prediction[:,4])\n",
    "        submit['OTHERS'] = [0]*redundant + list(prediction[:,5])\n",
    "    df = pd.DataFrame.from_dict(submit) \n",
    "    df.to_csv(filename,index=False)"
   ]
  },
  {
   "cell_type": "code",
   "execution_count": 33,
   "metadata": {},
   "outputs": [],
   "source": [
    "### Output csv for submission\n",
    "\n",
    "SubmitGenerator(prediction,\n",
    "                'data/task1_sample_submission.csv', \n",
    "                True, \n",
    "                'submission_1106.csv')"
   ]
  },
  {
   "cell_type": "code",
   "execution_count": 35,
   "metadata": {},
   "outputs": [],
   "source": [
    "%load_ext tensorboard"
   ]
  },
  {
   "cell_type": "code",
   "execution_count": 37,
   "metadata": {},
   "outputs": [
    {
     "data": {
      "text/plain": "Reusing TensorBoard on port 6007 (pid 24497), started 0:00:40 ago. (Use '!kill 24497' to kill it.)"
     },
     "metadata": {},
     "output_type": "display_data"
    },
    {
     "data": {
      "text/html": "\n      <iframe id=\"tensorboard-frame-35df4dfda302dfa4\" width=\"100%\" height=\"800\" frameborder=\"0\">\n      </iframe>\n      <script>\n        (function() {\n          const frame = document.getElementById(\"tensorboard-frame-35df4dfda302dfa4\");\n          const url = new URL(\"/\", window.location);\n          url.port = 6007;\n          frame.src = url;\n        })();\n      </script>\n  ",
      "text/plain": "<IPython.core.display.HTML object>"
     },
     "metadata": {},
     "output_type": "display_data"
    }
   ],
   "source": [
    "%tensorboard --logdir=test_experiment"
   ]
  },
  {
   "cell_type": "code",
   "execution_count": null,
   "metadata": {},
   "outputs": [],
   "source": []
  }
 ],
 "metadata": {
  "kernelspec": {
   "display_name": "Python 3",
   "language": "python",
   "name": "python3"
  },
  "language_info": {
   "codemirror_mode": {
    "name": "ipython",
    "version": 3
   },
   "file_extension": ".py",
   "mimetype": "text/x-python",
   "name": "python",
   "nbconvert_exporter": "python",
   "pygments_lexer": "ipython3",
   "version": "3.7.3"
  }
 },
 "nbformat": 4,
 "nbformat_minor": 4
}