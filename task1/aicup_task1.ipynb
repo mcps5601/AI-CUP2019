{
 "cells": [
  {
   "cell_type": "code",
   "execution_count": 35,
   "metadata": {},
   "outputs": [
    {
     "name": "stdout",
     "output_type": "stream",
     "text": "/home/kychen/Desktop/AI-CUP2019/task1\n"
    }
   ],
   "source": [
    "import pandas as pd\n",
    "import numpy as np\n",
    "import matplotlib.pyplot as plt\n",
    "%matplotlib inline\n",
    "import pickle, json, re, time\n",
    "\n",
    "import torch\n",
    "import torch.nn as nn\n",
    "import torch.nn.functional as F\n",
    "from torch.utils.data import Dataset, DataLoader\n",
    "from torch.utils.tensorboard import SummaryWriter\n",
    "\n",
    "from sklearn.utils import shuffle\n",
    "from sklearn.model_selection import train_test_split\n",
    "\n",
    "#from tqdm import tqdm\n",
    "from tqdm import tqdm\n",
    "from tqdm import trange\n",
    "\n",
    "from gensim.parsing import remove_stopwords\n",
    "\n",
    "import os\n",
    "\n",
    "CWD = os.getcwd()\n",
    "if 'task1' not in CWD:\n",
    "    CWD = os.path.join(CWD, 'task1')\n",
    "    print(CWD)\n"
   ]
  },
  {
   "cell_type": "markdown",
   "metadata": {},
   "source": [
    "### Hyperparameter logging and tuning\n",
    "For tuning best models, you may need to save the used hyperparameters.<br />\n",
    "The two cells below make the logging convenient."
   ]
  },
  {
   "cell_type": "code",
   "execution_count": 61,
   "metadata": {},
   "outputs": [],
   "source": [
    "### Helper function for hyperparameters logging\n",
    "import configparser\n",
    "\n",
    "def write_config(filename, with_time=False):\n",
    "    config = configparser.ConfigParser()\n",
    "    config['DEFAULT'] = {'embedding_dim': embedding_dim,\n",
    "                         'hidden_dim': hidden_dim,\n",
    "                         'learning_rate': learning_rate,\n",
    "                         'max_epoch': max_epoch,\n",
    "                         'batch_size': batch_size}\n",
    "    \n",
    "    if with_time == False:\n",
    "        with open(\"{}.ini\".format(filename), 'w') as configfile:\n",
    "            config.write(configfile)\n",
    "        return 'config'            \n",
    "    else:\n",
    "        timestr = time.strftime(\"%Y%m%d_%H%M%S\")\n",
    "        filename = filename + '_' + timestr\n",
    "        with open(\"{}.ini\".format(filename), 'w') as configfile:\n",
    "            config.write(configfile)\n",
    "        return ( 'config' + timestr )"
   ]
  },
  {
   "cell_type": "code",
   "execution_count": 62,
   "metadata": {},
   "outputs": [],
   "source": [
    "### Hyperparameters tuning\n",
    "### Run this cell for renewing the hyperparameters\n",
    "\n",
    "embedding_dim = 100\n",
    "hidden_dim = 512\n",
    "learning_rate = 1e-4\n",
    "max_epoch = 10\n",
    "batch_size = 16\n",
    "\n",
    "# write the hyperparameters into config.ini\n",
    "#write_config(os.path.join(CWD,\"config\"))\n",
    "\n",
    "# if you are lazy to rename the config file then uncomment the below line\n",
    "config_fname = write_config(os.path.join(CWD,\"config\"), True)\n",
    "# config_fname will be used when logging training scalar to tensorboard"
   ]
  },
  {
   "cell_type": "markdown",
   "metadata": {},
   "source": [
    "### Dataset pre-processing"
   ]
  },
  {
   "cell_type": "code",
   "execution_count": 14,
   "metadata": {},
   "outputs": [],
   "source": [
    "dataset = pd.read_csv( os.path.join(CWD,'data/task1_trainset.csv'), dtype=str)"
   ]
  },
  {
   "cell_type": "code",
   "execution_count": 15,
   "metadata": {},
   "outputs": [
    {
     "data": {
      "text/html": "<div>\n<style scoped>\n    .dataframe tbody tr th:only-of-type {\n        vertical-align: middle;\n    }\n\n    .dataframe tbody tr th {\n        vertical-align: top;\n    }\n\n    .dataframe thead th {\n        text-align: right;\n    }\n</style>\n<table border=\"1\" class=\"dataframe\">\n  <thead>\n    <tr style=\"text-align: right;\">\n      <th></th>\n      <th>Id</th>\n      <th>Title</th>\n      <th>Abstract</th>\n      <th>Authors</th>\n      <th>Categories</th>\n      <th>Created Date</th>\n      <th>Task 1</th>\n    </tr>\n  </thead>\n  <tbody>\n    <tr>\n      <th>0</th>\n      <td>D00001</td>\n      <td>A Brain-Inspired Trust Management Model to Ass...</td>\n      <td>Rapid popularity of Internet of Things (IoT) a...</td>\n      <td>Mahmud/Kaiser/Rahman/Rahman/Shabut/Al-Mamun/Hu...</td>\n      <td>cs.CR/cs.AI/q-bio.NC</td>\n      <td>2018-01-11</td>\n      <td>BACKGROUND OBJECTIVES METHODS METHODS RESULTS ...</td>\n    </tr>\n    <tr>\n      <th>1</th>\n      <td>D00002</td>\n      <td>On Efficient Computation of Shortest Dubins Pa...</td>\n      <td>In this paper, we address the problem of compu...</td>\n      <td>Sadeghi/Smith</td>\n      <td>cs.SY/cs.RO/math.OC</td>\n      <td>2016-09-21</td>\n      <td>OBJECTIVES OTHERS METHODS/RESULTS RESULTS RESULTS</td>\n    </tr>\n    <tr>\n      <th>2</th>\n      <td>D00003</td>\n      <td>Data-driven Upsampling of Point Clouds</td>\n      <td>High quality upsampling of sparse 3D point clo...</td>\n      <td>Zhang/Jiang/Yang/Yamakawa/Shimada/Kara</td>\n      <td>cs.CV</td>\n      <td>2018-07-07</td>\n      <td>BACKGROUND OBJECTIVES METHODS METHODS METHODS ...</td>\n    </tr>\n    <tr>\n      <th>3</th>\n      <td>D00004</td>\n      <td>Accessibility or Usability of InteractSE? A He...</td>\n      <td>Internet is the main source of information now...</td>\n      <td>Aqle/Khowaja/Al-Thani</td>\n      <td>cs.HC</td>\n      <td>2018-08-29</td>\n      <td>BACKGROUND BACKGROUND BACKGROUND OBJECTIVES OB...</td>\n    </tr>\n    <tr>\n      <th>4</th>\n      <td>D00005</td>\n      <td>Spatio-Temporal Facial Expression Recognition ...</td>\n      <td>Automated Facial Expression Recognition (FER) ...</td>\n      <td>Hasani/Mahoor</td>\n      <td>cs.CV</td>\n      <td>2017-03-20</td>\n      <td>BACKGROUND BACKGROUND BACKGROUND BACKGROUND ME...</td>\n    </tr>\n  </tbody>\n</table>\n</div>",
      "text/plain": "       Id                                              Title  \\\n0  D00001  A Brain-Inspired Trust Management Model to Ass...   \n1  D00002  On Efficient Computation of Shortest Dubins Pa...   \n2  D00003             Data-driven Upsampling of Point Clouds   \n3  D00004  Accessibility or Usability of InteractSE? A He...   \n4  D00005  Spatio-Temporal Facial Expression Recognition ...   \n\n                                            Abstract  \\\n0  Rapid popularity of Internet of Things (IoT) a...   \n1  In this paper, we address the problem of compu...   \n2  High quality upsampling of sparse 3D point clo...   \n3  Internet is the main source of information now...   \n4  Automated Facial Expression Recognition (FER) ...   \n\n                                             Authors            Categories  \\\n0  Mahmud/Kaiser/Rahman/Rahman/Shabut/Al-Mamun/Hu...  cs.CR/cs.AI/q-bio.NC   \n1                                      Sadeghi/Smith   cs.SY/cs.RO/math.OC   \n2             Zhang/Jiang/Yang/Yamakawa/Shimada/Kara                 cs.CV   \n3                              Aqle/Khowaja/Al-Thani                 cs.HC   \n4                                      Hasani/Mahoor                 cs.CV   \n\n  Created Date                                             Task 1  \n0   2018-01-11  BACKGROUND OBJECTIVES METHODS METHODS RESULTS ...  \n1   2016-09-21  OBJECTIVES OTHERS METHODS/RESULTS RESULTS RESULTS  \n2   2018-07-07  BACKGROUND OBJECTIVES METHODS METHODS METHODS ...  \n3   2018-08-29  BACKGROUND BACKGROUND BACKGROUND OBJECTIVES OB...  \n4   2017-03-20  BACKGROUND BACKGROUND BACKGROUND BACKGROUND ME...  "
     },
     "execution_count": 15,
     "metadata": {},
     "output_type": "execute_result"
    }
   ],
   "source": [
    "dataset.head()"
   ]
  },
  {
   "cell_type": "code",
   "execution_count": 16,
   "metadata": {},
   "outputs": [],
   "source": [
    "### Remove (current) redundant columns.\n",
    "\n",
    "dataset.drop('Title',axis=1,inplace=True)\n",
    "dataset.drop('Categories',axis=1,inplace=True)\n",
    "dataset.drop('Created Date',axis=1, inplace=True)\n",
    "dataset.drop('Authors',axis=1,inplace=True)\n",
    "dataset['Abstract'] = dataset['Abstract'].str.lower()\n",
    "#dataset['Task 1'] = dataset['Task 1'].str.lower()\n",
    "\n",
    "for i in range(len(dataset['Abstract'])):\n",
    "    dataset['Abstract'][i] = remove_stopwords(dataset['Abstract'][i])"
   ]
  },
  {
   "cell_type": "code",
   "execution_count": 17,
   "metadata": {},
   "outputs": [
    {
     "data": {
      "text/html": "<div>\n<style scoped>\n    .dataframe tbody tr th:only-of-type {\n        vertical-align: middle;\n    }\n\n    .dataframe tbody tr th {\n        vertical-align: top;\n    }\n\n    .dataframe thead th {\n        text-align: right;\n    }\n</style>\n<table border=\"1\" class=\"dataframe\">\n  <thead>\n    <tr style=\"text-align: right;\">\n      <th></th>\n      <th>Id</th>\n      <th>Abstract</th>\n      <th>Task 1</th>\n    </tr>\n  </thead>\n  <tbody>\n    <tr>\n      <th>0</th>\n      <td>D00001</td>\n      <td>rapid popularity internet things (iot) cloud c...</td>\n      <td>BACKGROUND OBJECTIVES METHODS METHODS RESULTS ...</td>\n    </tr>\n    <tr>\n      <th>1</th>\n      <td>D00002</td>\n      <td>paper, address problem computing optimal paths...</td>\n      <td>OBJECTIVES OTHERS METHODS/RESULTS RESULTS RESULTS</td>\n    </tr>\n    <tr>\n      <th>2</th>\n      <td>D00003</td>\n      <td>high quality upsampling sparse 3d point clouds...</td>\n      <td>BACKGROUND OBJECTIVES METHODS METHODS METHODS ...</td>\n    </tr>\n    <tr>\n      <th>3</th>\n      <td>D00004</td>\n      <td>internet main source information nowadays.$$$t...</td>\n      <td>BACKGROUND BACKGROUND BACKGROUND OBJECTIVES OB...</td>\n    </tr>\n    <tr>\n      <th>4</th>\n      <td>D00005</td>\n      <td>automated facial expression recognition (fer) ...</td>\n      <td>BACKGROUND BACKGROUND BACKGROUND BACKGROUND ME...</td>\n    </tr>\n  </tbody>\n</table>\n</div>",
      "text/plain": "       Id                                           Abstract  \\\n0  D00001  rapid popularity internet things (iot) cloud c...   \n1  D00002  paper, address problem computing optimal paths...   \n2  D00003  high quality upsampling sparse 3d point clouds...   \n3  D00004  internet main source information nowadays.$$$t...   \n4  D00005  automated facial expression recognition (fer) ...   \n\n                                              Task 1  \n0  BACKGROUND OBJECTIVES METHODS METHODS RESULTS ...  \n1  OBJECTIVES OTHERS METHODS/RESULTS RESULTS RESULTS  \n2  BACKGROUND OBJECTIVES METHODS METHODS METHODS ...  \n3  BACKGROUND BACKGROUND BACKGROUND OBJECTIVES OB...  \n4  BACKGROUND BACKGROUND BACKGROUND BACKGROUND ME...  "
     },
     "execution_count": 17,
     "metadata": {},
     "output_type": "execute_result"
    }
   ],
   "source": [
    "dataset.head()"
   ]
  },
  {
   "cell_type": "code",
   "execution_count": 18,
   "metadata": {},
   "outputs": [],
   "source": [
    "# set test_size=0.1 for validation split\n",
    "trainset, validset = train_test_split(dataset, test_size=0.1, random_state=42)\n",
    "\n",
    "trainset.to_csv(os.path.join(CWD,'data/trainset.csv'),index=False)\n",
    "validset.to_csv(os.path.join(CWD,'data/validset.csv'),index=False)"
   ]
  },
  {
   "cell_type": "code",
   "execution_count": 20,
   "metadata": {},
   "outputs": [],
   "source": [
    "### Remove (current) redundant columns of the test set.\n",
    "\n",
    "dataset = pd.read_csv(os.path.join(CWD,'data/task1_public_testset.csv'), dtype=str)\n",
    "dataset.drop('Title',axis=1,inplace=True)\n",
    "dataset.drop('Categories',axis=1,inplace=True)\n",
    "dataset.drop('Created Date',axis=1, inplace=True)\n",
    "dataset.drop('Authors',axis=1,inplace=True)\n",
    "dataset['Abstract'] = dataset['Abstract'].str.lower()\n",
    "\n",
    "for i in range(len(dataset['Abstract'])):\n",
    "    dataset['Abstract'][i] = remove_stopwords(dataset['Abstract'][i])\n",
    "\n",
    "dataset.to_csv(os.path.join(CWD,'data/testset.csv'),index=False)"
   ]
  },
  {
   "cell_type": "markdown",
   "metadata": {},
   "source": [
    "### Collect words and create the vocabulary set"
   ]
  },
  {
   "cell_type": "code",
   "execution_count": 21,
   "metadata": {},
   "outputs": [],
   "source": [
    "from multiprocessing import Pool\n",
    "from nltk.tokenize import word_tokenize\n",
    "\n",
    "def collect_words(data_path, n_workers=4):\n",
    "    df = pd.read_csv(data_path, dtype=str)\n",
    "        \n",
    "    # create a list for storing sentences\n",
    "    sent_list = []\n",
    "    for i in df.iterrows():\n",
    "        # remove $$$ and append to sent_list\n",
    "        sent_list += i[1]['Abstract'].split('$$$')\n",
    "\n",
    "    chunks = [\n",
    "        ' '.join(sent_list[i:i + len(sent_list) // n_workers])\n",
    "        for i in range(0, len(sent_list), len(sent_list) // n_workers)\n",
    "    ]\n",
    "    with Pool(n_workers) as pool:\n",
    "        # word_tokenize for word-word separation\n",
    "        chunks = pool.map_async(word_tokenize, chunks)\n",
    "        words = set(sum(chunks.get(), []))\n",
    "\n",
    "    return words"
   ]
  },
  {
   "cell_type": "code",
   "execution_count": 22,
   "metadata": {},
   "outputs": [],
   "source": [
    "words = set()\n",
    "words |= collect_words(os.path.join(CWD,'data/trainset.csv'))"
   ]
  },
  {
   "cell_type": "code",
   "execution_count": 23,
   "metadata": {},
   "outputs": [],
   "source": [
    "PAD_TOKEN = 0\n",
    "UNK_TOKEN = 1\n",
    "word_dict = {'<pad>':PAD_TOKEN,'<unk>':UNK_TOKEN}\n",
    "for word in words:\n",
    "    word_dict[word]=len(word_dict)"
   ]
  },
  {
   "cell_type": "code",
   "execution_count": 24,
   "metadata": {},
   "outputs": [
    {
     "data": {
      "text/plain": "{'<pad>': 0,\n '<unk>': 1,\n 'manifestations': 2,\n 'conversions': 3,\n '7-6-2011.': 4,\n 'splunk': 5,\n 'loses': 6,\n 'optimistically': 7,\n 'transmits': 8,\n 'linial': 9,\n 'lockset': 10,\n 'v2l': 11,\n 'borrowed': 12,\n 'simd': 13,\n 'mvtt': 14,\n 'internalize': 15,\n 'piracy': 16,\n '0.7486': 17,\n 'incur': 18,\n 'systematical': 19,\n '84.50': 20,\n 'chordal': 21,\n 'tagging': 22,\n 'overdetermined': 23,\n 'applicable': 24,\n 'one-timestep': 25,\n 'drifting': 26,\n 'k-bit': 27,\n 'nanoporous': 28,\n 'axiomatisation': 29,\n 'dnnf': 30,\n 'processor': 31,\n 'curriculums': 32,\n 'scheduler': 33,\n 'foursquare': 34,\n 'diamond-dicing': 35,\n 'havoc': 36,\n 'slps': 37,\n 'practices': 38,\n 'non-archimedean': 39,\n 'seasons': 40,\n 'asm': 41,\n 'proprotors': 42,\n 'cuisine': 43,\n 'credential': 44,\n 'conservation': 45,\n 'but': 46,\n 'compulsory': 47,\n 're': 48,\n 'prognostics': 49,\n 'meta': 50,\n 'jjpf': 51,\n 'isls': 52,\n 'forwarding': 53,\n 'proprietary': 54,\n 'wikis': 55,\n 'piggybacked': 56,\n '1990': 57,\n 'min-rank': 58,\n 'multi-traveling': 59,\n 'impostors': 60,\n 'pmus': 61,\n 'step-size': 62,\n 'actuators': 63,\n 'gn': 64,\n 'principal': 65,\n 'compressed': 66,\n 'aesthetic/perceptive': 67,\n 'hashtag': 68,\n 'compiler': 69,\n 'margins': 70,\n 'cross-paper': 71,\n 'indisponibility': 72,\n 'obfuscates': 73,\n 're-enactment': 74,\n 'the-state-of-the': 75,\n 'unsigned': 76,\n 'function.defence': 77,\n '.the': 78,\n 'recos': 79,\n 'gazetteers': 80,\n 'non-learnable': 81,\n 'surplus': 82,\n 'hopefully': 83,\n 'sonorant-fricative': 84,\n 'probability/rule': 85,\n '2d-upso': 86,\n 'lay': 87,\n '222': 88,\n '-1': 89,\n 'clothes': 90,\n 'distribute': 91,\n 'dependency-aware': 92,\n 'compound': 93,\n 'validator': 94,\n 'reassignment': 95,\n 'justly': 96,\n 'path-based': 97,\n 'proliferates': 98,\n 'relu': 99,\n 'qing': 100,\n 'elimination': 101,\n 'road': 102,\n 'convnets': 103,\n 'blossomed': 104,\n 'qa-srl': 105,\n 'webcaricature': 106,\n 'non-regular': 107,\n 'extremely': 108,\n 'mosquitoes': 109,\n 'sdn-enabled': 110,\n 'parity-check': 111,\n 'plattner': 112,\n 'slightly': 113,\n 'heteroscedastic': 114,\n 'interferers': 115,\n 'dsge': 116,\n 'clems': 117,\n 'newell': 118,\n 'exercising': 119,\n 'r-srams': 120,\n 'transcoding': 121,\n 'pixeldcl': 122,\n 'promotion': 123,\n 'typological': 124,\n 'cdf': 125,\n 'specrotemporal': 126,\n 'pre-test': 127,\n 'fol-lowed': 128,\n 'psychological': 129,\n 'cut-elimination': 130,\n 'axes-understandability': 131,\n 'k-means': 132,\n 'sociality': 133,\n 'droplets': 134,\n 'bitrate-distortion': 135,\n 'tissues': 136,\n 'pays': 137,\n 'hand-crafting': 138,\n 'upward': 139,\n 'clavicle': 140,\n 'emotion/sentiment': 141,\n 'a2c': 142,\n '//live.ece.utexas.edu/research/live_nflx_ii/live_nflx_plus.html': 143,\n 'gappy': 144,\n 'pyquil': 145,\n 'renewable': 146,\n 'cybathlon': 147,\n 'voiding': 148,\n 'jeans': 149,\n 'passive': 150,\n 'hypercontractivity': 151,\n 'principals': 152,\n 'milliwatt-scale': 153,\n 'concode': 154,\n 'accounting': 155,\n 'observedusing': 156,\n 'parcellations': 157,\n 'gh': 158,\n 'weighting': 159,\n 'incremental-interference-power': 160,\n '|psim|^2|-': 161,\n 'cross-technology': 162,\n 'counselling': 163,\n 'cross-temporal': 164,\n 'ese': 165,\n 'medina': 166,\n 'oocytes': 167,\n 'demap': 168,\n 'nonorthogonal': 169,\n 'watch': 170,\n '2659': 171,\n 'sub-ordinate': 172,\n 'coarsening': 173,\n 'dexter': 174,\n 'records': 175,\n 'rademacher': 176,\n 'tagged': 177,\n 'flipped': 178,\n 'wide-range': 179,\n 'mid-way': 180,\n 'evolve': 181,\n 'kl-divergence': 182,\n 'fingering': 183,\n 'arising': 184,\n 'g-node': 185,\n 'unlocking': 186,\n 'asin': 187,\n 'answers': 188,\n 'subshift': 189,\n 'contextualization': 190,\n 'datapath-intensive': 191,\n 'thereby': 192,\n 'motor': 193,\n '88.24': 194,\n 'react': 195,\n 'reified': 196,\n 'partial': 197,\n 'spirit': 198,\n 'moore-myhill': 199,\n 'esns': 200,\n 'speaker-independent': 201,\n 'resource-efficient': 202,\n 'c-means': 203,\n 'implementors': 204,\n 'code-switching': 205,\n 'fully-integrated': 206,\n 'graphics': 207,\n 'rbmt': 208,\n 'skopus': 209,\n 'vai': 210,\n 'tor': 211,\n 'restricted': 212,\n 'think': 213,\n 'complete': 214,\n 'botanical': 215,\n 'k-disjoint-clique': 216,\n 'pronouns': 217,\n 'transformed': 218,\n 'propositions': 219,\n 'bookkeping': 220,\n 'minibatch': 221,\n '0.86': 222,\n 'pro-posed': 223,\n 'mixed-effects': 224,\n 'mturk': 225,\n 'mask': 226,\n 'subordinate': 227,\n 'comparable': 228,\n '3,168': 229,\n 'microblog': 230,\n 'bmm': 231,\n 'discretization': 232,\n 'side-channels': 233,\n 'diffusion-based': 234,\n 'pepper': 235,\n 'info-boxes': 236,\n 'marker-controlled': 237,\n '~0.9': 238,\n 'p4': 239,\n 'polyhedral': 240,\n 'inter-client': 241,\n 'kit': 242,\n 'administrated': 243,\n 'shopping': 244,\n 'carrier': 245,\n 'weeks': 246,\n 'intra-cluster': 247,\n 'hiring': 248,\n 'binary-symmetric': 249,\n 'owls': 250,\n 'u': 251,\n 'mc3': 252,\n 'dgps': 253,\n 'hyperlogarithmic': 254,\n 'neurophysiological': 255,\n 'underly': 256,\n 'inhibitor': 257,\n 'commits': 258,\n 'shifters': 259,\n 'megapixels': 260,\n 'nas': 261,\n 'darknet-capable': 262,\n 'monetdb': 263,\n 'cfgs': 264,\n 'long-term': 265,\n 'vex': 266,\n 'gc': 267,\n 'd-invertibility': 268,\n 'susceptible-infected-susceptible': 269,\n 'objectively': 270,\n 'image-like': 271,\n 'dilated': 272,\n 'qnr': 273,\n 'treatments': 274,\n 'if': 275,\n 'analysis.therefore': 276,\n 'usefully': 277,\n 'non-memoryless': 278,\n 'inapproximable': 279,\n 'pore': 280,\n 'gains': 281,\n 'transversal': 282,\n 'counterfactual-regret': 283,\n 'unity': 284,\n 'long-run': 285,\n 'scheduled': 286,\n 'matchability': 287,\n 'obstructing': 288,\n 'folders': 289,\n 'hippocampal': 290,\n 'outsourced': 291,\n 'co-comparability': 292,\n 'tablestore': 293,\n 'relaying': 294,\n 'cbs': 295,\n 'reflectometer': 296,\n 'squashing': 297,\n 'size-change': 298,\n 'self-adaptation': 299,\n 'exchanging': 300,\n 'microblogs': 301,\n 'tfhe': 302,\n 'deleted': 303,\n 'microprocessor': 304,\n 'process.positive-emotion': 305,\n 'airborne': 306,\n 'input/output': 307,\n 'tripartite': 308,\n '25.4': 309,\n 'semi-infinite': 310,\n 'workstation': 311,\n 'da-ta': 312,\n 'cvss3': 313,\n 'got': 314,\n 'trimmed': 315,\n 'transcends': 316,\n 'picking': 317,\n 'labs': 318,\n 'pivoting': 319,\n 'range-based': 320,\n 'bursty': 321,\n 'bpsk': 322,\n 'pa-rameterized': 323,\n 'geometrically-perturbed': 324,\n 'multi-gan': 325,\n 'sexually': 326,\n 'semi-analytic': 327,\n 'freeway': 328,\n 'bandwidth-hungry': 329,\n 'r2l': 330,\n 'point-of-interest': 331,\n 'progressive': 332,\n 'thedirect': 333,\n 'intends': 334,\n 'rainfall': 335,\n 'matrix-tree': 336,\n 'minterm': 337,\n '~300,000': 338,\n '58.6': 339,\n 'entanglement-assisted': 340,\n 'guarded': 341,\n 'trendier': 342,\n 'modules': 343,\n 'pervasive': 344,\n 'keeps': 345,\n 'practicality': 346,\n 'programing': 347,\n 'orl': 348,\n 'multi-aspect': 349,\n 'factorizations': 350,\n '//zhuhao.me/fewrel': 351,\n 'emphatic': 352,\n 'shrinking': 353,\n 'lagrangean': 354,\n 'models/learning': 355,\n 'sdss': 356,\n 'divided': 357,\n 'pictogram': 358,\n 'ipso-lbg': 359,\n '`': 360,\n 'krumke': 361,\n 'offline/online': 362,\n 'chime': 363,\n 'non-competitive': 364,\n 'mason': 365,\n 'syllables': 366,\n 'unum': 367,\n 'lsm-trees': 368,\n 'line-drawings': 369,\n 'chd': 370,\n 'marker': 371,\n 'exposures': 372,\n 'esposalles': 373,\n 'gogma': 374,\n 'oss': 375,\n 'shirt': 376,\n 'computer-savvy': 377,\n 'bits/symbol': 378,\n 'poised': 379,\n 'sub-domains': 380,\n '1,968': 381,\n 'bt/k': 382,\n 'log-concavity': 383,\n 'debate': 384,\n 'interaction-based': 385,\n 'conversation': 386,\n 'coarse/shaping': 387,\n 'seqsleepnet': 388,\n 'felt': 389,\n 'collisionality': 390,\n 'blackberry': 391,\n 'cryptographic': 392,\n 'prkachin': 393,\n 'substitution-diffusion': 394,\n 'z-topsis': 395,\n 'capacities': 396,\n 'hardness': 397,\n 'measured': 398,\n 'vanet': 399,\n 'hsv': 400,\n 'jan': 401,\n 'robustness-capacity-visibility': 402,\n 'minority': 403,\n 'autopoiesis': 404,\n 'pre-existing': 405,\n 'smp': 406,\n 'copy': 407,\n 'loss-based': 408,\n 'unsatisfied': 409,\n '36,951': 410,\n 'lane-level': 411,\n 'stage-wise': 412,\n 'requires': 413,\n 'fashion-mnist': 414,\n 'previsions': 415,\n 'subset': 416,\n '50-fold': 417,\n 'osc': 418,\n 'hair-gans': 419,\n 'non-verbal': 420,\n 'same.this': 421,\n 'bidirectional-converter-interfaced': 422,\n 'repeat-accumulate': 423,\n 'object-': 424,\n 'imperceptibility': 425,\n 'supermarket': 426,\n 'search': 427,\n 'host-based': 428,\n 'plague': 429,\n 'leveling': 430,\n 'guidelines': 431,\n 'frictionless': 432,\n 'dic': 433,\n 'sharp': 434,\n 'subtle': 435,\n 'order': 436,\n 'maxsat': 437,\n 'supercomputers': 438,\n 'grad-cam++': 439,\n 'scams': 440,\n 'rope': 441,\n 'appliances': 442,\n 'outsource-then-prove': 443,\n 'articulation': 444,\n 'hui': 445,\n 'organizations': 446,\n 'dsplay': 447,\n '1500': 448,\n 'evolves': 449,\n 'lidar': 450,\n 'lemeshow': 451,\n 'ser': 452,\n '58.78': 453,\n 'whole-word': 454,\n 'job-dependent': 455,\n 'bang-big': 456,\n 'query-by-committee': 457,\n 'ciphertexts': 458,\n 'lie': 459,\n 'constant-to-constant': 460,\n 'arises': 461,\n 'departments': 462,\n 'mesh-morphing': 463,\n 'adjustable': 464,\n 'ebay': 465,\n 'memory-driven': 466,\n 'unfitted': 467,\n 'leapfrog': 468,\n 'modsecurity': 469,\n 'railway': 470,\n 'up-front': 471,\n 'v3.12': 472,\n 'terasort': 473,\n 'classically': 474,\n 'game': 475,\n 'user-specified': 476,\n 'digitally': 477,\n 'touchless': 478,\n 'chunk-level': 479,\n 'revenues': 480,\n 'substituents': 481,\n '-assumes': 482,\n 'prototypically': 483,\n 'reusability': 484,\n 'playbook': 485,\n 'credibility': 486,\n 'pseudorandom': 487,\n 'box-level': 488,\n 'antenna': 489,\n 'edge-preserving': 490,\n 'function-based': 491,\n 'root-cause': 492,\n 'mandarin-english': 493,\n 'shown': 494,\n 'fraction': 495,\n 'outgoing': 496,\n 'videographic': 497,\n 'state-of-theart': 498,\n 'winding': 499,\n 'expose': 500,\n 'exploit': 501,\n 'fc': 502,\n 'annealing': 503,\n 'digits': 504,\n 'routing-by-agreement': 505,\n 'achieve': 506,\n 'ranges': 507,\n 'logic-based': 508,\n '83.2': 509,\n 'pre-publication': 510,\n 'screw': 511,\n 'existent': 512,\n 'pfso': 513,\n 'incorporate': 514,\n 'narrower': 515,\n '4-point': 516,\n 'around-the-clock': 517,\n 'acceptors': 518,\n 'bombing': 519,\n 'natures': 520,\n 'messenger': 521,\n 'paa': 522,\n 'jsp': 523,\n 'compelling': 524,\n 'piano-rolls': 525,\n 'versus-quantity': 526,\n '-uniform': 527,\n 'lossy': 528,\n 'rhythms': 529,\n 'coin': 530,\n 'behaviour': 531,\n 'remp': 532,\n '//data.allenai.org/propara': 533,\n 'co-drive': 534,\n 'masson': 535,\n 'cfn': 536,\n 'true': 537,\n 'regulator': 538,\n 'scarani-acin-ribordy-gisin': 539,\n 'string-source': 540,\n 'hofmann': 541,\n 'ph.d.': 542,\n 'dexlego': 543,\n 'contender': 544,\n 'autopoietic': 545,\n 'fmri': 546,\n 'soften': 547,\n 'school-age': 548,\n 'non-experts': 549,\n 'arrows': 550,\n 'bousi-prolog': 551,\n 'themed': 552,\n 'niblack': 553,\n 'per-': 554,\n 'returns': 555,\n 'landmark': 556,\n 'interprets': 557,\n 'multi-player': 558,\n 'caterpillar': 559,\n 'symbiosis': 560,\n 'catalina': 561,\n 'q-actions': 562,\n 'eur': 563,\n 'imperative': 564,\n 'welling': 565,\n 'mother': 566,\n 'log-likelihood': 567,\n 'dimension-reduced': 568,\n 'ga-ssd': 569,\n 'brdf': 570,\n 'ad': 571,\n 'bs': 572,\n 'proteome-': 573,\n 'bottleneck': 574,\n 'cmp': 575,\n 'quaternion-based': 576,\n 'bursts': 577,\n 'ctc-loss': 578,\n '-possibleworldnets': 579,\n 'alarmingly': 580,\n 'wh-islands': 581,\n 'downsides': 582,\n 'organismal': 583,\n 'sparseness': 584,\n 'personalization': 585,\n 'network-information': 586,\n 'multi-static': 587,\n '4,412': 588,\n 'pacemakers': 589,\n 'anticipate': 590,\n 'rgb': 591,\n 'reservoirs': 592,\n 'fcd': 593,\n 'high-performance': 594,\n 'jaderberg': 595,\n 'dhh': 596,\n 'overfits': 597,\n 'nuceli': 598,\n 'concept': 599,\n 'resunets': 600,\n 'stakeholder': 601,\n 'group-level': 602,\n 'radiomic': 603,\n 'flms': 604,\n 'distantly-supervised': 605,\n '1080ti': 606,\n 'tsdf': 607,\n 'mcus': 608,\n 'multiprocessors': 609,\n 'siri': 610,\n 'ments': 611,\n 'expects': 612,\n 'release': 613,\n 'rhcv-pmf': 614,\n 'human-computer-interaction': 615,\n 'two-node': 616,\n 'mappings': 617,\n 'ul': 618,\n 'defends': 619,\n 'weibe': 620,\n 'choquet': 621,\n 'word-analogy': 622,\n 'indeterminacy': 623,\n 'cd-': 624,\n 'catia': 625,\n 'prioritizedrrt+-connect': 626,\n 'officials': 627,\n 'learning4j': 628,\n 'nucleation': 629,\n 'mde': 630,\n 'form-factor': 631,\n 'mute': 632,\n 'non-codewords': 633,\n 'genders': 634,\n 'resorts': 635,\n 'plutchik': 636,\n 'string-based': 637,\n 'proven': 638,\n 'workaround': 639,\n '800x': 640,\n 'articulator': 641,\n 'choreography': 642,\n 'events': 643,\n 'ceilings': 644,\n 'wages': 645,\n 'pillar': 646,\n 'dissipationless': 647,\n 'hair': 648,\n 'identities': 649,\n 'snn': 650,\n 'telecom': 651,\n 'sourced': 652,\n 'theorems': 653,\n 'motive': 654,\n 'newly': 655,\n 'c/s': 656,\n '3.01': 657,\n 'ahc': 658,\n 'ose': 659,\n 'approx': 660,\n 'photo-to-caricature': 661,\n '73.8': 662,\n 'sota': 663,\n 'savageboost': 664,\n 'checkerboard': 665,\n 'pollutions': 666,\n 'probable': 667,\n '100': 668,\n 'tanenbaum': 669,\n 'decode-and-forward': 670,\n 'human-like': 671,\n 'regulatory': 672,\n 'post-disaster': 673,\n 'atlases': 674,\n 'communicating': 675,\n 'k-t': 676,\n 'subcircuit': 677,\n 'kind': 678,\n 'lemmatization': 679,\n 'tensors/matrices': 680,\n 'full-time': 681,\n 'inhomogeneity': 682,\n 'ic3': 683,\n 'recomputing': 684,\n 'saas': 685,\n 'maryland': 686,\n 'iarpa': 687,\n '6dof': 688,\n 'agonistic': 689,\n 'gplv3': 690,\n 'erased': 691,\n 'amg': 692,\n 'skulls': 693,\n 'equiprobable': 694,\n 'revising': 695,\n 'under-determined': 696,\n 'considerably': 697,\n 'defection': 698,\n 'model-predictive': 699,\n 'post-proceedings': 700,\n 'typing': 701,\n 'concurrently-accessed': 702,\n 'synonymous': 703,\n 'polynomially-related': 704,\n 'vsm-hmms': 705,\n 'adaptive': 706,\n '2011-2012': 707,\n 'odds': 708,\n 'anesthetic': 709,\n 'degradable': 710,\n 'trainer': 711,\n 'semiconstrained': 712,\n 'name-based': 713,\n 're-compose': 714,\n 'multiblock': 715,\n 'necessarily': 716,\n 'recommend': 717,\n 'precondition': 718,\n 'over-booking': 719,\n 'brightness': 720,\n 'sporadically': 721,\n 'semi-analytical': 722,\n 'anthropology': 723,\n 'section': 724,\n 'epd': 725,\n 'resunet': 726,\n 'lnps': 727,\n 'spreadsheet': 728,\n 'ornamentation': 729,\n 'mati': 730,\n 'framerate': 731,\n 'lrw': 732,\n 'bullying': 733,\n '91.2': 734,\n 'arinc664': 735,\n 'interactse': 736,\n '91.01': 737,\n 'ego-lane': 738,\n 'sintagma': 739,\n 'radiative': 740,\n 'negations': 741,\n 'angularly': 742,\n 'zalando': 743,\n 'groundings': 744,\n 'hampered': 745,\n 'sheaves': 746,\n 'app': 747,\n 'farshidrayhanuiu/': 748,\n 'model/classifier': 749,\n 'drinking': 750,\n 'dhr': 751,\n 'semantically-related': 752,\n 'autocloud+': 753,\n 'collectively': 754,\n 'kd': 755,\n 'superintuitionistic': 756,\n 'icp-based': 757,\n 'powering': 758,\n '0.7972': 759,\n 'consolidating': 760,\n 'ase': 761,\n 'aided': 762,\n 'sliding-window': 763,\n 'degrades': 764,\n 'supersedes': 765,\n 'tree-violating': 766,\n 'nlspace': 767,\n 'mpii': 768,\n 'optimizers': 769,\n 'jpeg2000': 770,\n 'elapsing': 771,\n 'usages': 772,\n 'stupendous': 773,\n 'penalize': 774,\n 'diversity': 775,\n 'multi-input-multi-output': 776,\n 'type-checking': 777,\n 'barlow': 778,\n 'geoquery': 779,\n 'obfuscating': 780,\n 'rescoring': 781,\n 'pack': 782,\n 'unscrewing': 783,\n 'geodesic': 784,\n 'helios2016': 785,\n 'assimilation': 786,\n 'reluctance': 787,\n 'centralized': 788,\n 'biopolitics': 789,\n 'mediation': 790,\n 'chebshew': 791,\n 'hands': 792,\n 'in-browser': 793,\n 'cie': 794,\n 'accomplice': 795,\n 'smartsantander': 796,\n 'co-supports': 797,\n 'levenshtein': 798,\n 'municipal': 799,\n 'multiperiod': 800,\n 'spreads': 801,\n 'phonemes': 802,\n 'lightnn': 803,\n 'collaboration': 804,\n 'conceived': 805,\n 'shortcomings': 806,\n 'incongruent': 807,\n 'multipermutations': 808,\n 'pair': 809,\n 'directionality': 810,\n 'msd': 811,\n 'likely-buggy': 812,\n 'crawled': 813,\n 'mid': 814,\n 'quaternion-valued': 815,\n 'keypoint': 816,\n 'psychology-related': 817,\n 'palliate': 818,\n 'four-fold': 819,\n 'socs': 820,\n 'top-million': 821,\n 'alt-right': 822,\n 'desynchronizer': 823,\n 'multigrid': 824,\n 'republican': 825,\n 'two-language': 826,\n 'scalarizations': 827,\n 'abuse': 828,\n 'misinterpreted': 829,\n 'np-complete': 830,\n 'demography': 831,\n 'sub-field': 832,\n 'attractor': 833,\n 'two-thirds': 834,\n 'vae': 835,\n 'non-deterministic': 836,\n 'subprobability': 837,\n 'morphism': 838,\n 'easily.in': 839,\n 'reconstructed': 840,\n 'acid': 841,\n \"'problematic\": 842,\n 'comp': 843,\n 'cache-state': 844,\n 'sift': 845,\n 'ipv4': 846,\n 'memory-cell': 847,\n 'sees': 848,\n 'media': 849,\n 'rested': 850,\n 'sabs': 851,\n 'resuming': 852,\n 'kuijper': 853,\n 'motzkin': 854,\n 'dozens': 855,\n 'osmnx': 856,\n 'play': 857,\n 'bare-minimum': 858,\n 'identically-distributed': 859,\n 'rsma': 860,\n 'imperatively': 861,\n 'grating': 862,\n 'kuka': 863,\n 'regular-ldpc': 864,\n 'temporally-coded': 865,\n 'know-how': 866,\n 'columbus': 867,\n 're-start': 868,\n 'versionskaf-g': 869,\n 'idiosyncratic': 870,\n 'eliminating': 871,\n 'govern': 872,\n 'blur': 873,\n 'novel': 874,\n 'vgg': 875,\n 'ratec': 876,\n 'figer': 877,\n '1.48': 878,\n 'jayne': 879,\n 'destination': 880,\n 'greenkorn': 881,\n 'first-class': 882,\n 'pdtb': 883,\n 'real-system': 884,\n 'intersections': 885,\n 'meta-semantic-search': 886,\n 'notwithstanding': 887,\n 'non-random': 888,\n 'data-structures': 889,\n 'off-grid': 890,\n 'fang': 891,\n 'multi-subject': 892,\n 'md': 893,\n 'developed': 894,\n '+1.6': 895,\n 'cyber-and': 896,\n 'valentine': 897,\n 'multi-machine': 898,\n 'average-linkage': 899,\n 'javabeans': 900,\n 'solar-powered': 901,\n 'ecb': 902,\n 'near-copies': 903,\n 'b2c': 904,\n '91': 905,\n 're-processing': 906,\n 'elongated': 907,\n 'jerk': 908,\n '92.45': 909,\n 'day-to-day': 910,\n 'lifting': 911,\n 'skews': 912,\n 'depth-universal': 913,\n 'thomas': 914,\n 'rather': 915,\n '1024': 916,\n '62': 917,\n 'sub-regional': 918,\n 'elsa': 919,\n 'x-factor': 920,\n 'peritumoral': 921,\n 'pha': 922,\n 'permute': 923,\n 'cplex': 924,\n 'local-to-global': 925,\n 'hard-of-hearing': 926,\n 'neurophysiology': 927,\n '50:100': 928,\n 'ppo-based': 929,\n 'rnn-based': 930,\n 'scale-out': 931,\n 'ussr': 932,\n 'sector': 933,\n 'tv': 934,\n 'mvn': 935,\n 'in-': 936,\n 't-f': 937,\n 'thrice': 938,\n 'exploring': 939,\n 'isotropic': 940,\n 'subspace': 941,\n 'annualized': 942,\n 'markedly': 943,\n 'supporting': 944,\n 'terrorism': 945,\n 'hungry': 946,\n '30x': 947,\n 'agglomeration': 948,\n '=1': 949,\n 'mization': 950,\n 'se': 951,\n \"'exposure\": 952,\n 'temporal': 953,\n '1.72': 954,\n 'hvs-based': 955,\n 'l-developments': 956,\n 'plate': 957,\n 'msr-vtt': 958,\n '99th': 959,\n 'redoing': 960,\n '0.955': 961,\n 'administrative': 962,\n 'tics': 963,\n 'sc-': 964,\n 'postgraduate': 965,\n 'browsing': 966,\n 'finitary': 967,\n 'wpl': 968,\n 'morphosyntactic': 969,\n 'non-probabilistic': 970,\n 'fresh': 971,\n 'datatype': 972,\n 'urology': 973,\n 'metrical': 974,\n 'outsiders': 975,\n 'variable-sized': 976,\n 'coplanar': 977,\n 'truth-annotated': 978,\n 'kinematics': 979,\n 'enumerated': 980,\n 'multipoint': 981,\n 'occupying': 982,\n '64': 983,\n 'checkable': 984,\n 'regardless': 985,\n 'pseudo': 986,\n '//github.com/ramprs/neuron-importance-zsl': 987,\n 'de-randomization': 988,\n 'atr': 989,\n '2,389': 990,\n '92000': 991,\n 'unintelligible': 992,\n 'drions-db': 993,\n 'forcefeedback': 994,\n 'pubfig': 995,\n '3v': 996,\n 'hugely': 997,\n 'two-fold': 998,\n 'vocalized': 999,\n ...}"
     },
     "execution_count": 24,
     "metadata": {},
     "output_type": "execute_result"
    }
   ],
   "source": [
    "word_dict"
   ]
  },
  {
   "cell_type": "code",
   "execution_count": 27,
   "metadata": {},
   "outputs": [],
   "source": [
    "with open(os.path.join(CWD,'dicitonary.pkl'),'wb') as f:\n",
    "    pickle.dump(word_dict, f)"
   ]
  },
  {
   "cell_type": "markdown",
   "metadata": {},
   "source": [
    "### Download Glove pretrained word embedding from web.\n",
    "\n",
    "Link: http://nlp.stanford.edu/data/glove.6B.zip <br />\n",
    "It takes about 5 minutes for the download.\n"
   ]
  },
  {
   "cell_type": "code",
   "execution_count": 29,
   "metadata": {},
   "outputs": [],
   "source": [
    "import requests, zipfile, io\n",
    "if not os.path.exists('glove'):\n",
    "    os.mkdir('glove')\n",
    "    r = requests.get('http://nlp.stanford.edu/data/glove.6B.zip')\n",
    "    z = zipfile.ZipFile(io.BytesIO(r.content))\n",
    "    z.extractall(path='glove')"
   ]
  },
  {
   "cell_type": "markdown",
   "metadata": {},
   "source": [
    "### Parsing the GloVe word-embeddings file\n",
    "\n",
    "Parse the unzipped file (a .txt file) to build an index that maps words (as strings) to their vector representation (as number vectors)"
   ]
  },
  {
   "cell_type": "code",
   "execution_count": 30,
   "metadata": {},
   "outputs": [
    {
     "name": "stdout",
     "output_type": "stream",
     "text": "Found 400000 word vectors.\n"
    }
   ],
   "source": [
    "### Parsing the GloVe word-embeddings file\n",
    "# Parse the unzipped file (a .txt file) to build an index that maps words (as strings) to their vector representation (as number vectors)\n",
    "\n",
    "wordvector_path = 'glove/glove.6B.100d.txt'\n",
    "embeddings_index = {}\n",
    "f = open(wordvector_path)\n",
    "for line in f:\n",
    "    values = line.split()\n",
    "    word = values[0]\n",
    "    coefs = np.asarray(values[1:], dtype='float32')\n",
    "    embeddings_index[word] = coefs\n",
    "f.close()\n",
    "print('Found %s word vectors.' % len(embeddings_index))"
   ]
  },
  {
   "cell_type": "code",
   "execution_count": 31,
   "metadata": {},
   "outputs": [],
   "source": [
    "### Preparing the GloVe word-embeddings matrix\n",
    "\n",
    "max_words = len(word_dict)\n",
    "embedding_matrix = np.zeros((max_words, embedding_dim))\n",
    "for word, i in word_dict.items():\n",
    "    if i < max_words:\n",
    "        embedding_vector = embeddings_index.get(word)\n",
    "        if embedding_vector is not None:\n",
    "            embedding_matrix[i] = embedding_vector"
   ]
  },
  {
   "cell_type": "code",
   "execution_count": 32,
   "metadata": {},
   "outputs": [],
   "source": [
    "embedding_matrix = torch.FloatTensor(embedding_matrix)"
   ]
  },
  {
   "cell_type": "markdown",
   "metadata": {},
   "source": [
    "### Data Formatting\n",
    "建立完字典後，我們要將 data 切成數個 batch，並且將輸入的句子轉成數字，將答案轉成 onehot vector。\n",
    "- `label_to_onehot(labels)`:  \n",
    "    將 datasert 中的 label string 轉成 onehot encoding vector。  \n",
    "- `sentence_to_indices(sentence, word_dict)`:  \n",
    "    將輸入的句子中每個 word 轉成字典中對應的 index  \n",
    "    ex : 'i love ncku' -> $[1,2,3]$\n",
    "- `get_dataset(data_path, word_dict, n_workers=4)`:  \n",
    "    將 dataset 讀入\n",
    "- `preprocess_samples(dataset, word_dict)`:  \n",
    "    傳入所有 input sentences 並進行 data preprocessing  \n",
    "- `preprocess_sample(data, word_dict)`:  \n",
    "    主要透過這個 function 移除存在於 'Abstract' 中的 `$` 符號  \n",
    "    並將 'Label' 轉成 onehot encoding vector。"
   ]
  },
  {
   "cell_type": "code",
   "execution_count": 33,
   "metadata": {},
   "outputs": [],
   "source": [
    "def label_to_onehot(labels):\n",
    "    \"\"\" Convert label to onehot .\n",
    "        Args:\n",
    "            labels (string): sentence's labels.\n",
    "        Return:\n",
    "            outputs (onehot list): sentence's onehot label.\n",
    "    \"\"\"\n",
    "    label_dict = {'BACKGROUND': 0, 'OBJECTIVES':1, 'METHODS':2, 'RESULTS':3, 'CONCLUSIONS':4, 'OTHERS':5}\n",
    "    onehot = [0,0,0,0,0,0]\n",
    "    for l in labels.split('/'):\n",
    "        onehot[label_dict[l]] = 1\n",
    "    return onehot\n",
    "        \n",
    "def sentence_to_indices(sentence, word_dict):\n",
    "    \"\"\" Convert sentence to its word indices.\n",
    "    Args:\n",
    "        sentence (str): One string.\n",
    "    Return:\n",
    "        indices (list of int): List of word indices.\n",
    "    \"\"\"\n",
    "    return [word_dict.get(word,UNK_TOKEN) for word in word_tokenize(sentence)]\n",
    "    \n",
    "def get_dataset(data_path, word_dict, n_workers=4):\n",
    "    \"\"\" Load data and return dataset for training and validating.\n",
    "\n",
    "    Args:\n",
    "        data_path (str): Path to the data.\n",
    "    \"\"\"\n",
    "    dataset = pd.read_csv(data_path, dtype=str)\n",
    "\n",
    "    results = [None] * n_workers\n",
    "    with Pool(processes=n_workers) as pool:\n",
    "        for i in range(n_workers):\n",
    "            batch_start = (len(dataset) // n_workers) * i\n",
    "            if i == n_workers - 1:\n",
    "                batch_end = len(dataset)\n",
    "            else:\n",
    "                batch_end = (len(dataset) // n_workers) * (i + 1)\n",
    "            \n",
    "            batch = dataset[batch_start: batch_end]\n",
    "            results[i] = pool.apply_async(preprocess_samples, args=(batch,word_dict))\n",
    "\n",
    "        pool.close()\n",
    "        pool.join()\n",
    "\n",
    "    processed = []\n",
    "    for result in results:\n",
    "        processed += result.get()\n",
    "    return processed\n",
    "\n",
    "def preprocess_samples(dataset, word_dict):\n",
    "    \"\"\" Worker function.\n",
    "\n",
    "    Args:\n",
    "        dataset (list of dict)\n",
    "    Returns:\n",
    "        list of processed dict.\n",
    "    \"\"\"\n",
    "    processed = []\n",
    "    for sample in tqdm(dataset.iterrows(), total=len(dataset)):\n",
    "        processed.append(preprocess_sample(sample[1], word_dict))\n",
    "\n",
    "    return processed\n",
    "\n",
    "def preprocess_sample(data, word_dict):\n",
    "    \"\"\"\n",
    "    Args:\n",
    "        data (dict)\n",
    "    Returns:\n",
    "        dict\n",
    "    \"\"\"\n",
    "    ## clean abstracts by removing $$$\n",
    "    processed = {}\n",
    "    processed['Abstract'] = [sentence_to_indices(sent, word_dict) for sent in data['Abstract'].split('$$$')]\n",
    "    \n",
    "    ## convert the labels into one-hot encoding\n",
    "    if 'Task 1' in data:\n",
    "        processed['Label'] = [label_to_onehot(label) for label in data['Task 1'].split(' ')]\n",
    "        \n",
    "    return processed"
   ]
  },
  {
   "cell_type": "code",
   "execution_count": 36,
   "metadata": {},
   "outputs": [
    {
     "name": "stdout",
     "output_type": "stream",
     "text": "[INFO] Start processing trainset...\n 99%|█████████▉| 1567/1575 [00:01<00:00, 1032.09it/s]\n100%|██████████| 1575/1575 [00:01<00:00, 1007.94it/s]\n100%|██████████| 1575/1575 [00:01<00:00, 1001.41it/s]\n\n[INFO] Start processing validset...\n100%|██████████| 175/175 [00:00<00:00, 1040.46it/s]\n100%|██████████| 175/175 [00:00<00:00, 1076.97it/s]\n\n100%|██████████| 175/175 [00:00<00:00, 974.45it/s]\n[INFO] Start processing testset...\n100%|██████████| 5000/5000 [00:04<00:00, 1084.90it/s]\n100%|██████████| 5000/5000 [00:04<00:00, 1077.52it/s]\n100%|██████████| 5000/5000 [00:04<00:00, 1085.86it/s]\n100%|██████████| 5000/5000 [00:04<00:00, 1079.89it/s]\n"
    }
   ],
   "source": [
    "print('[INFO] Start processing trainset...')\n",
    "train = get_dataset(os.path.join(CWD,'data/trainset.csv'), word_dict, n_workers=4)\n",
    "print('[INFO] Start processing validset...')\n",
    "valid = get_dataset(os.path.join(CWD,'data/validset.csv'), word_dict, n_workers=4)\n",
    "print('[INFO] Start processing testset...')\n",
    "test = get_dataset(os.path.join(CWD,'data/testset.csv'), word_dict, n_workers=4)"
   ]
  },
  {
   "cell_type": "markdown",
   "metadata": {},
   "source": [
    "### Create a dataset class for the abstract dataset\n",
    "`torch.utils.data.Dataset` is an abstract class representing a dataset.<br />Your custom dataset should inherit Dataset and override the following methods:\n",
    "\n",
    "- `__len__` so that len(dataset) returns the size of the dataset.\n",
    "- `__getitem__` to support the indexing such that dataset[i] can be used to get i\n",
    "th sample"
   ]
  },
  {
   "cell_type": "code",
   "execution_count": 38,
   "metadata": {},
   "outputs": [],
   "source": [
    "import pysnooper\n",
    "\n",
    "\n",
    "class AbstractDataset(Dataset):\n",
    "    @pysnooper.snoop()\n",
    "    def __init__(self, data, pad_idx, max_len = 500):\n",
    "        self.data = data\n",
    "        self.pad_idx = pad_idx\n",
    "        self.max_len = max_len\n",
    "        \n",
    "    def __len__(self):\n",
    "        return len(self.data)\n",
    "\n",
    "    def __getitem__(self, index):\n",
    "        return self.data[index]\n",
    "        \n",
    "    def collate_fn(self, datas):\n",
    "        # get max length in this batch\n",
    "        max_sent = max([len(data['Abstract']) for data in datas])\n",
    "        max_len = max([min(len(sentence), self.max_len) for data in datas for sentence in data['Abstract']])\n",
    "        batch_abstract = []\n",
    "        batch_label = []\n",
    "        sent_len = []\n",
    "        for data in datas:\n",
    "            # padding abstract to make them in same length\n",
    "            pad_abstract = []\n",
    "            for sentence in data['Abstract']:\n",
    "                if len(sentence) > max_len:\n",
    "                    pad_abstract.append(sentence[:max_len])\n",
    "                else:\n",
    "                    pad_abstract.append(sentence+[self.pad_idx]*(max_len-len(sentence)))\n",
    "            sent_len.append(len(pad_abstract))\n",
    "            pad_abstract.extend([[self.pad_idx]*max_len]*(max_sent-len(pad_abstract)))\n",
    "            batch_abstract.append(pad_abstract)\n",
    "            # gather labels\n",
    "            if 'Label' in data:\n",
    "                pad_label = data['Label']\n",
    "                pad_label.extend([[0]*6]*(max_sent-len(pad_label)))\n",
    "                \n",
    "                batch_label.append(pad_label)\n",
    "        return torch.LongTensor(batch_abstract), torch.FloatTensor(batch_label), sent_len"
   ]
  },
  {
   "cell_type": "code",
   "execution_count": 39,
   "metadata": {},
   "outputs": [
    {
     "name": "stderr",
     "output_type": "stream",
     "text": "Source path:... <ipython-input-38-0acde745c093>\nStarting var:.. self = <__main__.AbstractDataset object at 0x7efbe42509e8>\nStarting var:.. data = [{'Abstract': [[33840, 13650, 3600, 28847, 31756... 0, 0], [0, 0, 0, 1, 0, 0], [0, 0, 0, 1, 0, 0]]}]\nStarting var:.. pad_idx = 0\nStarting var:.. max_len = 64\n13:51:24.556679 call         6     def __init__(self, data, pad_idx, max_len = 500):\n13:51:24.635048 line         7         self.data = data\n13:51:24.703364 line         8         self.pad_idx = pad_idx\n13:51:24.777043 line         9         self.max_len = max_len\n13:51:24.844863 return       9         self.max_len = max_len\nReturn value:.. None\n"
    }
   ],
   "source": [
    "trainData = AbstractDataset(train, PAD_TOKEN, max_len = 64)"
   ]
  },
  {
   "cell_type": "code",
   "execution_count": 40,
   "metadata": {},
   "outputs": [
    {
     "name": "stderr",
     "output_type": "stream",
     "text": "Starting var:.. self = <__main__.AbstractDataset object at 0x7efbe4250080>\nStarting var:.. data = [{'Abstract': [[33840, 13650, 3600, 28847, 31756... 0, 0], [0, 0, 0, 1, 0, 0], [0, 0, 0, 1, 0, 0]]}]\nStarting var:.. pad_idx = 0\nStarting var:.. max_len = 64\n13:51:32.228174 call         6     def __init__(self, data, pad_idx, max_len = 500):\n13:51:32.309785 line         7         self.data = data\n13:51:32.379216 line         8         self.pad_idx = pad_idx\n13:51:32.454625 line         9         self.max_len = max_len\n13:51:32.523264 return       9         self.max_len = max_len\nReturn value:.. None\nStarting var:.. self = <__main__.AbstractDataset object at 0x7efbe42503c8>\nStarting var:.. data = [{'Abstract': [[10326, 30872, 24055, 8158, 28612... 0, 0], [0, 0, 1, 0, 0, 0], [0, 0, 0, 1, 0, 0]]}]\nStarting var:.. pad_idx = 0\nStarting var:.. max_len = 64\n13:51:32.590036 call         6     def __init__(self, data, pad_idx, max_len = 500):\n13:51:32.597891 line         7         self.data = data\n13:51:32.605575 line         8         self.pad_idx = pad_idx\n13:51:32.614869 line         9         self.max_len = max_len\n13:51:32.622506 return       9         self.max_len = max_len\nReturn value:.. None\nStarting var:.. self = <__main__.AbstractDataset object at 0x7efbe42509e8>\nStarting var:.. data = [{'Abstract': [[16457, 27064, 10306, 19419, 2941...589, 31495, 14171, 26884, 15061, 22143, 14350]]}]\nStarting var:.. pad_idx = 0\nStarting var:.. max_len = 64\n13:51:32.629999 call         6     def __init__(self, data, pad_idx, max_len = 500):\n13:51:32.796356 line         7         self.data = data\n13:51:32.952454 line         8         self.pad_idx = pad_idx\n13:51:33.108968 line         9         self.max_len = max_len\n13:51:33.266385 return       9         self.max_len = max_len\nReturn value:.. None\n"
    }
   ],
   "source": [
    "trainData = AbstractDataset(train, PAD_TOKEN, max_len = 64)\n",
    "validData = AbstractDataset(valid, PAD_TOKEN, max_len = 64)\n",
    "testData = AbstractDataset(test, PAD_TOKEN, max_len = 64)"
   ]
  },
  {
   "cell_type": "code",
   "execution_count": 41,
   "metadata": {},
   "outputs": [
    {
     "data": {
      "text/plain": "<__main__.AbstractDataset at 0x7efbe4250080>"
     },
     "execution_count": 41,
     "metadata": {},
     "output_type": "execute_result"
    }
   ],
   "source": [
    "trainData"
   ]
  },
  {
   "cell_type": "code",
   "execution_count": 42,
   "metadata": {},
   "outputs": [],
   "source": [
    "class Net(nn.Module):\n",
    "    def __init__(self, vocabulary_size):\n",
    "        super(Net, self).__init__()\n",
    "        self.embedding_size = embedding_dim\n",
    "        self.hidden_dim = hidden_dim\n",
    "        self.embedding = nn.Embedding(vocabulary_size, self.embedding_size)\n",
    "        self.embedding.weight = torch.nn.Parameter(embedding_matrix)\n",
    "        self.sent_rnn = nn.GRU(self.embedding_size,\n",
    "                                self.hidden_dim,\n",
    "                                bidirectional=True,\n",
    "                                batch_first=True)\n",
    "        \n",
    "        self.l1 = nn.Linear(self.hidden_dim*2, self.hidden_dim)\n",
    "        torch.nn.init.xavier_normal_(self.l1.weight)\n",
    "        #self.layernorm1 = nn.LayerNorm(self.hidden_dim*2)\n",
    "        #self.layernorm2 = nn.LayerNorm(self.hidden_dim)\n",
    "        self.l2 = nn.Linear(self.hidden_dim, 6)\n",
    "\n",
    "    # b: batch_size\n",
    "    # s: number of sentences\n",
    "    # w: number of words\n",
    "    # e: embedding_dim\n",
    "    def forward(self, x):\n",
    "        x = self.embedding(x)\n",
    "        b,s,w,e = x.shape\n",
    "        x = x.view(b,s*w,e)\n",
    "        x, __ = self.sent_rnn(x)\n",
    "        x = x.view(b,s,w,-1)\n",
    "        x = torch.max(x,dim=2)[0]\n",
    "        #final_ht = x[-1]\n",
    "        \n",
    "        #x = self.layernorm1(x)\n",
    "        \n",
    "        x = torch.relu(self.l1(x))\n",
    "        \n",
    "        #x = self.layernorm2(x)\n",
    "        \n",
    "        x = torch.sigmoid(self.l2(x))\n",
    "        return x"
   ]
  },
  {
   "cell_type": "code",
   "execution_count": 43,
   "metadata": {},
   "outputs": [],
   "source": [
    "device = torch.device('cuda' if torch.cuda.is_available() else 'cpu')"
   ]
  },
  {
   "cell_type": "code",
   "execution_count": 44,
   "metadata": {},
   "outputs": [],
   "source": [
    "### Helper functions for scoring\n",
    "\n",
    "class F1():\n",
    "    def __init__(self):\n",
    "        self.threshold = 0.5\n",
    "        self.n_precision = 0\n",
    "        self.n_recall = 0\n",
    "        self.n_corrects = 0\n",
    "        self.name = 'F1'\n",
    "\n",
    "    def reset(self):\n",
    "        self.n_precision = 0\n",
    "        self.n_recall = 0\n",
    "        self.n_corrects = 0\n",
    "\n",
    "    def update(self, predicts, groundTruth):\n",
    "        predicts = predicts > self.threshold\n",
    "        self.n_precision += torch.sum(predicts).data.item()\n",
    "        self.n_recall += torch.sum(groundTruth).data.item()\n",
    "        self.n_corrects += torch.sum(groundTruth.type(torch.bool) * predicts).data.item()\n",
    "\n",
    "    def get_score(self):\n",
    "        recall = self.n_corrects / self.n_recall\n",
    "        precision = self.n_corrects / (self.n_precision + 1e-20)\n",
    "        return 2 * (recall * precision) / (recall + precision + 1e-20)\n",
    "\n",
    "    def print_score(self):\n",
    "        score = self.get_score()\n",
    "        return '{:.5f}'.format(score)"
   ]
  },
  {
   "cell_type": "code",
   "execution_count": 46,
   "metadata": {},
   "outputs": [],
   "source": [
    "def _run_epoch(epoch, mode):\n",
    "    model.train(True)\n",
    "    if mode==\"train\":\n",
    "        description = 'Train'\n",
    "        dataset = trainData\n",
    "        shuffle = True\n",
    "    else:\n",
    "        description = 'Valid'\n",
    "        dataset = validData\n",
    "        shuffle = False\n",
    "    dataloader = DataLoader(dataset=dataset,\n",
    "                            batch_size=batch_size,\n",
    "                            shuffle=shuffle,\n",
    "                            collate_fn=dataset.collate_fn,\n",
    "                            num_workers=8)\n",
    "\n",
    "    trange = tqdm(enumerate(dataloader), total=len(dataloader), desc=description)\n",
    "    loss = 0\n",
    "    f1_score = F1()\n",
    "    for i, (x, y, sent_len) in trange:\n",
    "        o_labels, batch_loss = _run_iter(x,y)\n",
    "        if mode==\"train\":\n",
    "            opt.zero_grad()\n",
    "            batch_loss.backward()\n",
    "            opt.step()\n",
    "\n",
    "        loss += batch_loss.item()\n",
    "        f1_score.update(o_labels.cpu(), y)\n",
    "\n",
    "        trange.set_postfix(\n",
    "            loss=loss / (i + 1), f1=f1_score.print_score())\n",
    "    \n",
    "    if mode==\"train\":\n",
    "        history['train'].append({'f1':f1_score.get_score(), 'loss':loss/ len(trange)})\n",
    "        writer.add_scalar('Loss/train', loss/ len(trange), epoch)\n",
    "        writer.add_scalar('F1_score/train', f1_score.get_score(), epoch)\n",
    "    else:\n",
    "        history['valid'].append({'f1':f1_score.get_score(), 'loss':loss/ len(trange)})\n",
    "        writer.add_scalar('Loss/valid', loss/ len(trange), epoch)\n",
    "        writer.add_scalar('F1_score/valid', f1_score.get_score(), epoch)\n",
    "    trange.close()\n",
    "    \n",
    "\n",
    "def _run_iter(x,y):\n",
    "    abstract = x.to(device)\n",
    "    labels = y.to(device)\n",
    "    o_labels = model(abstract)\n",
    "    l_loss = criteria(o_labels, labels)\n",
    "    return o_labels, l_loss\n",
    "\n",
    "def save(epoch):\n",
    "    if not os.path.exists(os.path.join(CWD,'model')):\n",
    "        os.makedirs(os.path.join(CWD,'model'))\n",
    "    torch.save(model.state_dict(), os.path.join( CWD,'model/model.pkl.'+str(epoch) ))\n",
    "    with open( os.path.join( CWD,'model/history.json'), 'w') as f:\n",
    "        json.dump(history, f, indent=4)"
   ]
  },
  {
   "cell_type": "code",
   "execution_count": 63,
   "metadata": {},
   "outputs": [
    {
     "name": "stdout",
     "output_type": "stream",
     "text": "Epoch: 0\nTrain: 100%|██████████| 394/394 [00:22<00:00, 17.47it/s, f1=0.23114, loss=0.28]\nValid: 100%|██████████| 44/44 [00:01<00:00, 40.99it/s, f1=0.35523, loss=0.208]\nEpoch: 1\nTrain: 100%|██████████| 394/394 [00:22<00:00, 17.66it/s, f1=0.51398, loss=0.199]\nValid: 100%|██████████| 44/44 [00:01<00:00, 40.65it/s, f1=0.55251, loss=0.191]\nEpoch: 2\nTrain: 100%|██████████| 394/394 [00:22<00:00, 17.83it/s, f1=0.58991, loss=0.186]\nValid: 100%|██████████| 44/44 [00:01<00:00, 40.48it/s, f1=0.59713, loss=0.181]\nEpoch: 3\nTrain: 100%|██████████| 394/394 [00:21<00:00, 18.14it/s, f1=0.61922, loss=0.179]\nValid: 100%|██████████| 44/44 [00:01<00:00, 41.02it/s, f1=0.62258, loss=0.174]\nEpoch: 4\nTrain: 100%|██████████| 394/394 [00:22<00:00, 17.53it/s, f1=0.63873, loss=0.172]\nValid: 100%|██████████| 44/44 [00:01<00:00, 41.32it/s, f1=0.62209, loss=0.172]\nEpoch: 5\nTrain: 100%|██████████| 394/394 [00:22<00:00, 17.73it/s, f1=0.65148, loss=0.17]\nValid: 100%|██████████| 44/44 [00:01<00:00, 40.65it/s, f1=0.64518, loss=0.169]\nEpoch: 6\nTrain: 100%|██████████| 394/394 [00:22<00:00, 17.60it/s, f1=0.66336, loss=0.164]\nValid: 100%|██████████| 44/44 [00:01<00:00, 40.70it/s, f1=0.64847, loss=0.167]\nEpoch: 7\nTrain: 100%|██████████| 394/394 [00:22<00:00, 17.51it/s, f1=0.67602, loss=0.161]\nValid: 100%|██████████| 44/44 [00:01<00:00, 40.21it/s, f1=0.65167, loss=0.166]\nEpoch: 8\nTrain: 100%|██████████| 394/394 [00:22<00:00, 17.53it/s, f1=0.68460, loss=0.158]\nValid: 100%|██████████| 44/44 [00:01<00:00, 40.97it/s, f1=0.66253, loss=0.165]\nEpoch: 9\nTrain: 100%|██████████| 394/394 [00:22<00:00, 17.23it/s, f1=0.69458, loss=0.154]\nValid: 100%|██████████| 44/44 [00:01<00:00, 40.06it/s, f1=0.65721, loss=0.166]\nBest F1 score  [0.6625314983523938, 8]\n"
    },
    {
     "data": {
      "image/png": "[encoded data removed]",
      "image/svg+xml": "<?xml version=\"1.0\" encoding=\"utf-8\" standalone=\"no\"?>\n<!DOCTYPE svg PUBLIC \"-//W3C//DTD SVG 1.1//EN\"\n  \"http://www.w3.org/Graphics/SVG/1.1/DTD/svg11.dtd\">\n<!-- Created with matplotlib (https://matplotlib.org/) -->\n<svg height=\"317.99625pt\" version=\"1.1\" viewBox=\"0 0 434.265625 317.99625\" width=\"434.265625pt\" xmlns=\"http://www.w3.org/2000/svg\" xmlns:xlink=\"http://www.w3.org/1999/xlink\">\n <defs>\n  <style type=\"text/css\">\n*{stroke-linecap:butt;stroke-linejoin:round;}\n  </style>\n </defs>\n <g id=\"figure_1\">\n  <g id=\"patch_1\">\n   <path d=\"M 0 317.99625 \nL 434.265625 317.99625 \nL 434.265625 0 \nL 0 0 \nz\n\" style=\"fill:none;\"/>\n  </g>\n  <g id=\"axes_1\">\n   <g id=\"patch_2\">\n    <path d=\"M 36.465625 294.118125 \nL 427.065625 294.118125 \nL 427.065625 22.318125 \nL 36.465625 22.318125 \nz\n\"/>\n   </g>\n   <g id=\"matplotlib.axis_1\">\n    <g id=\"xtick_1\">\n     <g id=\"line2d_1\">\n      <defs>\n       <path d=\"M 0 0 \nL 0 3.5 \n\" id=\"m3f8e80ab79\" style=\"stroke:#ffffff;stroke-width:0.8;\"/>\n      </defs>\n      <g>\n       <use style=\"fill:#ffffff;stroke:#ffffff;stroke-width:0.8;\" x=\"54.22017\" xlink:href=\"#m3f8e80ab79\" y=\"294.118125\"/>\n      </g>\n     </g>\n     <g id=\"text_1\">\n      <!-- 0 -->\n      <defs>\n       <path d=\"M 31.78125 66.40625 \nQ 24.171875 66.40625 20.328125 58.90625 \nQ 16.5 51.421875 16.5 36.375 \nQ 16.5 21.390625 20.328125 13.890625 \nQ 24.171875 6.390625 31.78125 6.390625 \nQ 39.453125 6.390625 43.28125 13.890625 \nQ 47.125 21.390625 47.125 36.375 \nQ 47.125 51.421875 43.28125 58.90625 \nQ 39.453125 66.40625 31.78125 66.40625 \nz\nM 31.78125 74.21875 \nQ 44.046875 74.21875 50.515625 64.515625 \nQ 56.984375 54.828125 56.984375 36.375 \nQ 56.984375 17.96875 50.515625 8.265625 \nQ 44.046875 -1.421875 31.78125 -1.421875 \nQ 19.53125 -1.421875 13.0625 8.265625 \nQ 6.59375 17.96875 6.59375 36.375 \nQ 6.59375 54.828125 13.0625 64.515625 \nQ 19.53125 74.21875 31.78125 74.21875 \nz\n\" id=\"DejaVuSans-48\"/>\n      </defs>\n      <g style=\"fill:#ffffff;\" transform=\"translate(51.03892 308.716563)scale(0.1 -0.1)\">\n       <use xlink:href=\"#DejaVuSans-48\"/>\n      </g>\n     </g>\n    </g>\n    <g id=\"xtick_2\">\n     <g id=\"line2d_2\">\n      <g>\n       <use style=\"fill:#ffffff;stroke:#ffffff;stroke-width:0.8;\" x=\"133.129261\" xlink:href=\"#m3f8e80ab79\" y=\"294.118125\"/>\n      </g>\n     </g>\n     <g id=\"text_2\">\n      <!-- 2 -->\n      <defs>\n       <path d=\"M 19.1875 8.296875 \nL 53.609375 8.296875 \nL 53.609375 0 \nL 7.328125 0 \nL 7.328125 8.296875 \nQ 12.9375 14.109375 22.625 23.890625 \nQ 32.328125 33.6875 34.8125 36.53125 \nQ 39.546875 41.84375 41.421875 45.53125 \nQ 43.3125 49.21875 43.3125 52.78125 \nQ 43.3125 58.59375 39.234375 62.25 \nQ 35.15625 65.921875 28.609375 65.921875 \nQ 23.96875 65.921875 18.8125 64.3125 \nQ 13.671875 62.703125 7.8125 59.421875 \nL 7.8125 69.390625 \nQ 13.765625 71.78125 18.9375 73 \nQ 24.125 74.21875 28.421875 74.21875 \nQ 39.75 74.21875 46.484375 68.546875 \nQ 53.21875 62.890625 53.21875 53.421875 \nQ 53.21875 48.921875 51.53125 44.890625 \nQ 49.859375 40.875 45.40625 35.40625 \nQ 44.1875 33.984375 37.640625 27.21875 \nQ 31.109375 20.453125 19.1875 8.296875 \nz\n\" id=\"DejaVuSans-50\"/>\n      </defs>\n      <g style=\"fill:#ffffff;\" transform=\"translate(129.948011 308.716563)scale(0.1 -0.1)\">\n       <use xlink:href=\"#DejaVuSans-50\"/>\n      </g>\n     </g>\n    </g>\n    <g id=\"xtick_3\">\n     <g id=\"line2d_3\">\n      <g>\n       <use style=\"fill:#ffffff;stroke:#ffffff;stroke-width:0.8;\" x=\"212.038352\" xlink:href=\"#m3f8e80ab79\" y=\"294.118125\"/>\n      </g>\n     </g>\n     <g id=\"text_3\">\n      <!-- 4 -->\n      <defs>\n       <path d=\"M 37.796875 64.3125 \nL 12.890625 25.390625 \nL 37.796875 25.390625 \nz\nM 35.203125 72.90625 \nL 47.609375 72.90625 \nL 47.609375 25.390625 \nL 58.015625 25.390625 \nL 58.015625 17.1875 \nL 47.609375 17.1875 \nL 47.609375 0 \nL 37.796875 0 \nL 37.796875 17.1875 \nL 4.890625 17.1875 \nL 4.890625 26.703125 \nz\n\" id=\"DejaVuSans-52\"/>\n      </defs>\n      <g style=\"fill:#ffffff;\" transform=\"translate(208.857102 308.716563)scale(0.1 -0.1)\">\n       <use xlink:href=\"#DejaVuSans-52\"/>\n      </g>\n     </g>\n    </g>\n    <g id=\"xtick_4\">\n     <g id=\"line2d_4\">\n      <g>\n       <use style=\"fill:#ffffff;stroke:#ffffff;stroke-width:0.8;\" x=\"290.947443\" xlink:href=\"#m3f8e80ab79\" y=\"294.118125\"/>\n      </g>\n     </g>\n     <g id=\"text_4\">\n      <!-- 6 -->\n      <defs>\n       <path d=\"M 33.015625 40.375 \nQ 26.375 40.375 22.484375 35.828125 \nQ 18.609375 31.296875 18.609375 23.390625 \nQ 18.609375 15.53125 22.484375 10.953125 \nQ 26.375 6.390625 33.015625 6.390625 \nQ 39.65625 6.390625 43.53125 10.953125 \nQ 47.40625 15.53125 47.40625 23.390625 \nQ 47.40625 31.296875 43.53125 35.828125 \nQ 39.65625 40.375 33.015625 40.375 \nz\nM 52.59375 71.296875 \nL 52.59375 62.3125 \nQ 48.875 64.0625 45.09375 64.984375 \nQ 41.3125 65.921875 37.59375 65.921875 \nQ 27.828125 65.921875 22.671875 59.328125 \nQ 17.53125 52.734375 16.796875 39.40625 \nQ 19.671875 43.65625 24.015625 45.921875 \nQ 28.375 48.1875 33.59375 48.1875 \nQ 44.578125 48.1875 50.953125 41.515625 \nQ 57.328125 34.859375 57.328125 23.390625 \nQ 57.328125 12.15625 50.6875 5.359375 \nQ 44.046875 -1.421875 33.015625 -1.421875 \nQ 20.359375 -1.421875 13.671875 8.265625 \nQ 6.984375 17.96875 6.984375 36.375 \nQ 6.984375 53.65625 15.1875 63.9375 \nQ 23.390625 74.21875 37.203125 74.21875 \nQ 40.921875 74.21875 44.703125 73.484375 \nQ 48.484375 72.75 52.59375 71.296875 \nz\n\" id=\"DejaVuSans-54\"/>\n      </defs>\n      <g style=\"fill:#ffffff;\" transform=\"translate(287.766193 308.716563)scale(0.1 -0.1)\">\n       <use xlink:href=\"#DejaVuSans-54\"/>\n      </g>\n     </g>\n    </g>\n    <g id=\"xtick_5\">\n     <g id=\"line2d_5\">\n      <g>\n       <use style=\"fill:#ffffff;stroke:#ffffff;stroke-width:0.8;\" x=\"369.856534\" xlink:href=\"#m3f8e80ab79\" y=\"294.118125\"/>\n      </g>\n     </g>\n     <g id=\"text_5\">\n      <!-- 8 -->\n      <defs>\n       <path d=\"M 31.78125 34.625 \nQ 24.75 34.625 20.71875 30.859375 \nQ 16.703125 27.09375 16.703125 20.515625 \nQ 16.703125 13.921875 20.71875 10.15625 \nQ 24.75 6.390625 31.78125 6.390625 \nQ 38.8125 6.390625 42.859375 10.171875 \nQ 46.921875 13.96875 46.921875 20.515625 \nQ 46.921875 27.09375 42.890625 30.859375 \nQ 38.875 34.625 31.78125 34.625 \nz\nM 21.921875 38.8125 \nQ 15.578125 40.375 12.03125 44.71875 \nQ 8.5 49.078125 8.5 55.328125 \nQ 8.5 64.0625 14.71875 69.140625 \nQ 20.953125 74.21875 31.78125 74.21875 \nQ 42.671875 74.21875 48.875 69.140625 \nQ 55.078125 64.0625 55.078125 55.328125 \nQ 55.078125 49.078125 51.53125 44.71875 \nQ 48 40.375 41.703125 38.8125 \nQ 48.828125 37.15625 52.796875 32.3125 \nQ 56.78125 27.484375 56.78125 20.515625 \nQ 56.78125 9.90625 50.3125 4.234375 \nQ 43.84375 -1.421875 31.78125 -1.421875 \nQ 19.734375 -1.421875 13.25 4.234375 \nQ 6.78125 9.90625 6.78125 20.515625 \nQ 6.78125 27.484375 10.78125 32.3125 \nQ 14.796875 37.15625 21.921875 38.8125 \nz\nM 18.3125 54.390625 \nQ 18.3125 48.734375 21.84375 45.5625 \nQ 25.390625 42.390625 31.78125 42.390625 \nQ 38.140625 42.390625 41.71875 45.5625 \nQ 45.3125 48.734375 45.3125 54.390625 \nQ 45.3125 60.0625 41.71875 63.234375 \nQ 38.140625 66.40625 31.78125 66.40625 \nQ 25.390625 66.40625 21.84375 63.234375 \nQ 18.3125 60.0625 18.3125 54.390625 \nz\n\" id=\"DejaVuSans-56\"/>\n      </defs>\n      <g style=\"fill:#ffffff;\" transform=\"translate(366.675284 308.716563)scale(0.1 -0.1)\">\n       <use xlink:href=\"#DejaVuSans-56\"/>\n      </g>\n     </g>\n    </g>\n   </g>\n   <g id=\"matplotlib.axis_2\">\n    <g id=\"ytick_1\">\n     <g id=\"line2d_6\">\n      <defs>\n       <path d=\"M 0 0 \nL -3.5 0 \n\" id=\"mb5f3d56af1\" style=\"stroke:#ffffff;stroke-width:0.8;\"/>\n      </defs>\n      <g>\n       <use style=\"fill:#ffffff;stroke:#ffffff;stroke-width:0.8;\" x=\"36.465625\" xlink:href=\"#mb5f3d56af1\" y=\"269.461357\"/>\n      </g>\n     </g>\n     <g id=\"text_6\">\n      <!-- 0.16 -->\n      <defs>\n       <path d=\"M 10.6875 12.40625 \nL 21 12.40625 \nL 21 0 \nL 10.6875 0 \nz\n\" id=\"DejaVuSans-46\"/>\n       <path d=\"M 12.40625 8.296875 \nL 28.515625 8.296875 \nL 28.515625 63.921875 \nL 10.984375 60.40625 \nL 10.984375 69.390625 \nL 28.421875 72.90625 \nL 38.28125 72.90625 \nL 38.28125 8.296875 \nL 54.390625 8.296875 \nL 54.390625 0 \nL 12.40625 0 \nz\n\" id=\"DejaVuSans-49\"/>\n      </defs>\n      <g style=\"fill:#ffffff;\" transform=\"translate(7.2 273.260576)scale(0.1 -0.1)\">\n       <use xlink:href=\"#DejaVuSans-48\"/>\n       <use x=\"63.623047\" xlink:href=\"#DejaVuSans-46\"/>\n       <use x=\"95.410156\" xlink:href=\"#DejaVuSans-49\"/>\n       <use x=\"159.033203\" xlink:href=\"#DejaVuSans-54\"/>\n      </g>\n     </g>\n    </g>\n    <g id=\"ytick_2\">\n     <g id=\"line2d_7\">\n      <g>\n       <use style=\"fill:#ffffff;stroke:#ffffff;stroke-width:0.8;\" x=\"36.465625\" xlink:href=\"#mb5f3d56af1\" y=\"230.179341\"/>\n      </g>\n     </g>\n     <g id=\"text_7\">\n      <!-- 0.18 -->\n      <g style=\"fill:#ffffff;\" transform=\"translate(7.2 233.978559)scale(0.1 -0.1)\">\n       <use xlink:href=\"#DejaVuSans-48\"/>\n       <use x=\"63.623047\" xlink:href=\"#DejaVuSans-46\"/>\n       <use x=\"95.410156\" xlink:href=\"#DejaVuSans-49\"/>\n       <use x=\"159.033203\" xlink:href=\"#DejaVuSans-56\"/>\n      </g>\n     </g>\n    </g>\n    <g id=\"ytick_3\">\n     <g id=\"line2d_8\">\n      <g>\n       <use style=\"fill:#ffffff;stroke:#ffffff;stroke-width:0.8;\" x=\"36.465625\" xlink:href=\"#mb5f3d56af1\" y=\"190.897324\"/>\n      </g>\n     </g>\n     <g id=\"text_8\">\n      <!-- 0.20 -->\n      <g style=\"fill:#ffffff;\" transform=\"translate(7.2 194.696543)scale(0.1 -0.1)\">\n       <use xlink:href=\"#DejaVuSans-48\"/>\n       <use x=\"63.623047\" xlink:href=\"#DejaVuSans-46\"/>\n       <use x=\"95.410156\" xlink:href=\"#DejaVuSans-50\"/>\n       <use x=\"159.033203\" xlink:href=\"#DejaVuSans-48\"/>\n      </g>\n     </g>\n    </g>\n    <g id=\"ytick_4\">\n     <g id=\"line2d_9\">\n      <g>\n       <use style=\"fill:#ffffff;stroke:#ffffff;stroke-width:0.8;\" x=\"36.465625\" xlink:href=\"#mb5f3d56af1\" y=\"151.615308\"/>\n      </g>\n     </g>\n     <g id=\"text_9\">\n      <!-- 0.22 -->\n      <g style=\"fill:#ffffff;\" transform=\"translate(7.2 155.414526)scale(0.1 -0.1)\">\n       <use xlink:href=\"#DejaVuSans-48\"/>\n       <use x=\"63.623047\" xlink:href=\"#DejaVuSans-46\"/>\n       <use x=\"95.410156\" xlink:href=\"#DejaVuSans-50\"/>\n       <use x=\"159.033203\" xlink:href=\"#DejaVuSans-50\"/>\n      </g>\n     </g>\n    </g>\n    <g id=\"ytick_5\">\n     <g id=\"line2d_10\">\n      <g>\n       <use style=\"fill:#ffffff;stroke:#ffffff;stroke-width:0.8;\" x=\"36.465625\" xlink:href=\"#mb5f3d56af1\" y=\"112.333291\"/>\n      </g>\n     </g>\n     <g id=\"text_10\">\n      <!-- 0.24 -->\n      <g style=\"fill:#ffffff;\" transform=\"translate(7.2 116.13251)scale(0.1 -0.1)\">\n       <use xlink:href=\"#DejaVuSans-48\"/>\n       <use x=\"63.623047\" xlink:href=\"#DejaVuSans-46\"/>\n       <use x=\"95.410156\" xlink:href=\"#DejaVuSans-50\"/>\n       <use x=\"159.033203\" xlink:href=\"#DejaVuSans-52\"/>\n      </g>\n     </g>\n    </g>\n    <g id=\"ytick_6\">\n     <g id=\"line2d_11\">\n      <g>\n       <use style=\"fill:#ffffff;stroke:#ffffff;stroke-width:0.8;\" x=\"36.465625\" xlink:href=\"#mb5f3d56af1\" y=\"73.051275\"/>\n      </g>\n     </g>\n     <g id=\"text_11\">\n      <!-- 0.26 -->\n      <g style=\"fill:#ffffff;\" transform=\"translate(7.2 76.850494)scale(0.1 -0.1)\">\n       <use xlink:href=\"#DejaVuSans-48\"/>\n       <use x=\"63.623047\" xlink:href=\"#DejaVuSans-46\"/>\n       <use x=\"95.410156\" xlink:href=\"#DejaVuSans-50\"/>\n       <use x=\"159.033203\" xlink:href=\"#DejaVuSans-54\"/>\n      </g>\n     </g>\n    </g>\n    <g id=\"ytick_7\">\n     <g id=\"line2d_12\">\n      <g>\n       <use style=\"fill:#ffffff;stroke:#ffffff;stroke-width:0.8;\" x=\"36.465625\" xlink:href=\"#mb5f3d56af1\" y=\"33.769258\"/>\n      </g>\n     </g>\n     <g id=\"text_12\">\n      <!-- 0.28 -->\n      <g style=\"fill:#ffffff;\" transform=\"translate(7.2 37.568477)scale(0.1 -0.1)\">\n       <use xlink:href=\"#DejaVuSans-48\"/>\n       <use x=\"63.623047\" xlink:href=\"#DejaVuSans-46\"/>\n       <use x=\"95.410156\" xlink:href=\"#DejaVuSans-50\"/>\n       <use x=\"159.033203\" xlink:href=\"#DejaVuSans-56\"/>\n      </g>\n     </g>\n    </g>\n   </g>\n   <g id=\"line2d_13\">\n    <path clip-path=\"url(#p845491a86b)\" d=\"M 54.22017 34.67267 \nL 93.674716 192.211353 \nL 133.129261 219.238661 \nL 172.583807 232.454598 \nL 212.038352 245.165555 \nL 251.492898 249.548971 \nL 290.947443 260.809317 \nL 330.401989 267.290311 \nL 369.856534 273.727349 \nL 409.31108 281.76358 \n\" style=\"fill:none;stroke:#8dd3c7;stroke-linecap:square;stroke-width:1.5;\"/>\n   </g>\n   <g id=\"line2d_14\">\n    <path clip-path=\"url(#p845491a86b)\" d=\"M 54.22017 175.615879 \nL 93.674716 209.527428 \nL 133.129261 227.545937 \nL 172.583807 241.84589 \nL 212.038352 245.528818 \nL 251.492898 251.233891 \nL 290.947443 255.331703 \nL 330.401989 257.850449 \nL 369.856534 259.303883 \nL 409.31108 257.875994 \n\" style=\"fill:none;stroke:#feffb3;stroke-linecap:square;stroke-width:1.5;\"/>\n   </g>\n   <g id=\"patch_3\">\n    <path d=\"M 36.465625 294.118125 \nL 36.465625 22.318125 \n\" style=\"fill:none;stroke:#ffffff;stroke-linecap:square;stroke-linejoin:miter;stroke-width:0.8;\"/>\n   </g>\n   <g id=\"patch_4\">\n    <path d=\"M 427.065625 294.118125 \nL 427.065625 22.318125 \n\" style=\"fill:none;stroke:#ffffff;stroke-linecap:square;stroke-linejoin:miter;stroke-width:0.8;\"/>\n   </g>\n   <g id=\"patch_5\">\n    <path d=\"M 36.465625 294.118125 \nL 427.065625 294.118125 \n\" style=\"fill:none;stroke:#ffffff;stroke-linecap:square;stroke-linejoin:miter;stroke-width:0.8;\"/>\n   </g>\n   <g id=\"patch_6\">\n    <path d=\"M 36.465625 22.318125 \nL 427.065625 22.318125 \n\" style=\"fill:none;stroke:#ffffff;stroke-linecap:square;stroke-linejoin:miter;stroke-width:0.8;\"/>\n   </g>\n   <g id=\"text_13\">\n    <!-- Loss -->\n    <defs>\n     <path d=\"M 9.8125 72.90625 \nL 19.671875 72.90625 \nL 19.671875 8.296875 \nL 55.171875 8.296875 \nL 55.171875 0 \nL 9.8125 0 \nz\n\" id=\"DejaVuSans-76\"/>\n     <path d=\"M 30.609375 48.390625 \nQ 23.390625 48.390625 19.1875 42.75 \nQ 14.984375 37.109375 14.984375 27.296875 \nQ 14.984375 17.484375 19.15625 11.84375 \nQ 23.34375 6.203125 30.609375 6.203125 \nQ 37.796875 6.203125 41.984375 11.859375 \nQ 46.1875 17.53125 46.1875 27.296875 \nQ 46.1875 37.015625 41.984375 42.703125 \nQ 37.796875 48.390625 30.609375 48.390625 \nz\nM 30.609375 56 \nQ 42.328125 56 49.015625 48.375 \nQ 55.71875 40.765625 55.71875 27.296875 \nQ 55.71875 13.875 49.015625 6.21875 \nQ 42.328125 -1.421875 30.609375 -1.421875 \nQ 18.84375 -1.421875 12.171875 6.21875 \nQ 5.515625 13.875 5.515625 27.296875 \nQ 5.515625 40.765625 12.171875 48.375 \nQ 18.84375 56 30.609375 56 \nz\n\" id=\"DejaVuSans-111\"/>\n     <path d=\"M 44.28125 53.078125 \nL 44.28125 44.578125 \nQ 40.484375 46.53125 36.375 47.5 \nQ 32.28125 48.484375 27.875 48.484375 \nQ 21.1875 48.484375 17.84375 46.4375 \nQ 14.5 44.390625 14.5 40.28125 \nQ 14.5 37.15625 16.890625 35.375 \nQ 19.28125 33.59375 26.515625 31.984375 \nL 29.59375 31.296875 \nQ 39.15625 29.25 43.1875 25.515625 \nQ 47.21875 21.78125 47.21875 15.09375 \nQ 47.21875 7.46875 41.1875 3.015625 \nQ 35.15625 -1.421875 24.609375 -1.421875 \nQ 20.21875 -1.421875 15.453125 -0.5625 \nQ 10.6875 0.296875 5.421875 2 \nL 5.421875 11.28125 \nQ 10.40625 8.6875 15.234375 7.390625 \nQ 20.0625 6.109375 24.8125 6.109375 \nQ 31.15625 6.109375 34.5625 8.28125 \nQ 37.984375 10.453125 37.984375 14.40625 \nQ 37.984375 18.0625 35.515625 20.015625 \nQ 33.0625 21.96875 24.703125 23.78125 \nL 21.578125 24.515625 \nQ 13.234375 26.265625 9.515625 29.90625 \nQ 5.8125 33.546875 5.8125 39.890625 \nQ 5.8125 47.609375 11.28125 51.796875 \nQ 16.75 56 26.8125 56 \nQ 31.78125 56 36.171875 55.265625 \nQ 40.578125 54.546875 44.28125 53.078125 \nz\n\" id=\"DejaVuSans-115\"/>\n    </defs>\n    <g style=\"fill:#ffffff;\" transform=\"translate(218.500937 16.318125)scale(0.12 -0.12)\">\n     <use xlink:href=\"#DejaVuSans-76\"/>\n     <use x=\"55.697266\" xlink:href=\"#DejaVuSans-111\"/>\n     <use x=\"116.878906\" xlink:href=\"#DejaVuSans-115\"/>\n     <use x=\"168.978516\" xlink:href=\"#DejaVuSans-115\"/>\n    </g>\n   </g>\n   <g id=\"legend_1\">\n    <g id=\"patch_7\">\n     <path d=\"M 364.114062 59.674375 \nL 420.065625 59.674375 \nQ 422.065625 59.674375 422.065625 57.674375 \nL 422.065625 29.318125 \nQ 422.065625 27.318125 420.065625 27.318125 \nL 364.114062 27.318125 \nQ 362.114062 27.318125 362.114062 29.318125 \nL 362.114062 57.674375 \nQ 362.114062 59.674375 364.114062 59.674375 \nz\n\" style=\"opacity:0.8;stroke:#cccccc;stroke-linejoin:miter;\"/>\n    </g>\n    <g id=\"line2d_15\">\n     <path d=\"M 366.114062 35.416562 \nL 386.114062 35.416562 \n\" style=\"fill:none;stroke:#8dd3c7;stroke-linecap:square;stroke-width:1.5;\"/>\n    </g>\n    <g id=\"line2d_16\"/>\n    <g id=\"text_14\">\n     <!-- train -->\n     <defs>\n      <path d=\"M 18.3125 70.21875 \nL 18.3125 54.6875 \nL 36.8125 54.6875 \nL 36.8125 47.703125 \nL 18.3125 47.703125 \nL 18.3125 18.015625 \nQ 18.3125 11.328125 20.140625 9.421875 \nQ 21.96875 7.515625 27.59375 7.515625 \nL 36.8125 7.515625 \nL 36.8125 0 \nL 27.59375 0 \nQ 17.1875 0 13.234375 3.875 \nQ 9.28125 7.765625 9.28125 18.015625 \nL 9.28125 47.703125 \nL 2.6875 47.703125 \nL 2.6875 54.6875 \nL 9.28125 54.6875 \nL 9.28125 70.21875 \nz\n\" id=\"DejaVuSans-116\"/>\n      <path d=\"M 41.109375 46.296875 \nQ 39.59375 47.171875 37.8125 47.578125 \nQ 36.03125 48 33.890625 48 \nQ 26.265625 48 22.1875 43.046875 \nQ 18.109375 38.09375 18.109375 28.8125 \nL 18.109375 0 \nL 9.078125 0 \nL 9.078125 54.6875 \nL 18.109375 54.6875 \nL 18.109375 46.1875 \nQ 20.953125 51.171875 25.484375 53.578125 \nQ 30.03125 56 36.53125 56 \nQ 37.453125 56 38.578125 55.875 \nQ 39.703125 55.765625 41.0625 55.515625 \nz\n\" id=\"DejaVuSans-114\"/>\n      <path d=\"M 34.28125 27.484375 \nQ 23.390625 27.484375 19.1875 25 \nQ 14.984375 22.515625 14.984375 16.5 \nQ 14.984375 11.71875 18.140625 8.90625 \nQ 21.296875 6.109375 26.703125 6.109375 \nQ 34.1875 6.109375 38.703125 11.40625 \nQ 43.21875 16.703125 43.21875 25.484375 \nL 43.21875 27.484375 \nz\nM 52.203125 31.203125 \nL 52.203125 0 \nL 43.21875 0 \nL 43.21875 8.296875 \nQ 40.140625 3.328125 35.546875 0.953125 \nQ 30.953125 -1.421875 24.3125 -1.421875 \nQ 15.921875 -1.421875 10.953125 3.296875 \nQ 6 8.015625 6 15.921875 \nQ 6 25.140625 12.171875 29.828125 \nQ 18.359375 34.515625 30.609375 34.515625 \nL 43.21875 34.515625 \nL 43.21875 35.40625 \nQ 43.21875 41.609375 39.140625 45 \nQ 35.0625 48.390625 27.6875 48.390625 \nQ 23 48.390625 18.546875 47.265625 \nQ 14.109375 46.140625 10.015625 43.890625 \nL 10.015625 52.203125 \nQ 14.9375 54.109375 19.578125 55.046875 \nQ 24.21875 56 28.609375 56 \nQ 40.484375 56 46.34375 49.84375 \nQ 52.203125 43.703125 52.203125 31.203125 \nz\n\" id=\"DejaVuSans-97\"/>\n      <path d=\"M 9.421875 54.6875 \nL 18.40625 54.6875 \nL 18.40625 0 \nL 9.421875 0 \nz\nM 9.421875 75.984375 \nL 18.40625 75.984375 \nL 18.40625 64.59375 \nL 9.421875 64.59375 \nz\n\" id=\"DejaVuSans-105\"/>\n      <path d=\"M 54.890625 33.015625 \nL 54.890625 0 \nL 45.90625 0 \nL 45.90625 32.71875 \nQ 45.90625 40.484375 42.875 44.328125 \nQ 39.84375 48.1875 33.796875 48.1875 \nQ 26.515625 48.1875 22.3125 43.546875 \nQ 18.109375 38.921875 18.109375 30.90625 \nL 18.109375 0 \nL 9.078125 0 \nL 9.078125 54.6875 \nL 18.109375 54.6875 \nL 18.109375 46.1875 \nQ 21.34375 51.125 25.703125 53.5625 \nQ 30.078125 56 35.796875 56 \nQ 45.21875 56 50.046875 50.171875 \nQ 54.890625 44.34375 54.890625 33.015625 \nz\n\" id=\"DejaVuSans-110\"/>\n     </defs>\n     <g style=\"fill:#ffffff;\" transform=\"translate(394.114062 38.916562)scale(0.1 -0.1)\">\n      <use xlink:href=\"#DejaVuSans-116\"/>\n      <use x=\"39.208984\" xlink:href=\"#DejaVuSans-114\"/>\n      <use x=\"80.322266\" xlink:href=\"#DejaVuSans-97\"/>\n      <use x=\"141.601562\" xlink:href=\"#DejaVuSans-105\"/>\n      <use x=\"169.384766\" xlink:href=\"#DejaVuSans-110\"/>\n     </g>\n    </g>\n    <g id=\"line2d_17\">\n     <path d=\"M 366.114062 50.094688 \nL 386.114062 50.094688 \n\" style=\"fill:none;stroke:#feffb3;stroke-linecap:square;stroke-width:1.5;\"/>\n    </g>\n    <g id=\"line2d_18\"/>\n    <g id=\"text_15\">\n     <!-- valid -->\n     <defs>\n      <path d=\"M 2.984375 54.6875 \nL 12.5 54.6875 \nL 29.59375 8.796875 \nL 46.6875 54.6875 \nL 56.203125 54.6875 \nL 35.6875 0 \nL 23.484375 0 \nz\n\" id=\"DejaVuSans-118\"/>\n      <path d=\"M 9.421875 75.984375 \nL 18.40625 75.984375 \nL 18.40625 0 \nL 9.421875 0 \nz\n\" id=\"DejaVuSans-108\"/>\n      <path d=\"M 45.40625 46.390625 \nL 45.40625 75.984375 \nL 54.390625 75.984375 \nL 54.390625 0 \nL 45.40625 0 \nL 45.40625 8.203125 \nQ 42.578125 3.328125 38.25 0.953125 \nQ 33.9375 -1.421875 27.875 -1.421875 \nQ 17.96875 -1.421875 11.734375 6.484375 \nQ 5.515625 14.40625 5.515625 27.296875 \nQ 5.515625 40.1875 11.734375 48.09375 \nQ 17.96875 56 27.875 56 \nQ 33.9375 56 38.25 53.625 \nQ 42.578125 51.265625 45.40625 46.390625 \nz\nM 14.796875 27.296875 \nQ 14.796875 17.390625 18.875 11.75 \nQ 22.953125 6.109375 30.078125 6.109375 \nQ 37.203125 6.109375 41.296875 11.75 \nQ 45.40625 17.390625 45.40625 27.296875 \nQ 45.40625 37.203125 41.296875 42.84375 \nQ 37.203125 48.484375 30.078125 48.484375 \nQ 22.953125 48.484375 18.875 42.84375 \nQ 14.796875 37.203125 14.796875 27.296875 \nz\n\" id=\"DejaVuSans-100\"/>\n     </defs>\n     <g style=\"fill:#ffffff;\" transform=\"translate(394.114062 53.594688)scale(0.1 -0.1)\">\n      <use xlink:href=\"#DejaVuSans-118\"/>\n      <use x=\"59.179688\" xlink:href=\"#DejaVuSans-97\"/>\n      <use x=\"120.458984\" xlink:href=\"#DejaVuSans-108\"/>\n      <use x=\"148.242188\" xlink:href=\"#DejaVuSans-105\"/>\n      <use x=\"176.025391\" xlink:href=\"#DejaVuSans-100\"/>\n     </g>\n    </g>\n   </g>\n  </g>\n </g>\n <defs>\n  <clipPath id=\"p845491a86b\">\n   <rect height=\"271.8\" width=\"390.6\" x=\"36.465625\" y=\"22.318125\"/>\n  </clipPath>\n </defs>\n</svg>\n",
      "text/plain": "<Figure size 504x360 with 1 Axes>"
     },
     "metadata": {
      "needs_background": "dark"
     },
     "output_type": "display_data"
    },
    {
     "data": {
      "image/png": "[encoded data removed]",
      "image/svg+xml": "<?xml version=\"1.0\" encoding=\"utf-8\" standalone=\"no\"?>\n<!DOCTYPE svg PUBLIC \"-//W3C//DTD SVG 1.1//EN\"\n  \"http://www.w3.org/Graphics/SVG/1.1/DTD/svg11.dtd\">\n<!-- Created with matplotlib (https://matplotlib.org/) -->\n<svg height=\"317.99625pt\" version=\"1.1\" viewBox=\"0 0 427.903125 317.99625\" width=\"427.903125pt\" xmlns=\"http://www.w3.org/2000/svg\" xmlns:xlink=\"http://www.w3.org/1999/xlink\">\n <defs>\n  <style type=\"text/css\">\n*{stroke-linecap:butt;stroke-linejoin:round;}\n  </style>\n </defs>\n <g id=\"figure_1\">\n  <g id=\"patch_1\">\n   <path d=\"M 0 317.99625 \nL 427.903125 317.99625 \nL 427.903125 0 \nL 0 0 \nz\n\" style=\"fill:none;\"/>\n  </g>\n  <g id=\"axes_1\">\n   <g id=\"patch_2\">\n    <path d=\"M 30.103125 294.118125 \nL 420.703125 294.118125 \nL 420.703125 22.318125 \nL 30.103125 22.318125 \nz\n\"/>\n   </g>\n   <g id=\"matplotlib.axis_1\">\n    <g id=\"xtick_1\">\n     <g id=\"line2d_1\">\n      <defs>\n       <path d=\"M 0 0 \nL 0 3.5 \n\" id=\"m68e78573fd\" style=\"stroke:#ffffff;stroke-width:0.8;\"/>\n      </defs>\n      <g>\n       <use style=\"fill:#ffffff;stroke:#ffffff;stroke-width:0.8;\" x=\"47.85767\" xlink:href=\"#m68e78573fd\" y=\"294.118125\"/>\n      </g>\n     </g>\n     <g id=\"text_1\">\n      <!-- 0 -->\n      <defs>\n       <path d=\"M 31.78125 66.40625 \nQ 24.171875 66.40625 20.328125 58.90625 \nQ 16.5 51.421875 16.5 36.375 \nQ 16.5 21.390625 20.328125 13.890625 \nQ 24.171875 6.390625 31.78125 6.390625 \nQ 39.453125 6.390625 43.28125 13.890625 \nQ 47.125 21.390625 47.125 36.375 \nQ 47.125 51.421875 43.28125 58.90625 \nQ 39.453125 66.40625 31.78125 66.40625 \nz\nM 31.78125 74.21875 \nQ 44.046875 74.21875 50.515625 64.515625 \nQ 56.984375 54.828125 56.984375 36.375 \nQ 56.984375 17.96875 50.515625 8.265625 \nQ 44.046875 -1.421875 31.78125 -1.421875 \nQ 19.53125 -1.421875 13.0625 8.265625 \nQ 6.59375 17.96875 6.59375 36.375 \nQ 6.59375 54.828125 13.0625 64.515625 \nQ 19.53125 74.21875 31.78125 74.21875 \nz\n\" id=\"DejaVuSans-48\"/>\n      </defs>\n      <g style=\"fill:#ffffff;\" transform=\"translate(44.67642 308.716563)scale(0.1 -0.1)\">\n       <use xlink:href=\"#DejaVuSans-48\"/>\n      </g>\n     </g>\n    </g>\n    <g id=\"xtick_2\">\n     <g id=\"line2d_2\">\n      <g>\n       <use style=\"fill:#ffffff;stroke:#ffffff;stroke-width:0.8;\" x=\"126.766761\" xlink:href=\"#m68e78573fd\" y=\"294.118125\"/>\n      </g>\n     </g>\n     <g id=\"text_2\">\n      <!-- 2 -->\n      <defs>\n       <path d=\"M 19.1875 8.296875 \nL 53.609375 8.296875 \nL 53.609375 0 \nL 7.328125 0 \nL 7.328125 8.296875 \nQ 12.9375 14.109375 22.625 23.890625 \nQ 32.328125 33.6875 34.8125 36.53125 \nQ 39.546875 41.84375 41.421875 45.53125 \nQ 43.3125 49.21875 43.3125 52.78125 \nQ 43.3125 58.59375 39.234375 62.25 \nQ 35.15625 65.921875 28.609375 65.921875 \nQ 23.96875 65.921875 18.8125 64.3125 \nQ 13.671875 62.703125 7.8125 59.421875 \nL 7.8125 69.390625 \nQ 13.765625 71.78125 18.9375 73 \nQ 24.125 74.21875 28.421875 74.21875 \nQ 39.75 74.21875 46.484375 68.546875 \nQ 53.21875 62.890625 53.21875 53.421875 \nQ 53.21875 48.921875 51.53125 44.890625 \nQ 49.859375 40.875 45.40625 35.40625 \nQ 44.1875 33.984375 37.640625 27.21875 \nQ 31.109375 20.453125 19.1875 8.296875 \nz\n\" id=\"DejaVuSans-50\"/>\n      </defs>\n      <g style=\"fill:#ffffff;\" transform=\"translate(123.585511 308.716563)scale(0.1 -0.1)\">\n       <use xlink:href=\"#DejaVuSans-50\"/>\n      </g>\n     </g>\n    </g>\n    <g id=\"xtick_3\">\n     <g id=\"line2d_3\">\n      <g>\n       <use style=\"fill:#ffffff;stroke:#ffffff;stroke-width:0.8;\" x=\"205.675852\" xlink:href=\"#m68e78573fd\" y=\"294.118125\"/>\n      </g>\n     </g>\n     <g id=\"text_3\">\n      <!-- 4 -->\n      <defs>\n       <path d=\"M 37.796875 64.3125 \nL 12.890625 25.390625 \nL 37.796875 25.390625 \nz\nM 35.203125 72.90625 \nL 47.609375 72.90625 \nL 47.609375 25.390625 \nL 58.015625 25.390625 \nL 58.015625 17.1875 \nL 47.609375 17.1875 \nL 47.609375 0 \nL 37.796875 0 \nL 37.796875 17.1875 \nL 4.890625 17.1875 \nL 4.890625 26.703125 \nz\n\" id=\"DejaVuSans-52\"/>\n      </defs>\n      <g style=\"fill:#ffffff;\" transform=\"translate(202.494602 308.716563)scale(0.1 -0.1)\">\n       <use xlink:href=\"#DejaVuSans-52\"/>\n      </g>\n     </g>\n    </g>\n    <g id=\"xtick_4\">\n     <g id=\"line2d_4\">\n      <g>\n       <use style=\"fill:#ffffff;stroke:#ffffff;stroke-width:0.8;\" x=\"284.584943\" xlink:href=\"#m68e78573fd\" y=\"294.118125\"/>\n      </g>\n     </g>\n     <g id=\"text_4\">\n      <!-- 6 -->\n      <defs>\n       <path d=\"M 33.015625 40.375 \nQ 26.375 40.375 22.484375 35.828125 \nQ 18.609375 31.296875 18.609375 23.390625 \nQ 18.609375 15.53125 22.484375 10.953125 \nQ 26.375 6.390625 33.015625 6.390625 \nQ 39.65625 6.390625 43.53125 10.953125 \nQ 47.40625 15.53125 47.40625 23.390625 \nQ 47.40625 31.296875 43.53125 35.828125 \nQ 39.65625 40.375 33.015625 40.375 \nz\nM 52.59375 71.296875 \nL 52.59375 62.3125 \nQ 48.875 64.0625 45.09375 64.984375 \nQ 41.3125 65.921875 37.59375 65.921875 \nQ 27.828125 65.921875 22.671875 59.328125 \nQ 17.53125 52.734375 16.796875 39.40625 \nQ 19.671875 43.65625 24.015625 45.921875 \nQ 28.375 48.1875 33.59375 48.1875 \nQ 44.578125 48.1875 50.953125 41.515625 \nQ 57.328125 34.859375 57.328125 23.390625 \nQ 57.328125 12.15625 50.6875 5.359375 \nQ 44.046875 -1.421875 33.015625 -1.421875 \nQ 20.359375 -1.421875 13.671875 8.265625 \nQ 6.984375 17.96875 6.984375 36.375 \nQ 6.984375 53.65625 15.1875 63.9375 \nQ 23.390625 74.21875 37.203125 74.21875 \nQ 40.921875 74.21875 44.703125 73.484375 \nQ 48.484375 72.75 52.59375 71.296875 \nz\n\" id=\"DejaVuSans-54\"/>\n      </defs>\n      <g style=\"fill:#ffffff;\" transform=\"translate(281.403693 308.716563)scale(0.1 -0.1)\">\n       <use xlink:href=\"#DejaVuSans-54\"/>\n      </g>\n     </g>\n    </g>\n    <g id=\"xtick_5\">\n     <g id=\"line2d_5\">\n      <g>\n       <use style=\"fill:#ffffff;stroke:#ffffff;stroke-width:0.8;\" x=\"363.494034\" xlink:href=\"#m68e78573fd\" y=\"294.118125\"/>\n      </g>\n     </g>\n     <g id=\"text_5\">\n      <!-- 8 -->\n      <defs>\n       <path d=\"M 31.78125 34.625 \nQ 24.75 34.625 20.71875 30.859375 \nQ 16.703125 27.09375 16.703125 20.515625 \nQ 16.703125 13.921875 20.71875 10.15625 \nQ 24.75 6.390625 31.78125 6.390625 \nQ 38.8125 6.390625 42.859375 10.171875 \nQ 46.921875 13.96875 46.921875 20.515625 \nQ 46.921875 27.09375 42.890625 30.859375 \nQ 38.875 34.625 31.78125 34.625 \nz\nM 21.921875 38.8125 \nQ 15.578125 40.375 12.03125 44.71875 \nQ 8.5 49.078125 8.5 55.328125 \nQ 8.5 64.0625 14.71875 69.140625 \nQ 20.953125 74.21875 31.78125 74.21875 \nQ 42.671875 74.21875 48.875 69.140625 \nQ 55.078125 64.0625 55.078125 55.328125 \nQ 55.078125 49.078125 51.53125 44.71875 \nQ 48 40.375 41.703125 38.8125 \nQ 48.828125 37.15625 52.796875 32.3125 \nQ 56.78125 27.484375 56.78125 20.515625 \nQ 56.78125 9.90625 50.3125 4.234375 \nQ 43.84375 -1.421875 31.78125 -1.421875 \nQ 19.734375 -1.421875 13.25 4.234375 \nQ 6.78125 9.90625 6.78125 20.515625 \nQ 6.78125 27.484375 10.78125 32.3125 \nQ 14.796875 37.15625 21.921875 38.8125 \nz\nM 18.3125 54.390625 \nQ 18.3125 48.734375 21.84375 45.5625 \nQ 25.390625 42.390625 31.78125 42.390625 \nQ 38.140625 42.390625 41.71875 45.5625 \nQ 45.3125 48.734375 45.3125 54.390625 \nQ 45.3125 60.0625 41.71875 63.234375 \nQ 38.140625 66.40625 31.78125 66.40625 \nQ 25.390625 66.40625 21.84375 63.234375 \nQ 18.3125 60.0625 18.3125 54.390625 \nz\n\" id=\"DejaVuSans-56\"/>\n      </defs>\n      <g style=\"fill:#ffffff;\" transform=\"translate(360.312784 308.716563)scale(0.1 -0.1)\">\n       <use xlink:href=\"#DejaVuSans-56\"/>\n      </g>\n     </g>\n    </g>\n   </g>\n   <g id=\"matplotlib.axis_2\">\n    <g id=\"ytick_1\">\n     <g id=\"line2d_6\">\n      <defs>\n       <path d=\"M 0 0 \nL -3.5 0 \n\" id=\"ma0f221ed0a\" style=\"stroke:#ffffff;stroke-width:0.8;\"/>\n      </defs>\n      <g>\n       <use style=\"fill:#ffffff;stroke:#ffffff;stroke-width:0.8;\" x=\"30.103125\" xlink:href=\"#ma0f221ed0a\" y=\"245.051864\"/>\n      </g>\n     </g>\n     <g id=\"text_6\">\n      <!-- 0.3 -->\n      <defs>\n       <path d=\"M 10.6875 12.40625 \nL 21 12.40625 \nL 21 0 \nL 10.6875 0 \nz\n\" id=\"DejaVuSans-46\"/>\n       <path d=\"M 40.578125 39.3125 \nQ 47.65625 37.796875 51.625 33 \nQ 55.609375 28.21875 55.609375 21.1875 \nQ 55.609375 10.40625 48.1875 4.484375 \nQ 40.765625 -1.421875 27.09375 -1.421875 \nQ 22.515625 -1.421875 17.65625 -0.515625 \nQ 12.796875 0.390625 7.625 2.203125 \nL 7.625 11.71875 \nQ 11.71875 9.328125 16.59375 8.109375 \nQ 21.484375 6.890625 26.8125 6.890625 \nQ 36.078125 6.890625 40.9375 10.546875 \nQ 45.796875 14.203125 45.796875 21.1875 \nQ 45.796875 27.640625 41.28125 31.265625 \nQ 36.765625 34.90625 28.71875 34.90625 \nL 20.21875 34.90625 \nL 20.21875 43.015625 \nL 29.109375 43.015625 \nQ 36.375 43.015625 40.234375 45.921875 \nQ 44.09375 48.828125 44.09375 54.296875 \nQ 44.09375 59.90625 40.109375 62.90625 \nQ 36.140625 65.921875 28.71875 65.921875 \nQ 24.65625 65.921875 20.015625 65.03125 \nQ 15.375 64.15625 9.8125 62.3125 \nL 9.8125 71.09375 \nQ 15.4375 72.65625 20.34375 73.4375 \nQ 25.25 74.21875 29.59375 74.21875 \nQ 40.828125 74.21875 47.359375 69.109375 \nQ 53.90625 64.015625 53.90625 55.328125 \nQ 53.90625 49.265625 50.4375 45.09375 \nQ 46.96875 40.921875 40.578125 39.3125 \nz\n\" id=\"DejaVuSans-51\"/>\n      </defs>\n      <g style=\"fill:#ffffff;\" transform=\"translate(7.2 248.851083)scale(0.1 -0.1)\">\n       <use xlink:href=\"#DejaVuSans-48\"/>\n       <use x=\"63.623047\" xlink:href=\"#DejaVuSans-46\"/>\n       <use x=\"95.410156\" xlink:href=\"#DejaVuSans-51\"/>\n      </g>\n     </g>\n    </g>\n    <g id=\"ytick_2\">\n     <g id=\"line2d_7\">\n      <g>\n       <use style=\"fill:#ffffff;stroke:#ffffff;stroke-width:0.8;\" x=\"30.103125\" xlink:href=\"#ma0f221ed0a\" y=\"191.734783\"/>\n      </g>\n     </g>\n     <g id=\"text_7\">\n      <!-- 0.4 -->\n      <g style=\"fill:#ffffff;\" transform=\"translate(7.2 195.534001)scale(0.1 -0.1)\">\n       <use xlink:href=\"#DejaVuSans-48\"/>\n       <use x=\"63.623047\" xlink:href=\"#DejaVuSans-46\"/>\n       <use x=\"95.410156\" xlink:href=\"#DejaVuSans-52\"/>\n      </g>\n     </g>\n    </g>\n    <g id=\"ytick_3\">\n     <g id=\"line2d_8\">\n      <g>\n       <use style=\"fill:#ffffff;stroke:#ffffff;stroke-width:0.8;\" x=\"30.103125\" xlink:href=\"#ma0f221ed0a\" y=\"138.417701\"/>\n      </g>\n     </g>\n     <g id=\"text_8\">\n      <!-- 0.5 -->\n      <defs>\n       <path d=\"M 10.796875 72.90625 \nL 49.515625 72.90625 \nL 49.515625 64.59375 \nL 19.828125 64.59375 \nL 19.828125 46.734375 \nQ 21.96875 47.46875 24.109375 47.828125 \nQ 26.265625 48.1875 28.421875 48.1875 \nQ 40.625 48.1875 47.75 41.5 \nQ 54.890625 34.8125 54.890625 23.390625 \nQ 54.890625 11.625 47.5625 5.09375 \nQ 40.234375 -1.421875 26.90625 -1.421875 \nQ 22.3125 -1.421875 17.546875 -0.640625 \nQ 12.796875 0.140625 7.71875 1.703125 \nL 7.71875 11.625 \nQ 12.109375 9.234375 16.796875 8.0625 \nQ 21.484375 6.890625 26.703125 6.890625 \nQ 35.15625 6.890625 40.078125 11.328125 \nQ 45.015625 15.765625 45.015625 23.390625 \nQ 45.015625 31 40.078125 35.4375 \nQ 35.15625 39.890625 26.703125 39.890625 \nQ 22.75 39.890625 18.8125 39.015625 \nQ 14.890625 38.140625 10.796875 36.28125 \nz\n\" id=\"DejaVuSans-53\"/>\n      </defs>\n      <g style=\"fill:#ffffff;\" transform=\"translate(7.2 142.21692)scale(0.1 -0.1)\">\n       <use xlink:href=\"#DejaVuSans-48\"/>\n       <use x=\"63.623047\" xlink:href=\"#DejaVuSans-46\"/>\n       <use x=\"95.410156\" xlink:href=\"#DejaVuSans-53\"/>\n      </g>\n     </g>\n    </g>\n    <g id=\"ytick_4\">\n     <g id=\"line2d_9\">\n      <g>\n       <use style=\"fill:#ffffff;stroke:#ffffff;stroke-width:0.8;\" x=\"30.103125\" xlink:href=\"#ma0f221ed0a\" y=\"85.10062\"/>\n      </g>\n     </g>\n     <g id=\"text_9\">\n      <!-- 0.6 -->\n      <g style=\"fill:#ffffff;\" transform=\"translate(7.2 88.899838)scale(0.1 -0.1)\">\n       <use xlink:href=\"#DejaVuSans-48\"/>\n       <use x=\"63.623047\" xlink:href=\"#DejaVuSans-46\"/>\n       <use x=\"95.410156\" xlink:href=\"#DejaVuSans-54\"/>\n      </g>\n     </g>\n    </g>\n    <g id=\"ytick_5\">\n     <g id=\"line2d_10\">\n      <g>\n       <use style=\"fill:#ffffff;stroke:#ffffff;stroke-width:0.8;\" x=\"30.103125\" xlink:href=\"#ma0f221ed0a\" y=\"31.783538\"/>\n      </g>\n     </g>\n     <g id=\"text_10\">\n      <!-- 0.7 -->\n      <defs>\n       <path d=\"M 8.203125 72.90625 \nL 55.078125 72.90625 \nL 55.078125 68.703125 \nL 28.609375 0 \nL 18.3125 0 \nL 43.21875 64.59375 \nL 8.203125 64.59375 \nz\n\" id=\"DejaVuSans-55\"/>\n      </defs>\n      <g style=\"fill:#ffffff;\" transform=\"translate(7.2 35.582757)scale(0.1 -0.1)\">\n       <use xlink:href=\"#DejaVuSans-48\"/>\n       <use x=\"63.623047\" xlink:href=\"#DejaVuSans-46\"/>\n       <use x=\"95.410156\" xlink:href=\"#DejaVuSans-55\"/>\n      </g>\n     </g>\n    </g>\n   </g>\n   <g id=\"line2d_11\">\n    <path clip-path=\"url(#pb1c947708d)\" d=\"M 47.85767 281.76358 \nL 87.312216 130.963827 \nL 126.766761 90.479125 \nL 166.221307 74.85441 \nL 205.675852 64.45097 \nL 245.130398 57.651644 \nL 284.584943 51.318781 \nL 324.039489 44.568449 \nL 363.494034 39.996194 \nL 402.94858 34.67267 \n\" style=\"fill:none;stroke:#8dd3c7;stroke-linecap:square;stroke-width:1.5;\"/>\n   </g>\n   <g id=\"line2d_12\">\n    <path clip-path=\"url(#pb1c947708d)\" d=\"M 47.85767 215.602462 \nL 87.312216 110.421466 \nL 126.766761 86.631777 \nL 166.221307 73.06075 \nL 205.675852 73.32351 \nL 245.130398 61.011577 \nL 284.584943 59.255792 \nL 324.039489 57.550631 \nL 363.494034 51.76065 \nL 402.94858 54.597199 \n\" style=\"fill:none;stroke:#feffb3;stroke-linecap:square;stroke-width:1.5;\"/>\n   </g>\n   <g id=\"patch_3\">\n    <path d=\"M 30.103125 294.118125 \nL 30.103125 22.318125 \n\" style=\"fill:none;stroke:#ffffff;stroke-linecap:square;stroke-linejoin:miter;stroke-width:0.8;\"/>\n   </g>\n   <g id=\"patch_4\">\n    <path d=\"M 420.703125 294.118125 \nL 420.703125 22.318125 \n\" style=\"fill:none;stroke:#ffffff;stroke-linecap:square;stroke-linejoin:miter;stroke-width:0.8;\"/>\n   </g>\n   <g id=\"patch_5\">\n    <path d=\"M 30.103125 294.118125 \nL 420.703125 294.118125 \n\" style=\"fill:none;stroke:#ffffff;stroke-linecap:square;stroke-linejoin:miter;stroke-width:0.8;\"/>\n   </g>\n   <g id=\"patch_6\">\n    <path d=\"M 30.103125 22.318125 \nL 420.703125 22.318125 \n\" style=\"fill:none;stroke:#ffffff;stroke-linecap:square;stroke-linejoin:miter;stroke-width:0.8;\"/>\n   </g>\n   <g id=\"text_11\">\n    <!-- F1 Score -->\n    <defs>\n     <path d=\"M 9.8125 72.90625 \nL 51.703125 72.90625 \nL 51.703125 64.59375 \nL 19.671875 64.59375 \nL 19.671875 43.109375 \nL 48.578125 43.109375 \nL 48.578125 34.8125 \nL 19.671875 34.8125 \nL 19.671875 0 \nL 9.8125 0 \nz\n\" id=\"DejaVuSans-70\"/>\n     <path d=\"M 12.40625 8.296875 \nL 28.515625 8.296875 \nL 28.515625 63.921875 \nL 10.984375 60.40625 \nL 10.984375 69.390625 \nL 28.421875 72.90625 \nL 38.28125 72.90625 \nL 38.28125 8.296875 \nL 54.390625 8.296875 \nL 54.390625 0 \nL 12.40625 0 \nz\n\" id=\"DejaVuSans-49\"/>\n     <path id=\"DejaVuSans-32\"/>\n     <path d=\"M 53.515625 70.515625 \nL 53.515625 60.890625 \nQ 47.90625 63.578125 42.921875 64.890625 \nQ 37.9375 66.21875 33.296875 66.21875 \nQ 25.25 66.21875 20.875 63.09375 \nQ 16.5 59.96875 16.5 54.203125 \nQ 16.5 49.359375 19.40625 46.890625 \nQ 22.3125 44.4375 30.421875 42.921875 \nL 36.375 41.703125 \nQ 47.40625 39.59375 52.65625 34.296875 \nQ 57.90625 29 57.90625 20.125 \nQ 57.90625 9.515625 50.796875 4.046875 \nQ 43.703125 -1.421875 29.984375 -1.421875 \nQ 24.8125 -1.421875 18.96875 -0.25 \nQ 13.140625 0.921875 6.890625 3.21875 \nL 6.890625 13.375 \nQ 12.890625 10.015625 18.65625 8.296875 \nQ 24.421875 6.59375 29.984375 6.59375 \nQ 38.421875 6.59375 43.015625 9.90625 \nQ 47.609375 13.234375 47.609375 19.390625 \nQ 47.609375 24.75 44.3125 27.78125 \nQ 41.015625 30.8125 33.5 32.328125 \nL 27.484375 33.5 \nQ 16.453125 35.6875 11.515625 40.375 \nQ 6.59375 45.0625 6.59375 53.421875 \nQ 6.59375 63.09375 13.40625 68.65625 \nQ 20.21875 74.21875 32.171875 74.21875 \nQ 37.3125 74.21875 42.625 73.28125 \nQ 47.953125 72.359375 53.515625 70.515625 \nz\n\" id=\"DejaVuSans-83\"/>\n     <path d=\"M 48.78125 52.59375 \nL 48.78125 44.1875 \nQ 44.96875 46.296875 41.140625 47.34375 \nQ 37.3125 48.390625 33.40625 48.390625 \nQ 24.65625 48.390625 19.8125 42.84375 \nQ 14.984375 37.3125 14.984375 27.296875 \nQ 14.984375 17.28125 19.8125 11.734375 \nQ 24.65625 6.203125 33.40625 6.203125 \nQ 37.3125 6.203125 41.140625 7.25 \nQ 44.96875 8.296875 48.78125 10.40625 \nL 48.78125 2.09375 \nQ 45.015625 0.34375 40.984375 -0.53125 \nQ 36.96875 -1.421875 32.421875 -1.421875 \nQ 20.0625 -1.421875 12.78125 6.34375 \nQ 5.515625 14.109375 5.515625 27.296875 \nQ 5.515625 40.671875 12.859375 48.328125 \nQ 20.21875 56 33.015625 56 \nQ 37.15625 56 41.109375 55.140625 \nQ 45.0625 54.296875 48.78125 52.59375 \nz\n\" id=\"DejaVuSans-99\"/>\n     <path d=\"M 30.609375 48.390625 \nQ 23.390625 48.390625 19.1875 42.75 \nQ 14.984375 37.109375 14.984375 27.296875 \nQ 14.984375 17.484375 19.15625 11.84375 \nQ 23.34375 6.203125 30.609375 6.203125 \nQ 37.796875 6.203125 41.984375 11.859375 \nQ 46.1875 17.53125 46.1875 27.296875 \nQ 46.1875 37.015625 41.984375 42.703125 \nQ 37.796875 48.390625 30.609375 48.390625 \nz\nM 30.609375 56 \nQ 42.328125 56 49.015625 48.375 \nQ 55.71875 40.765625 55.71875 27.296875 \nQ 55.71875 13.875 49.015625 6.21875 \nQ 42.328125 -1.421875 30.609375 -1.421875 \nQ 18.84375 -1.421875 12.171875 6.21875 \nQ 5.515625 13.875 5.515625 27.296875 \nQ 5.515625 40.765625 12.171875 48.375 \nQ 18.84375 56 30.609375 56 \nz\n\" id=\"DejaVuSans-111\"/>\n     <path d=\"M 41.109375 46.296875 \nQ 39.59375 47.171875 37.8125 47.578125 \nQ 36.03125 48 33.890625 48 \nQ 26.265625 48 22.1875 43.046875 \nQ 18.109375 38.09375 18.109375 28.8125 \nL 18.109375 0 \nL 9.078125 0 \nL 9.078125 54.6875 \nL 18.109375 54.6875 \nL 18.109375 46.1875 \nQ 20.953125 51.171875 25.484375 53.578125 \nQ 30.03125 56 36.53125 56 \nQ 37.453125 56 38.578125 55.875 \nQ 39.703125 55.765625 41.0625 55.515625 \nz\n\" id=\"DejaVuSans-114\"/>\n     <path d=\"M 56.203125 29.59375 \nL 56.203125 25.203125 \nL 14.890625 25.203125 \nQ 15.484375 15.921875 20.484375 11.0625 \nQ 25.484375 6.203125 34.421875 6.203125 \nQ 39.59375 6.203125 44.453125 7.46875 \nQ 49.3125 8.734375 54.109375 11.28125 \nL 54.109375 2.78125 \nQ 49.265625 0.734375 44.1875 -0.34375 \nQ 39.109375 -1.421875 33.890625 -1.421875 \nQ 20.796875 -1.421875 13.15625 6.1875 \nQ 5.515625 13.8125 5.515625 26.8125 \nQ 5.515625 40.234375 12.765625 48.109375 \nQ 20.015625 56 32.328125 56 \nQ 43.359375 56 49.78125 48.890625 \nQ 56.203125 41.796875 56.203125 29.59375 \nz\nM 47.21875 32.234375 \nQ 47.125 39.59375 43.09375 43.984375 \nQ 39.0625 48.390625 32.421875 48.390625 \nQ 24.90625 48.390625 20.390625 44.140625 \nQ 15.875 39.890625 15.1875 32.171875 \nz\n\" id=\"DejaVuSans-101\"/>\n    </defs>\n    <g style=\"fill:#ffffff;\" transform=\"translate(199.291875 16.318125)scale(0.12 -0.12)\">\n     <use xlink:href=\"#DejaVuSans-70\"/>\n     <use x=\"57.519531\" xlink:href=\"#DejaVuSans-49\"/>\n     <use x=\"121.142578\" xlink:href=\"#DejaVuSans-32\"/>\n     <use x=\"152.929688\" xlink:href=\"#DejaVuSans-83\"/>\n     <use x=\"216.40625\" xlink:href=\"#DejaVuSans-99\"/>\n     <use x=\"271.386719\" xlink:href=\"#DejaVuSans-111\"/>\n     <use x=\"332.568359\" xlink:href=\"#DejaVuSans-114\"/>\n     <use x=\"373.650391\" xlink:href=\"#DejaVuSans-101\"/>\n    </g>\n   </g>\n   <g id=\"legend_1\">\n    <g id=\"patch_7\">\n     <path d=\"M 37.103125 59.674375 \nL 93.054688 59.674375 \nQ 95.054688 59.674375 95.054688 57.674375 \nL 95.054688 29.318125 \nQ 95.054688 27.318125 93.054688 27.318125 \nL 37.103125 27.318125 \nQ 35.103125 27.318125 35.103125 29.318125 \nL 35.103125 57.674375 \nQ 35.103125 59.674375 37.103125 59.674375 \nz\n\" style=\"opacity:0.8;stroke:#cccccc;stroke-linejoin:miter;\"/>\n    </g>\n    <g id=\"line2d_13\">\n     <path d=\"M 39.103125 35.416562 \nL 59.103125 35.416562 \n\" style=\"fill:none;stroke:#8dd3c7;stroke-linecap:square;stroke-width:1.5;\"/>\n    </g>\n    <g id=\"line2d_14\"/>\n    <g id=\"text_12\">\n     <!-- train -->\n     <defs>\n      <path d=\"M 18.3125 70.21875 \nL 18.3125 54.6875 \nL 36.8125 54.6875 \nL 36.8125 47.703125 \nL 18.3125 47.703125 \nL 18.3125 18.015625 \nQ 18.3125 11.328125 20.140625 9.421875 \nQ 21.96875 7.515625 27.59375 7.515625 \nL 36.8125 7.515625 \nL 36.8125 0 \nL 27.59375 0 \nQ 17.1875 0 13.234375 3.875 \nQ 9.28125 7.765625 9.28125 18.015625 \nL 9.28125 47.703125 \nL 2.6875 47.703125 \nL 2.6875 54.6875 \nL 9.28125 54.6875 \nL 9.28125 70.21875 \nz\n\" id=\"DejaVuSans-116\"/>\n      <path d=\"M 34.28125 27.484375 \nQ 23.390625 27.484375 19.1875 25 \nQ 14.984375 22.515625 14.984375 16.5 \nQ 14.984375 11.71875 18.140625 8.90625 \nQ 21.296875 6.109375 26.703125 6.109375 \nQ 34.1875 6.109375 38.703125 11.40625 \nQ 43.21875 16.703125 43.21875 25.484375 \nL 43.21875 27.484375 \nz\nM 52.203125 31.203125 \nL 52.203125 0 \nL 43.21875 0 \nL 43.21875 8.296875 \nQ 40.140625 3.328125 35.546875 0.953125 \nQ 30.953125 -1.421875 24.3125 -1.421875 \nQ 15.921875 -1.421875 10.953125 3.296875 \nQ 6 8.015625 6 15.921875 \nQ 6 25.140625 12.171875 29.828125 \nQ 18.359375 34.515625 30.609375 34.515625 \nL 43.21875 34.515625 \nL 43.21875 35.40625 \nQ 43.21875 41.609375 39.140625 45 \nQ 35.0625 48.390625 27.6875 48.390625 \nQ 23 48.390625 18.546875 47.265625 \nQ 14.109375 46.140625 10.015625 43.890625 \nL 10.015625 52.203125 \nQ 14.9375 54.109375 19.578125 55.046875 \nQ 24.21875 56 28.609375 56 \nQ 40.484375 56 46.34375 49.84375 \nQ 52.203125 43.703125 52.203125 31.203125 \nz\n\" id=\"DejaVuSans-97\"/>\n      <path d=\"M 9.421875 54.6875 \nL 18.40625 54.6875 \nL 18.40625 0 \nL 9.421875 0 \nz\nM 9.421875 75.984375 \nL 18.40625 75.984375 \nL 18.40625 64.59375 \nL 9.421875 64.59375 \nz\n\" id=\"DejaVuSans-105\"/>\n      <path d=\"M 54.890625 33.015625 \nL 54.890625 0 \nL 45.90625 0 \nL 45.90625 32.71875 \nQ 45.90625 40.484375 42.875 44.328125 \nQ 39.84375 48.1875 33.796875 48.1875 \nQ 26.515625 48.1875 22.3125 43.546875 \nQ 18.109375 38.921875 18.109375 30.90625 \nL 18.109375 0 \nL 9.078125 0 \nL 9.078125 54.6875 \nL 18.109375 54.6875 \nL 18.109375 46.1875 \nQ 21.34375 51.125 25.703125 53.5625 \nQ 30.078125 56 35.796875 56 \nQ 45.21875 56 50.046875 50.171875 \nQ 54.890625 44.34375 54.890625 33.015625 \nz\n\" id=\"DejaVuSans-110\"/>\n     </defs>\n     <g style=\"fill:#ffffff;\" transform=\"translate(67.103125 38.916562)scale(0.1 -0.1)\">\n      <use xlink:href=\"#DejaVuSans-116\"/>\n      <use x=\"39.208984\" xlink:href=\"#DejaVuSans-114\"/>\n      <use x=\"80.322266\" xlink:href=\"#DejaVuSans-97\"/>\n      <use x=\"141.601562\" xlink:href=\"#DejaVuSans-105\"/>\n      <use x=\"169.384766\" xlink:href=\"#DejaVuSans-110\"/>\n     </g>\n    </g>\n    <g id=\"line2d_15\">\n     <path d=\"M 39.103125 50.094688 \nL 59.103125 50.094688 \n\" style=\"fill:none;stroke:#feffb3;stroke-linecap:square;stroke-width:1.5;\"/>\n    </g>\n    <g id=\"line2d_16\"/>\n    <g id=\"text_13\">\n     <!-- valid -->\n     <defs>\n      <path d=\"M 2.984375 54.6875 \nL 12.5 54.6875 \nL 29.59375 8.796875 \nL 46.6875 54.6875 \nL 56.203125 54.6875 \nL 35.6875 0 \nL 23.484375 0 \nz\n\" id=\"DejaVuSans-118\"/>\n      <path d=\"M 9.421875 75.984375 \nL 18.40625 75.984375 \nL 18.40625 0 \nL 9.421875 0 \nz\n\" id=\"DejaVuSans-108\"/>\n      <path d=\"M 45.40625 46.390625 \nL 45.40625 75.984375 \nL 54.390625 75.984375 \nL 54.390625 0 \nL 45.40625 0 \nL 45.40625 8.203125 \nQ 42.578125 3.328125 38.25 0.953125 \nQ 33.9375 -1.421875 27.875 -1.421875 \nQ 17.96875 -1.421875 11.734375 6.484375 \nQ 5.515625 14.40625 5.515625 27.296875 \nQ 5.515625 40.1875 11.734375 48.09375 \nQ 17.96875 56 27.875 56 \nQ 33.9375 56 38.25 53.625 \nQ 42.578125 51.265625 45.40625 46.390625 \nz\nM 14.796875 27.296875 \nQ 14.796875 17.390625 18.875 11.75 \nQ 22.953125 6.109375 30.078125 6.109375 \nQ 37.203125 6.109375 41.296875 11.75 \nQ 45.40625 17.390625 45.40625 27.296875 \nQ 45.40625 37.203125 41.296875 42.84375 \nQ 37.203125 48.484375 30.078125 48.484375 \nQ 22.953125 48.484375 18.875 42.84375 \nQ 14.796875 37.203125 14.796875 27.296875 \nz\n\" id=\"DejaVuSans-100\"/>\n     </defs>\n     <g style=\"fill:#ffffff;\" transform=\"translate(67.103125 53.594688)scale(0.1 -0.1)\">\n      <use xlink:href=\"#DejaVuSans-118\"/>\n      <use x=\"59.179688\" xlink:href=\"#DejaVuSans-97\"/>\n      <use x=\"120.458984\" xlink:href=\"#DejaVuSans-108\"/>\n      <use x=\"148.242188\" xlink:href=\"#DejaVuSans-105\"/>\n      <use x=\"176.025391\" xlink:href=\"#DejaVuSans-100\"/>\n     </g>\n    </g>\n   </g>\n  </g>\n </g>\n <defs>\n  <clipPath id=\"pb1c947708d\">\n   <rect height=\"271.8\" width=\"390.6\" x=\"30.103125\" y=\"22.318125\"/>\n  </clipPath>\n </defs>\n</svg>\n",
      "text/plain": "<Figure size 504x360 with 1 Axes>"
     },
     "metadata": {
      "needs_background": "dark"
     },
     "output_type": "display_data"
    }
   ],
   "source": [
    "model = Net(len(word_dict))\n",
    "\n",
    "opt = torch.optim.AdamW(model.parameters(), lr=learning_rate)\n",
    "criteria = torch.nn.BCELoss()\n",
    "model.to(device)\n",
    "history = {'train':[],'valid':[]}\n",
    "\n",
    "## Tensorboard\n",
    "## save path: test_experiment/\n",
    "tf_path = os.path.join(CWD, 'test_experiment')\n",
    "if not os.path.exists(tf_path):\n",
    "    os.mkdir(tf_path)\n",
    "writer = SummaryWriter(os.path.join(tf_path,config_fname))\n",
    "\n",
    "for epoch in range(max_epoch):\n",
    "    print('Epoch: {}'.format(epoch))\n",
    "    _run_epoch(epoch, 'train')\n",
    "    _run_epoch(epoch, 'valid')\n",
    "    save(epoch)\n",
    "\n",
    "# Plot the training results \n",
    "with open(os.path.join(CWD,'model/history.json'), 'r') as f:\n",
    "    history = json.loads(f.read())\n",
    "    \n",
    "train_loss = [l['loss'] for l in history['train']]\n",
    "valid_loss = [l['loss'] for l in history['valid']]\n",
    "train_f1 = [l['f1'] for l in history['train']]\n",
    "valid_f1 = [l['f1'] for l in history['valid']]\n",
    "\n",
    "plt.figure(figsize=(7,5))\n",
    "plt.title('Loss')\n",
    "plt.plot(train_loss, label='train')\n",
    "plt.plot(valid_loss, label='valid')\n",
    "plt.legend()\n",
    "plt.show()\n",
    "\n",
    "plt.figure(figsize=(7,5))\n",
    "plt.title('F1 Score')\n",
    "plt.plot(train_f1, label='train')\n",
    "plt.plot(valid_f1, label='valid')\n",
    "plt.legend()\n",
    "plt.show()\n",
    "\n",
    "print('Best F1 score ', max([[l['f1'], idx] for idx, l in enumerate(history['valid'])]))"
   ]
  },
  {
   "cell_type": "code",
   "execution_count": 49,
   "metadata": {},
   "outputs": [
    {
     "name": "stderr",
     "output_type": "stream",
     "text": "Valid: 100%|██████████| 44/44 [00:01<00:00, 39.38it/s, f1=0.66144, loss=0.164]\nPredict: 100%|██████████| 313/313 [00:16<00:00, 18.61it/s]\n"
    }
   ],
   "source": [
    "# This is the Prediction cell.\n",
    "\n",
    "# fill the epoch of the lowest val_loss to best_model\n",
    "best_model = 9\n",
    "model.load_state_dict(state_dict=torch.load(os.path.join(CWD,'model/model.pkl.{}'.format(best_model))))\n",
    "model.train(False)\n",
    "# double ckeck the best_model_score\n",
    "_run_epoch(1, 'valid')\n",
    "\n",
    "# start testing\n",
    "dataloader = DataLoader(dataset=testData,\n",
    "                            batch_size=64,\n",
    "                            shuffle=False,\n",
    "                            collate_fn=testData.collate_fn,\n",
    "                            num_workers=8)\n",
    "trange = tqdm(enumerate(dataloader), total=len(dataloader), desc='Predict')\n",
    "prediction = []\n",
    "for i, (x, y, sent_len) in trange:\n",
    "    o_labels = model(x.to(device))\n",
    "    o_labels = o_labels>0.5\n",
    "    for idx, o_label in enumerate(o_labels):\n",
    "        prediction.append(o_label[:sent_len[idx]].to('cpu'))\n",
    "prediction = torch.cat(prediction).detach().numpy().astype(int)"
   ]
  },
  {
   "cell_type": "code",
   "execution_count": 51,
   "metadata": {},
   "outputs": [],
   "source": [
    "### Helper function for creating a csv file following the submission format\n",
    "\n",
    "def SubmitGenerator(prediction, sampleFile, public=True, filename='prediction.csv'):\n",
    "    sample = pd.read_csv(sampleFile)\n",
    "    submit = {}\n",
    "    submit['order_id'] = list(sample.order_id.values)\n",
    "    redundant = len(sample) - prediction.shape[0]\n",
    "    if public:\n",
    "        submit['BACKGROUND'] = list(prediction[:,0]) + [0]*redundant\n",
    "        submit['OBJECTIVES'] = list(prediction[:,1]) + [0]*redundant\n",
    "        submit['METHODS'] = list(prediction[:,2]) + [0]*redundant\n",
    "        submit['RESULTS'] = list(prediction[:,3]) + [0]*redundant\n",
    "        submit['CONCLUSIONS'] = list(prediction[:,4]) + [0]*redundant\n",
    "        submit['OTHERS'] = list(prediction[:,5]) + [0]*redundant\n",
    "    else:\n",
    "        submit['BACKGROUND'] = [0]*redundant + list(prediction[:,0])\n",
    "        submit['OBJECTIVES'] = [0]*redundant + list(prediction[:,1])\n",
    "        submit['METHODS'] = [0]*redundant + list(prediction[:,2])\n",
    "        submit['RESULTS'] = [0]*redundant + list(prediction[:,3])\n",
    "        submit['CONCLUSIONS'] = [0]*redundant + list(prediction[:,4])\n",
    "        submit['OTHERS'] = [0]*redundant + list(prediction[:,5])\n",
    "    df = pd.DataFrame.from_dict(submit) \n",
    "    df.to_csv(filename,index=False)"
   ]
  },
  {
   "cell_type": "code",
   "execution_count": 52,
   "metadata": {},
   "outputs": [],
   "source": [
    "### Output csv for submission\n",
    "\n",
    "SubmitGenerator(prediction,\n",
    "                os.path.join(CWD,'data/task1_sample_submission.csv'), \n",
    "                True, \n",
    "                os.path.join(CWD,'submission_1106.csv'))"
   ]
  },
  {
   "cell_type": "code",
   "execution_count": 53,
   "metadata": {},
   "outputs": [],
   "source": [
    "%load_ext tensorboard"
   ]
  },
  {
   "cell_type": "code",
   "execution_count": 54,
   "metadata": {},
   "outputs": [
    {
     "data": {
      "text/plain": "Reusing TensorBoard on port 6007 (pid 24497), started 2 days, 19:44:16 ago. (Use '!kill 24497' to kill it.)"
     },
     "metadata": {},
     "output_type": "display_data"
    },
    {
     "data": {
      "text/html": "\n      <iframe id=\"tensorboard-frame-ec3d5170fc560c04\" width=\"100%\" height=\"800\" frameborder=\"0\">\n      </iframe>\n      <script>\n        (function() {\n          const frame = document.getElementById(\"tensorboard-frame-ec3d5170fc560c04\");\n          const url = new URL(\"/\", window.location);\n          url.port = 6007;\n          frame.src = url;\n        })();\n      </script>\n  ",
      "text/plain": "<IPython.core.display.HTML object>"
     },
     "metadata": {},
     "output_type": "display_data"
    }
   ],
   "source": [
    "%tensorboard --logdir=task1/test_experiment"
   ]
  }
 ],
 "metadata": {
  "kernelspec": {
   "display_name": "Python 3",
   "language": "python",
   "name": "python3"
  },
  "language_info": {
   "codemirror_mode": {
    "name": "ipython",
    "version": 3
   },
   "file_extension": ".py",
   "mimetype": "text/x-python",
   "name": "python",
   "nbconvert_exporter": "python",
   "pygments_lexer": "ipython3",
   "version": "3.7.3"
  }
 },
 "nbformat": 4,
 "nbformat_minor": 4
}